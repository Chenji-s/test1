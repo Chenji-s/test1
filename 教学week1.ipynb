{
 "cells": [
  {
   "cell_type": "markdown",
   "metadata": {},
   "source": [
    "1.1 Python 代码单元\n",
    "我们来看一个 Python 代码单元。选择下面的代码单元并运行它；\n",
    "如果一切正常，你应该会看到代码单元下方显示结果。\n"
   ]
  },
  {
   "cell_type": "code",
   "execution_count": 7,
   "metadata": {},
   "outputs": [
    {
     "name": "stdout",
     "output_type": "stream",
     "text": [
      "This is a Python code cell!\n"
     ]
    }
   ],
   "source": [
    "print('This is a Python code cell!')\n"
   ]
  },
  {
   "cell_type": "markdown",
   "metadata": {},
   "source": [
    "变量和数据类型\n",
    "Python 支持多种数据类型，包括整数、浮点数、字符串、列表等。\n",
    "你可以直接在代码单元中定义变量并输出它们的值。"
   ]
  },
  {
   "cell_type": "code",
   "execution_count": 8,
   "metadata": {},
   "outputs": [
    {
     "name": "stdout",
     "output_type": "stream",
     "text": [
      "5\n",
      "Hello, Python!\n",
      "[1, 2, 3, 4, 5]\n"
     ]
    }
   ],
   "source": [
    "# 定义一个整数变量\n",
    "a = 5\n",
    "print(a)\n",
    "\n",
    "# 定义一个字符串变量\n",
    "b = \"Hello, Python!\"\n",
    "print(b)\n",
    "\n",
    "# 定义一个列表\n",
    "c = [1, 2, 3, 4, 5]\n",
    "print(c)"
   ]
  },
  {
   "cell_type": "markdown",
   "metadata": {},
   "source": [
    "Python 作为计算器\n",
    "\n",
    "\n"
   ]
  },
  {
   "cell_type": "code",
   "execution_count": 9,
   "metadata": {},
   "outputs": [
    {
     "name": "stdout",
     "output_type": "stream",
     "text": [
      "5\n",
      "-1\n",
      "6\n",
      "0.6666666666666666\n",
      "8\n",
      "7.6\n",
      "7\n",
      "3\n"
     ]
    }
   ],
   "source": [
    "print(2 + 3) \n",
    "print(2 - 3)\n",
    "print(2 * 3)\n",
    "print(2 / 3)  #除法\n",
    "print(2 ** 3) # **表示幂运算，输出2的三次方\n",
    "\n",
    "print(38 / 5)  #执行除法，输出浮点数，结果为7.6。\n",
    "print(38 // 5) #执行地板除法，返回整除后的结果，输出7。\n",
    "print(38 % 5)  #执行取余运算，返回38除以5后的余数，输出3。"
   ]
  },
  {
   "cell_type": "markdown",
   "metadata": {},
   "source": [
    "4 Variable Assignment（变量赋值）\n",
    "在Python中，你可以将值赋给变量，这意味着你可以通过变量名来引用数据。\n",
    "Python中的变量赋值不像数学中的等式，Python会按照顺序执行你定义的命令。\n",
    "\n"
   ]
  },
  {
   "cell_type": "code",
   "execution_count": 10,
   "metadata": {},
   "outputs": [
    {
     "name": "stdout",
     "output_type": "stream",
     "text": [
      "1\n",
      "9\n"
     ]
    }
   ],
   "source": [
    "x = 1\n",
    "y = x\n",
    "x = 2\n",
    "print(y)\n",
    "\n",
    "\n",
    "a = 8\n",
    "a = a + 1\n",
    "print(a)"
   ]
  },
  {
   "cell_type": "markdown",
   "metadata": {},
   "source": [
    "type()\n",
    "该函数用于查看对象的类型。以下是代码示例："
   ]
  },
  {
   "cell_type": "code",
   "execution_count": 1,
   "metadata": {},
   "outputs": [
    {
     "name": "stdout",
     "output_type": "stream",
     "text": [
      "<class 'int'> <class 'float'> <class 'str'>\n"
     ]
    }
   ],
   "source": [
    "x = 2\n",
    "y = 3.5\n",
    "z = 'abc'\n",
    "\n",
    "print(type(x), type(y), type(z))\n",
    "\n",
    "#type(x) 返回 int，表示x是一个整数类型。\n",
    "#type(y) 返回 float，表示y是一个浮点数类型。\n",
    "#type(z) 返回 str，表示z是一个字符串类型。"
   ]
  },
  {
   "cell_type": "markdown",
   "metadata": {},
   "source": [
    "2 Strings\n",
    "字符串对象是由一组文本字符组成的，可以用单引号或双引号来表示。\n",
    "字符串类型用 str 表示。以下是代码示例："
   ]
  },
  {
   "cell_type": "code",
   "execution_count": 2,
   "metadata": {},
   "outputs": [
    {
     "name": "stdout",
     "output_type": "stream",
     "text": [
      "Hello I am a string of letters!\n",
      "<class 'str'>\n",
      "I am also a string\n"
     ]
    }
   ],
   "source": [
    "test_string = \"Hello I am a string of letters!\"\n",
    "print(test_string)\n",
    "print(type(test_string))\n",
    "\n",
    "second_test_string = 'I am also a string'\n",
    "print(second_test_string)\n",
    "\n",
    "#test_string = 定义了一个字符串，内容为 \"Hello I am a string of letters!\"。\n",
    "#print(test_string)：输出该字符串的内容。\n",
    "#print(type(test_string))：输出 test_string 的类型，结果为 str，表示它是一个字符串。\n",
    "#second_test_string = 'I am also a string'：同样可以使用单引号来定义字符串。"
   ]
  },
  {
   "cell_type": "markdown",
   "metadata": {},
   "source": [
    "3 Booleans\n",
    "布尔类型 (Boolean) 是一种特殊的数据类型，它只有两个可能的取值：True 和 False。\n",
    "在Python中，布尔类型是通过关键字 True 和 False 来表示的。"
   ]
  },
  {
   "cell_type": "code",
   "execution_count": 3,
   "metadata": {},
   "outputs": [
    {
     "name": "stdout",
     "output_type": "stream",
     "text": [
      "True\n",
      "False\n",
      "True\n"
     ]
    }
   ],
   "source": [
    "print(3 > 2)\n",
    "print(3 == 2)\n",
    "print(3 != 2)\n",
    "\n"
   ]
  },
  {
   "cell_type": "markdown",
   "metadata": {},
   "source": [
    "3.2 布尔运算符（Boolean Operators）\n",
    "\n",
    "在Python中，布尔运算符可以用于组合或操作布尔表达式。常见的布尔运算符包括：\n",
    "\n",
    "and：当且仅当两个表达式都为True时，返回True。\n",
    "or：只要有一个表达式为True，就返回True。\n",
    "not：对布尔表达式取反，如果表达式为True，那么not将返回False，反之亦然。\n"
   ]
  },
  {
   "cell_type": "code",
   "execution_count": 4,
   "metadata": {},
   "outputs": [
    {
     "name": "stdout",
     "output_type": "stream",
     "text": [
      "False\n",
      "True\n",
      "False\n"
     ]
    }
   ],
   "source": [
    "\n",
    "x = True\n",
    "y = False\n",
    "\n",
    "print(x and y)  # False，因为y是False\n",
    "print(x or y)   # True，因为x是True\n",
    "print(not x)    # False，因为x是True，取反后为False"
   ]
  },
  {
   "cell_type": "markdown",
   "metadata": {},
   "source": [
    "4. Integers（整数）\n",
    "Python可以无限精度地表示整数(即，任意大，只要内存中有剩余空间来存储它们!)。\n",
    "整数类型用int表示。我们可以用通常的方法对整数进行加、减、乘、除运算:\n",
    "\n",
    "\n",
    "5. Floating Point Numbers（浮点数）\n",
    "浮点数（float）是用来表示带有小数点的数字。\n",
    "它们可以表示非常大的或非常小的数字，并且可以包含小数部分。"
   ]
  },
  {
   "cell_type": "code",
   "execution_count": 5,
   "metadata": {},
   "outputs": [
    {
     "name": "stdout",
     "output_type": "stream",
     "text": [
      "15.344\n",
      "999.0\n",
      "22.8\n",
      "1.6e-05\n",
      "<class 'float'>\n"
     ]
    }
   ],
   "source": [
    "print(3.456 + 11.888)\n",
    "print(99.9 / 0.1)\n",
    "print(2.0 * 11.4)\n",
    "print(1.5e-5 + 1.0e-6)\n",
    "print(type(2.0 * 11.4))"
   ]
  },
  {
   "cell_type": "markdown",
   "metadata": {},
   "source": [
    "6. Type-casting（类型转换）\n",
    "类型转换是指将一种数据类型转换为另一种数据类型。\n",
    "Python提供了几个内置函数来进行显式类型转换，比如 int()、float() 和 str()\n",
    "'''\n",
    "#手动类型转换：有时，我们需要显式地改变对象的类型。\n",
    "# 这可以通过内置函数如 int()、float() 或 str() 来完成。\n",
    "\n"
   ]
  },
  {
   "cell_type": "code",
   "execution_count": 6,
   "metadata": {},
   "outputs": [
    {
     "name": "stdout",
     "output_type": "stream",
     "text": [
      "<class 'int'>\n",
      "2566.0\n",
      "2566\n",
      "273.0\n",
      "273\n"
     ]
    }
   ],
   "source": [
    "i = 2566\n",
    "print(type(i))        # 输出 <class 'int'>\n",
    "print(float(i))       # 输出 2566.0，转换为浮点数\n",
    "print(str(i))         # 输出 '2566'，转换为字符串\n",
    "\n",
    "string_number = '273'\n",
    "print(float(string_number))  # 输出 273.0，字符串转换为浮点数\n",
    "print(int(string_number))    # 输出 273，字符串转换为整数"
   ]
  },
  {
   "cell_type": "markdown",
   "metadata": {},
   "source": [
    "1. Importing extra tools\n",
    "Python可以通过导入模块和包来扩展其基本功能。模块和包中包含了额外的命令（例如函数、常量等），使得Python的功能更加丰富。\n",
    "\n",
    "模块和包的区别：\n",
    "\n",
    "模块（module） 是单个文件，包含一些函数、变量、类等。\n",
    "包（package） 是一个包含多个模块的集合，通常带有一个 __init__.py 文件。\n",
    "Python有很多内置模块，无需安装就可以直接使用；而有些则是第三方库，需要先安装。\n",
    "\n",
    "在使用某个模块或包中的命令之前，首先需要导入它们。\n",
    "\n",
    "代码示例："
   ]
  },
  {
   "cell_type": "code",
   "execution_count": 11,
   "metadata": {},
   "outputs": [
    {
     "name": "stdout",
     "output_type": "stream",
     "text": [
      "0.7071067811865475\n"
     ]
    }
   ],
   "source": [
    "import math\n",
    "print(math.sin(math.pi / 4))"
   ]
  },
  {
   "cell_type": "markdown",
   "metadata": {},
   "source": [
    "使用Numpy模块：\n",
    "Numpy 是Python的一个流行库，用于数值计算，特别是处理多维数组和矩阵运算。与math模块相比，numpy 包含更多高级的数学功能和工具。"
   ]
  },
  {
   "cell_type": "code",
   "execution_count": 12,
   "metadata": {},
   "outputs": [
    {
     "name": "stdout",
     "output_type": "stream",
     "text": [
      "0.7071067811865475\n",
      "0.7071067811865475\n"
     ]
    }
   ],
   "source": [
    "import numpy\n",
    "print(numpy.sin(numpy.pi / 4))\n",
    "\n",
    "#为了避免每次都写完整的模块名，我们可以在导入模块时使用简写。numpy 通常缩写为 np：\n",
    "\n",
    "\n",
    "import numpy as np\n",
    "print(np.sin(np.pi / 4))"
   ]
  }
 ],
 "metadata": {
  "kernelspec": {
   "display_name": "Python 3",
   "language": "python",
   "name": "python3"
  },
  "language_info": {
   "codemirror_mode": {
    "name": "ipython",
    "version": 3
   },
   "file_extension": ".py",
   "mimetype": "text/x-python",
   "name": "python",
   "nbconvert_exporter": "python",
   "pygments_lexer": "ipython3",
   "version": "3.11.5"
  }
 },
 "nbformat": 4,
 "nbformat_minor": 2
}
