{
 "cells": [
  {
   "cell_type": "markdown",
   "metadata": {},
   "source": [
    "\n",
    "第四部分\n",
    "1. 一组数字可以用来表示，例如，一个向量。创建一个列表my_mat来表示单位矩阵，2*2:\n",
    " 1  0\n",
    " 0  1\n",
    " 然后，使用.append()方法修改my_mat以表示3*3单位矩阵。"
   ]
  },
  {
   "cell_type": "code",
   "execution_count": 3,
   "metadata": {},
   "outputs": [
    {
     "name": "stdout",
     "output_type": "stream",
     "text": [
      "[[1, 0], [0, 1]]\n",
      "[[1, 0, 0], [0, 1, 0]]\n",
      "[[1, 0, 0], [0, 1, 0], [0, 0, 1]]\n"
     ]
    }
   ],
   "source": [
    "# 创建2x2单位矩阵\n",
    "my_mat = [[1, 0], [0, 1]]\n",
    "print(my_mat)\n",
    "# 添加\n",
    "my_mat[0].append(0)\n",
    "my_mat[1].append(0)\n",
    "print(my_mat)\n",
    "# 将第三行添加到行列表中\n",
    "my_mat.append([0, 0, 1])\n",
    "print(my_mat)"
   ]
  },
  {
   "cell_type": "markdown",
   "metadata": {},
   "source": [
    "下面的代码定义了2个列表，其中包含5只猫的名字和它们各自的年龄(顺序相同)。编写代码显示最老的猫的名字，最小的猫的名字，以及5只猫的平均年龄。\n",
    "\n",
    "你的代码应该适用于至少2个猫的名字和年龄，而不仅仅是下面的例子。\n",
    "\n",
    "提示:您需要在列表cat_ages中找到最小和最大年龄的索引(位置)，并使用它在列表cat_names中找到正确的名称。平均年龄可以计算为所有年龄的总和，除以猫的总数。"
   ]
  },
  {
   "cell_type": "code",
   "execution_count": 1,
   "metadata": {},
   "outputs": [
    {
     "name": "stdout",
     "output_type": "stream",
     "text": [
      "Butterscotch is the oldest cat (12 years old).\n",
      "Muffin is the youngest cat (3 years old).\n",
      "The average age of these 5 cats is 7.6 years old.\n"
     ]
    }
   ],
   "source": [
    "cat_names = ['Olive', 'Muffin', 'Butterscotch', 'Mister Beans', 'Nala']\n",
    "cat_ages = [7, 3, 12, 11, 5]\n",
    "\n",
    "# 找到位置并显示最老的猫的名字\n",
    "oldest_pos = cat_ages.index(max(cat_ages))\n",
    "oldest_cat = cat_names[oldest_pos]\n",
    "oldest_age = cat_ages[oldest_pos]\n",
    "print(f'{oldest_cat} is the oldest cat ({oldest_age} years old).')\n",
    "\n",
    "# 最小的\n",
    "youngest_pos = cat_ages.index(min(cat_ages))\n",
    "youngest_cat = cat_names[youngest_pos]\n",
    "youngest_age = cat_ages[youngest_pos]\n",
    "print(f'{youngest_cat} is the youngest cat ({youngest_age} years old).')\n",
    "\n",
    "# 平均\n",
    "average_age = sum(cat_ages) / len(cat_ages)\n",
    "print(f'The average age of these {len(cat_ages)} cats is {average_age} years old.')"
   ]
  },
  {
   "cell_type": "markdown",
   "metadata": {},
   "source": [
    "考虑下面的列表。什么是最简洁的方法来创建一个新的列表m_back，它取列表m的值，向后?换句话说，应该显示print(m_back)"
   ]
  },
  {
   "cell_type": "code",
   "execution_count": 2,
   "metadata": {},
   "outputs": [
    {
     "name": "stdout",
     "output_type": "stream",
     "text": [
      "['e', 'd', 'c', 'b', 'a']\n"
     ]
    }
   ],
   "source": [
    "\n",
    "m = ['a', 'b', 'c', 'd', 'e']\n",
    "m_back = m[::-1]\n",
    "print(m_back)"
   ]
  },
  {
   "cell_type": "code",
   "execution_count": 3,
   "metadata": {},
   "outputs": [
    {
     "name": "stdout",
     "output_type": "stream",
     "text": [
      "Does the list have length n now? True\n",
      "[1, 1, 4.141592653589793, 1, 1, 3.141592653589793]\n"
     ]
    }
   ],
   "source": [
    "\n",
    "import math\n",
    "\n",
    "# Create a list of n-1 ones\n",
    "n = 6\n",
    "my_list = [1] * (n-1)\n",
    "\n",
    "# Append pi, check length\n",
    "my_list.append(math.pi)\n",
    "print('Does the list have length n now?', len(my_list) == n)\n",
    "\n",
    "# Change the value of the 3rd element\n",
    "my_list[2] = sum(my_list[4:])\n",
    "print(my_list)"
   ]
  },
  {
   "cell_type": "markdown",
   "metadata": {},
   "source": [
    "编写一个 for 循环来遍历以下列表，并打印每个元素的平方："
   ]
  },
  {
   "cell_type": "code",
   "execution_count": 8,
   "metadata": {},
   "outputs": [
    {
     "name": "stdout",
     "output_type": "stream",
     "text": [
      "1\n",
      "4\n",
      "9\n",
      "16\n",
      "25\n"
     ]
    }
   ],
   "source": [
    "numbers = [1, 2, 3, 4, 5]\n",
    "for number in numbers:\n",
    "    print(number ** 2)"
   ]
  },
  {
   "cell_type": "code",
   "execution_count": 9,
   "metadata": {},
   "outputs": [
    {
     "name": "stdout",
     "output_type": "stream",
     "text": [
      "19386192354630917063625\n"
     ]
    }
   ],
   "source": [
    "# Set n and initialise P\n",
    "n = 10\n",
    "P = 1\n",
    "\n",
    "# Loop from j=2 to j=n\n",
    "for j in range(2, n+1):\n",
    "    # Multiply each term in succession\n",
    "    P = P * (j**3 + 5*j**2 - 3)\n",
    "print(P)"
   ]
  },
  {
   "cell_type": "markdown",
   "metadata": {},
   "source": [
    "\n",
    "<span class=\"theorem-title\">**🚩 Exercise 1**</span> Define functions\n",
    "`f`, `g`, `h` which can evaluate the following mathematical functions:\n",
    "\n",
    "$$\n",
    "f(z) = z^2 - 8\n",
    "\\qquad\n",
    "g(x, y) = 2xy\n",
    "\\qquad\n",
    "h(t) = \\frac{g(t, t)}{f(t)}\n",
    "$$\n",
    "\n",
    "Then, print the value of $h(3)$."
   ]
  },
  {
   "cell_type": "code",
   "execution_count": 10,
   "metadata": {},
   "outputs": [
    {
     "name": "stdout",
     "output_type": "stream",
     "text": [
      "18.0\n"
     ]
    }
   ],
   "source": [
    "def f(z):\n",
    "    return z**2-8\n",
    "def g(x,y):\n",
    "    return 2*x*y\n",
    "def h(t):\n",
    "    return g(t,t)/f(t)\n",
    "\n",
    "print(h(3))"
   ]
  },
  {
   "cell_type": "markdown",
   "metadata": {},
   "source": [
    "下面的函数preview_list()显示列表列表的前n个元素，一个接一个，后面跟着一个空行('\\n'表示\"新行\")。将函数更改为:\n",
    "\n",
    "在列表元素之前显示一个标题(例如“这里是前5个元素:”)，它根据n的值而变化;\n",
    "如果未指定n值，则默认显示前3个元素。例如，preview_list([6, 5, 4, 3, 2])应该显示6,5和4，"
   ]
  },
  {
   "cell_type": "code",
   "execution_count": 12,
   "metadata": {},
   "outputs": [
    {
     "name": "stdout",
     "output_type": "stream",
     "text": [
      "Here are the first 4 elements of lst:\n",
      "cat\n",
      "lion\n",
      "tiger\n",
      "panther\n",
      "\n",
      "\n",
      "Here are the first 1 elements of lst:\n",
      "cat\n",
      "\n",
      "\n",
      "Here are the first 4 elements of lst:\n",
      "10\n",
      "20\n",
      "30\n",
      "40\n",
      "\n",
      "\n",
      "Here are the first 3 elements of lst:\n",
      "6\n",
      "5\n",
      "4\n",
      "\n",
      "\n"
     ]
    }
   ],
   "source": [
    "def preview_list(lst, n=3):\n",
    "\n",
    "    #预览列表list的前n个元素。\n",
    "    print(f'Here are the first {n} elements of lst:')\n",
    "    for i in range(n):\n",
    "        print(lst[i])\n",
    "    print('\\n')\n",
    "\n",
    "# Calling the function\n",
    "preview_list(['cat', 'lion', 'tiger', 'panther', 'jaguar', 'leopard'], 4)\n",
    "preview_list(['cat', 'lion', 'tiger', 'panther', 'jaguar', 'leopard'], 1)\n",
    "preview_list([10, 20, 30, 40, 50, 60, 70, 80], 4)\n",
    "preview_list([6, 5, 4, 3, 2])   # now works!"
   ]
  },
  {
   "cell_type": "markdown",
   "metadata": {},
   "source": [
    "<span class=\"theorem-title\">**🚩 Exercise 3**</span> 写一个函数 ' compute＿P() '，它接受一个输入参数' n '，表示一个整数 $n \\geq 2$，并返回前面为此定义的产品$P$ 特别值$n$:\n",
    "\n",
    "$$\n",
    "P = \\prod_{j=2}^{n} \\left(j^3 + 5j^2 - 3\\right).\n",
    "$$\n",
    "\n",
    "For example, `print(compute_P(7))` should display `13811904975375`.\n"
   ]
  },
  {
   "cell_type": "code",
   "execution_count": 13,
   "metadata": {},
   "outputs": [
    {
     "name": "stdout",
     "output_type": "stream",
     "text": [
      "13811904975375\n"
     ]
    }
   ],
   "source": [
    "def compute_P(n):\n",
    "    # Initialise P\n",
    "    P = 1\n",
    "    for j in range(2, n+1):\n",
    "        P *= j**3 + 5*j**2 - 3\n",
    "    return P\n",
    "\n",
    "print(compute_P(7))"
   ]
  },
  {
   "cell_type": "markdown",
   "metadata": {},
   "source": [
    "workshop 3\n",
    "\n",
    "1这道练习要求使用调试器来调试函数 primes_up_to()。该函数旨在构建小于或等于给定整数 n 的所有素数的列表。提示中提到函数中有两个错误。你可以通过设置多个断点，在每次断点处检查 i 和 j 的值，找出问题所在。"
   ]
  },
  {
   "cell_type": "code",
   "execution_count": 2,
   "metadata": {},
   "outputs": [
    {
     "name": "stdout",
     "output_type": "stream",
     "text": [
      "[]\n",
      "[]\n"
     ]
    }
   ],
   "source": [
    "def primes_up_to(n):\n",
    "    '''\n",
    "    Builds a list of all prime numbers smaller\n",
    "    than or equal to n.\n",
    "    \n",
    "    Input: n (int), a positive integer.\n",
    "    Output: a list of primes smaller than or equal to n.\n",
    "    '''\n",
    "    # Start with an empty list\n",
    "    primes = []\n",
    "    \n",
    "    # Test all integers from 2 to n\n",
    "    for i in range(2, n):\n",
    "        \n",
    "        # Start by assuming that i is prime\n",
    "        is_prime = True\n",
    "        \n",
    "        # Try dividing i by all integers up to itself\n",
    "        for j in range(1, i):\n",
    "            # If j divides i, then i is not prime\n",
    "            if i%j == 0:\n",
    "                is_prime = False\n",
    "                \n",
    "        # If we finished the loop without finding a divisor,\n",
    "        # then i is prime\n",
    "        if is_prime:\n",
    "            primes.append(i)\n",
    "    return primes\n",
    "\n",
    "# Result should be [2, 3, 5, 7]\n",
    "print(primes_up_to(8))\n",
    "\n",
    "# Result should be [2, 3, 5]\n",
    "print(primes_up_to(5))"
   ]
  },
  {
   "cell_type": "code",
   "execution_count": 5,
   "metadata": {},
   "outputs": [
    {
     "name": "stdout",
     "output_type": "stream",
     "text": [
      "[2, 3, 5, 7]\n"
     ]
    }
   ],
   "source": [
    "#practice\n",
    "\n",
    "def primes_up_to(n):\n",
    "    primes = []\n",
    "    \n",
    "    for i in range(2, n + 1):  \n",
    "    #n is not included in the scope, which means that when primes_up_to(8), \n",
    "    # 8 will not be included in the check scope.\n",
    "        is_prime = True\n",
    "        \n",
    "        for j in range(2, i):  \n",
    "    #j starts at 1, which means that all numbers are divisible by 1, \n",
    "    # which incorrectly marks some numbers as non-prime. I should start with j = 2.\n",
    "            if i % j == 0:\n",
    "                is_prime = False\n",
    "        \n",
    "        if is_prime:\n",
    "            primes.append(i)\n",
    "    \n",
    "    return primes\n",
    "\n",
    "print(primes_up_to(8))\n"
   ]
  },
  {
   "cell_type": "markdown",
   "metadata": {},
   "source": [
    "task1：\n",
    "The goal of this function is to calculate the day of the year, and day_of_year(day_of_month, month, year) does this by checking the month and adding up the number of days.\n",
    "\n",
    "1. 2月的处理：2月默认累加了31天（即1月的天数），但它没有考虑到闰年的情况。如果该年是闰年，2月应有29天，而非28天。代码中的2月部分忽略了这一点。\n",
    "2. 每个月份都手动写出了要累加的天数，导致代码冗长且容易出错。"
   ]
  },
  {
   "cell_type": "markdown",
   "metadata": {},
   "source": [
    "task2:\n",
    "Assuming February becomes 30 days, you need to change everything that involves the number of days in February, that is, everything except January and February"
   ]
  },
  {
   "cell_type": "code",
   "execution_count": 8,
   "metadata": {},
   "outputs": [
    {
     "name": "stdout",
     "output_type": "stream",
     "text": [
      "136\n"
     ]
    }
   ],
   "source": [
    "#task3\n",
    "def day_of_year(day_of_month, month, year):\n",
    "    # The days of each month\n",
    "    month_length = [31, 28, 31, 30, 31, 30, 31, 31, 30, 31, 30, 31]\n",
    "    \n",
    "    # If it is a leap year, adjust the number of days in February\n",
    "    if (year % 4 == 0 and year % 100 != 0) or (year % 400 == 0):\n",
    "        month_length[1] = 29\n",
    "    \n",
    "    # Add up the days of the previous months\n",
    "    return day_of_month + sum(month_length[:month - 1])\n",
    "\n",
    "# sample\n",
    "print(day_of_year(15, 5, 2024))  \n",
    "# Output: 136, indicating that May 15, 2024 is the 136th day of the year\n"
   ]
  },
  {
   "cell_type": "markdown",
   "metadata": {},
   "source": [
    "Task 4：\n",
    "Introduce a new variable to hold the total number of days,  to make the code clearer,here I use day_of_year_total."
   ]
  },
  {
   "cell_type": "code",
   "execution_count": 10,
   "metadata": {},
   "outputs": [
    {
     "name": "stdout",
     "output_type": "stream",
     "text": [
      "136\n"
     ]
    }
   ],
   "source": [
    "def day_of_year(day_of_month, month, year):\n",
    "    # The days of each month\n",
    "    month_length = [31, 28, 31, 30, 31, 30, 31, 31, 30, 31, 30, 31]\n",
    "    \n",
    "    # If it is a leap year, adjust the number of days in February\n",
    "    if (year % 4 == 0 and year % 100 != 0) or (year % 400 == 0):\n",
    "        month_length[1] = 29  # In leap years, February has 29 days\n",
    "\n",
    "    # # Use the new variable day_of_year_total to add up the number of days in the previous months\n",
    "    day_of_year_total = day_of_month + sum(month_length[:month - 1])\n",
    "\n",
    "    return day_of_year_total\n",
    "\n",
    "# sample\n",
    "print(day_of_year(15, 5, 2024))  \n",
    "#The result is the same as before, the code runs without problems"
   ]
  },
  {
   "cell_type": "markdown",
   "metadata": {},
   "source": [
    "task5:\n",
    "Continue testing the improved function to make sure it gets the correct results for both leap and non-leap years"
   ]
  },
  {
   "cell_type": "code",
   "execution_count": 13,
   "metadata": {},
   "outputs": [
    {
     "name": "stdout",
     "output_type": "stream",
     "text": [
      "136\n",
      "135\n",
      "136\n",
      "135\n"
     ]
    }
   ],
   "source": [
    "def day_of_year(day_of_month, month, year):\n",
    "    month_length = [31, 28, 31, 30, 31, 30, 31, 31, 30, 31, 30, 31]\n",
    "    \n",
    "    if (year % 4 == 0 and year % 100 != 0) or (year % 400 == 0):\n",
    "        month_length[1] = 29  # In leap years, February has 29 days\n",
    "    day_of_year_total = day_of_month + sum(month_length[:month - 1])\n",
    "\n",
    "    return day_of_year_total\n",
    "\n",
    "# sample\n",
    "print(day_of_year(15, 5, 2024))  \n",
    "print(day_of_year(15, 5, 2025))  \n",
    "print(day_of_year(15, 5, 2000)) \n",
    "print(day_of_year(15, 5, 2100))   \n",
    "#In the results for leap years (2024 and 2000) and non-leap years (2025 and 2100), \n",
    "#the former is 136 and the latter 135. Code proof\n"
   ]
  },
  {
   "cell_type": "markdown",
   "metadata": {},
   "source": [
    "task6:Check whether the input value is valid"
   ]
  },
  {
   "cell_type": "code",
   "execution_count": 24,
   "metadata": {},
   "outputs": [
    {
     "ename": "ValueError",
     "evalue": "Please choose a month between 1 (January) and 12 (December)!",
     "output_type": "error",
     "traceback": [
      "\u001b[0;31m---------------------------------------------------------------------------\u001b[0m",
      "\u001b[0;31mValueError\u001b[0m                                Traceback (most recent call last)",
      "Cell \u001b[0;32mIn[24], line 18\u001b[0m\n\u001b[1;32m     15\u001b[0m     \u001b[38;5;28;01mreturn\u001b[39;00m day_of_year_total\n\u001b[1;32m     17\u001b[0m \u001b[38;5;66;03m# 测试\u001b[39;00m\n\u001b[0;32m---> 18\u001b[0m \u001b[38;5;28mprint\u001b[39m(day_of_year(\u001b[38;5;241m2\u001b[39m, \u001b[38;5;241m14\u001b[39m, \u001b[38;5;241m1989\u001b[39m))  \u001b[38;5;66;03m# Error, the month is out of range\u001b[39;00m\n\u001b[1;32m     19\u001b[0m \u001b[38;5;28mprint\u001b[39m(day_of_year(\u001b[38;5;241m31\u001b[39m, \u001b[38;5;241m2\u001b[39m, \u001b[38;5;241m2025\u001b[39m))\n",
      "Cell \u001b[0;32mIn[24], line 5\u001b[0m, in \u001b[0;36mday_of_year\u001b[0;34m(day_of_month, month, year)\u001b[0m\n\u001b[1;32m      3\u001b[0m \u001b[38;5;66;03m# Check if the month is valid\u001b[39;00m\n\u001b[1;32m      4\u001b[0m     \u001b[38;5;28;01mif\u001b[39;00m month \u001b[38;5;241m<\u001b[39m \u001b[38;5;241m1\u001b[39m \u001b[38;5;129;01mor\u001b[39;00m month \u001b[38;5;241m>\u001b[39m \u001b[38;5;241m12\u001b[39m:\n\u001b[0;32m----> 5\u001b[0m         \u001b[38;5;28;01mraise\u001b[39;00m \u001b[38;5;167;01mValueError\u001b[39;00m(\u001b[38;5;124m'\u001b[39m\u001b[38;5;124mPlease choose a month between 1 (January) and 12 (December)!\u001b[39m\u001b[38;5;124m'\u001b[39m)\n\u001b[1;32m      7\u001b[0m     \u001b[38;5;28;01mif\u001b[39;00m (year \u001b[38;5;241m%\u001b[39m \u001b[38;5;241m4\u001b[39m \u001b[38;5;241m==\u001b[39m \u001b[38;5;241m0\u001b[39m \u001b[38;5;129;01mand\u001b[39;00m year \u001b[38;5;241m%\u001b[39m \u001b[38;5;241m100\u001b[39m \u001b[38;5;241m!=\u001b[39m \u001b[38;5;241m0\u001b[39m) \u001b[38;5;129;01mor\u001b[39;00m (year \u001b[38;5;241m%\u001b[39m \u001b[38;5;241m400\u001b[39m \u001b[38;5;241m==\u001b[39m \u001b[38;5;241m0\u001b[39m):\n\u001b[1;32m      8\u001b[0m         month_length[\u001b[38;5;241m1\u001b[39m] \u001b[38;5;241m=\u001b[39m \u001b[38;5;241m29\u001b[39m  \u001b[38;5;66;03m# In leap years, February has 29 days\u001b[39;00m\n",
      "\u001b[0;31mValueError\u001b[0m: Please choose a month between 1 (January) and 12 (December)!"
     ]
    }
   ],
   "source": [
    "def day_of_year(day_of_month, month, year):\n",
    "    month_length = [31, 28, 31, 30, 31, 30, 31, 31, 30, 31, 30, 31]\n",
    "# Check if the month is valid\n",
    "    if month < 1 or month > 12:\n",
    "        raise ValueError('Please choose a month between 1 (January) and 12 (December)!')\n",
    "    \n",
    "    if (year % 4 == 0 and year % 100 != 0) or (year % 400 == 0):\n",
    "        month_length[1] = 29  # In leap years, February has 29 days\n",
    "# Check if the date is valid\n",
    "    if day_of_month < 1 or day_of_month > month_length[month-1]:\n",
    "        raise ValueError('Please choose a correct')\n",
    "    \n",
    "    day_of_year_total = day_of_month + sum(month_length[:month - 1])\n",
    "\n",
    "    return day_of_year_total\n",
    "\n",
    "# test\n",
    "print(day_of_year(2, 14, 1989))  # Error, the month is out of range\n",
    "print(day_of_year(31, 2, 2025))  # No, there are not 31 days in February"
   ]
  },
  {
   "cell_type": "markdown",
   "metadata": {},
   "source": [
    "task 7: Processing floating-point input"
   ]
  },
  {
   "cell_type": "code",
   "execution_count": 4,
   "metadata": {},
   "outputs": [
    {
     "name": "stdout",
     "output_type": "stream",
     "text": [
      "Rounding day_of_month from 2.1 to 2.\n",
      "Rounding month from 11.4 to 11.\n",
      "307\n"
     ]
    }
   ],
   "source": [
    "def day_of_year(day_of_month, month, year):\n",
    "    month_length = [31, 28, 31, 30, 31, 30, 31, 31, 30, 31, 30, 31]\n",
    "\n",
    "# If the input is a floating point number, round to an integer\n",
    "    if isinstance(day_of_month, float):\n",
    "        print(f\"Rounding day_of_month from {day_of_month} to {round(day_of_month)}.\")\n",
    "        day_of_month = round(day_of_month)\n",
    "    if isinstance(month, float):\n",
    "        print(f\"Rounding month from {month} to {round(month)}.\")\n",
    "        month = round(month)\n",
    "    if isinstance(year, float):\n",
    "        print(f\"Rounding year from {year} to {round(year)}.\")\n",
    "        year = round(year)\n",
    "\n",
    "# Check if the month is valid\n",
    "    if month < 1 or month > 12:\n",
    "        raise ValueError('Please choose a month between 1 (January) and 12 (December)!')\n",
    "    \n",
    "    if (year % 4 == 0 and year % 100 != 0) or (year % 400 == 0):\n",
    "        month_length[1] = 29  # In leap years, February has 29 days\n",
    "# Check if the date is valid\n",
    "    if day_of_month < 1 or day_of_month > month_length[month-1]:\n",
    "        raise ValueError('Please choose a correct')\n",
    "    \n",
    "    day_of_year_total = day_of_month + sum(month_length[:month - 1])\n",
    "\n",
    "    return day_of_year_total\n",
    "\n",
    "# test\n",
    "print(day_of_year(2.1, 11.4, 2024))  \n"
   ]
  },
  {
   "cell_type": "code",
   "execution_count": 8,
   "metadata": {},
   "outputs": [
    {
     "name": "stdout",
     "output_type": "stream",
     "text": [
      "This student has passed.\n",
      "This student has passed.\n",
      "This student has passed.\n",
      "This student has passed.\n",
      "This student has passed.\n",
      "This student has not passed.\n",
      "This student has not passed.\n"
     ]
    }
   ],
   "source": [
    "def student_pass(score1, score2, score3):\n",
    "    # Insert your code here\n",
    "    m = 0                                     # Record the number of exams with scores greater than or equal to 40\n",
    "    n = [score1,score2,score3]                # Store grades in an array\n",
    "    average_score = sum(n) / 3                # Calculate the average score\n",
    "    for i in range(3):\n",
    "        if n[i] >= 40:\n",
    "            m = m + 1                         # Calculate the number of exams with scores greater than or equal to 40\n",
    "    if m == 3:\n",
    "        print(\"This student has passed.\")     # All three exam scores are greater than or equal to 40\n",
    "    elif m == 2 and average_score > 50:\n",
    "        print(\"This student has passed.\")     #The scores of two of the exams are greater than or equal to 40, and the average score is greater than 50\n",
    "    else:\n",
    "        print(\"This student has not passed.\") # Other situations\n",
    "        \n",
    "\n",
    "\n",
    "        \n",
    "student_pass(70, 50, 35)\t\n",
    "student_pass(50, 60, 70)\n",
    "student_pass(20, 90, 90)\n",
    "student_pass(22, 84, 56)\n",
    "student_pass(42, 45, 40)\n",
    "student_pass(70, 50, 30)\n",
    "student_pass(20, 30, 40)\n"
   ]
  },
  {
   "cell_type": "code",
   "execution_count": 6,
   "metadata": {},
   "outputs": [
    {
     "name": "stdout",
     "output_type": "stream",
     "text": [
      "Original array: [31, 15, 62, 47, 8]\n",
      "Sorted array: [8, 15, 31, 47, 62]\n"
     ]
    }
   ],
   "source": [
    "# task1 冒泡排序函数 Bubble sort function\n",
    "def bubble_sort(arr):\n",
    "    n = len(arr)\n",
    "    # 外层循环控制整个数组的轮次 The outer loop controls the rotation of the entire array\n",
    "    for i in range(n):\n",
    "        # 内层循环比较相邻的元素 The inner loop compares adjacent elements\n",
    "        for j in range(0, n-i-1):\n",
    "            # 如果前一个元素大于后一个元素，则交换 If the previous element is greater than the next, it is swapped\n",
    "            if arr[j] > arr[j+1]:\n",
    "                arr[j], arr[j+1] = arr[j+1], arr[j]\n",
    "    return arr\n",
    "\n",
    "if __name__ == \"__main__\":\n",
    "    test_array = [31, 15, 62, 47, 8]\n",
    "    print(\"Original array:\", test_array)\n",
    "    sorted_array = bubble_sort(test_array.copy())\n",
    "    print(\"Sorted array:\", sorted_array)\n"
   ]
  },
  {
   "cell_type": "code",
   "execution_count": 7,
   "metadata": {},
   "outputs": [
    {
     "name": "stdout",
     "output_type": "stream",
     "text": [
      "Array Size: 500, Time: 0.027543 seconds\n",
      "Array Size: 1000, Time: 0.081167 seconds\n",
      "Array Size: 1500, Time: 0.180578 seconds\n",
      "Array Size: 2000, Time: 0.327832 seconds\n",
      "Array Size: 2500, Time: 0.495260 seconds\n",
      "Array Size: 3000, Time: 0.728357 seconds\n"
     ]
    },
    {
     "data": {
      "image/png": "[encoded data removed]",
      "text/plain": [
       "<Figure size 640x480 with 1 Axes>"
      ]
     },
     "metadata": {},
     "output_type": "display_data"
    }
   ],
   "source": [
    "# Task 2: Evaluating the performance of bubble sort\n",
    "import matplotlib.pyplot as plt\n",
    "import numpy as np\n",
    "import time\n",
    "\n",
    "def bubble_sort(arr):\n",
    "    n = len(arr)\n",
    "    for i in range(n):\n",
    "    \n",
    "        for j in range(0, n-i-1):\n",
    "        \n",
    "            if arr[j] > arr[j+1]:\n",
    "                arr[j], arr[j+1] = arr[j+1], arr[j]\n",
    "    return arr\n",
    "\n",
    "# A function to evaluate bubble sort performance\n",
    "def time_sort():\n",
    "    sizes = range(500, 3500, 500)  \n",
    "    times = []\n",
    "\n",
    "    for size in sizes:\n",
    "        random_array = np.random.randint(1, size, size)\n",
    "        start_time = time.time()\n",
    "        bubble_sort(random_array.copy()) # Measure the time required for sorting\n",
    "        elapsed_time = time.time() - start_time\n",
    "        times.append(elapsed_time)\n",
    "        print(f\"Array Size: {size}, Time: {elapsed_time:.6f} seconds\")\n",
    "\n",
    "    plt.plot(sizes, times, marker='o')\n",
    "    plt.title(\"Bubble Sort Performance\")\n",
    "    plt.xlabel(\"Array Size\")\n",
    "    plt.ylabel(\"Time (seconds)\")\n",
    "    plt.grid(True)\n",
    "    plt.show()\n",
    "\n",
    "time_sort()"
   ]
  },
  {
   "cell_type": "code",
   "execution_count": 1,
   "metadata": {},
   "outputs": [
    {
     "name": "stdout",
     "output_type": "stream",
     "text": [
      "Original array: [6, 5, 13, 1, 9, 17, 2, 4]\n",
      "Sorted array: [1, 2, 4, 5, 6, 9, 13, 17]\n"
     ]
    }
   ],
   "source": [
    "# Task 3: Merge sort\n",
    "\n",
    "# 定义merge函数，合并两个已排序的列表 Define the merge function to merge two sorted lists\n",
    "def merge(left, right):\n",
    "    sorted_list = []\n",
    "    i = j = 0\n",
    "    \n",
    "    # 比较两个列表中的元素，按顺序合并 Compare the elements in the two lists and merge them in order\n",
    "    while i < len(left) and j < len(right):\n",
    "        if left[i] < right[j]:\n",
    "            sorted_list.append(left[i])\n",
    "            i += 1\n",
    "        else:\n",
    "            sorted_list.append(right[j])\n",
    "            j += 1\n",
    "    \n",
    "    # 将剩余的元素添加到合并后的列表中 Add the remaining elements to the combined list\n",
    "    sorted_list.extend(left[i:])\n",
    "    sorted_list.extend(right[j:])\n",
    "    \n",
    "    return sorted_list\n",
    "\n",
    "# 递归实现归并排序 Recursively implement merge sort\n",
    "def merge_sort(arr):\n",
    "    if len(arr) <= 1:\n",
    "        return arr\n",
    "    \n",
    "    # 分割列表 # Split list\n",
    "    mid = len(arr) // 2\n",
    "    left = merge_sort(arr[:mid])\n",
    "    right = merge_sort(arr[mid:])\n",
    "    \n",
    "    # 合并排序后的列表 # Merge the sorted list\n",
    "    return merge(left, right)\n",
    "\n",
    "if __name__ == \"__main__\":\n",
    "    test_array = [6, 5, 13, 1, 9, 17, 2, 4]\n",
    "    print(\"Original array:\", test_array)\n",
    "    sorted_array = merge_sort(test_array.copy())\n",
    "    print(\"Sorted array:\", sorted_array)\n"
   ]
  },
  {
   "cell_type": "code",
   "execution_count": 2,
   "metadata": {},
   "outputs": [
    {
     "name": "stdout",
     "output_type": "stream",
     "text": [
      "Original array: [3, 6, 8, 10, 1, 2, 1]\n",
      "Sorted array: [1, 1, 2, 3, 6, 8, 10]\n"
     ]
    }
   ],
   "source": [
    "import random\n",
    "\n",
    "# Implement fast sorting algorithm, randomly select the base element\n",
    "def quicksort(arr):\n",
    "    if len(arr) <= 1:\n",
    "        return arr\n",
    "    \n",
    "    # 随机选择一个基准元素 # Randomly select a base element\n",
    "    pivot = arr[random.randint(0, len(arr) - 1)]\n",
    "    \n",
    "    # 分别构建比基准元素小和大的子数组 # Build subarrays smaller and larger than the base element, respectively\n",
    "    less = [x for x in arr if x < pivot]\n",
    "    equal = [x for x in arr if x == pivot]\n",
    "    greater = [x for x in arr if x > pivot]\n",
    "    \n",
    "    # 递归排序子数组并合并结果 # Recursively sort subarrays and merge results\n",
    "    return quicksort(less) + equal + quicksort(greater)\n",
    "\n",
    "# test\n",
    "if __name__ == \"__main__\":\n",
    "    test_array = [3, 6, 8, 10, 1, 2, 1]\n",
    "    print(\"Original array:\", test_array)\n",
    "    sorted_array = quicksort(test_array.copy())\n",
    "    print(\"Sorted array:\", sorted_array)\n"
   ]
  }
 ],
 "metadata": {
  "kernelspec": {
   "display_name": "base",
   "language": "python",
   "name": "python3"
  },
  "language_info": {
   "codemirror_mode": {
    "name": "ipython",
    "version": 3
   },
   "file_extension": ".py",
   "mimetype": "text/x-python",
   "name": "python",
   "nbconvert_exporter": "python",
   "pygments_lexer": "ipython3",
   "version": "3.11.5"
  }
 },
 "nbformat": 4,
 "nbformat_minor": 2
}
