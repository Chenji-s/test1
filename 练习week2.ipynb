{
 "cells": [
  {
   "cell_type": "markdown",
   "metadata": {},
   "source": [
    "\n",
    "第四部分\n",
    "1. 一组数字可以用来表示，例如，一个向量。创建一个列表my_mat来表示单位矩阵，2*2:\n",
    " 1  0\n",
    " 0  1\n",
    " 然后，使用.append()方法修改my_mat以表示3*3单位矩阵。"
   ]
  },
  {
   "cell_type": "code",
   "execution_count": 3,
   "metadata": {},
   "outputs": [
    {
     "name": "stdout",
     "output_type": "stream",
     "text": [
      "[[1, 0], [0, 1]]\n",
      "[[1, 0, 0], [0, 1, 0]]\n",
      "[[1, 0, 0], [0, 1, 0], [0, 0, 1]]\n"
     ]
    }
   ],
   "source": [
    "# 创建2x2单位矩阵\n",
    "my_mat = [[1, 0], [0, 1]]\n",
    "print(my_mat)\n",
    "# 添加\n",
    "my_mat[0].append(0)\n",
    "my_mat[1].append(0)\n",
    "print(my_mat)\n",
    "# 将第三行添加到行列表中\n",
    "my_mat.append([0, 0, 1])\n",
    "print(my_mat)"
   ]
  },
  {
   "cell_type": "markdown",
   "metadata": {},
   "source": [
    "下面的代码定义了2个列表，其中包含5只猫的名字和它们各自的年龄(顺序相同)。编写代码显示最老的猫的名字，最小的猫的名字，以及5只猫的平均年龄。\n",
    "\n",
    "你的代码应该适用于至少2个猫的名字和年龄，而不仅仅是下面的例子。\n",
    "\n",
    "提示:您需要在列表cat_ages中找到最小和最大年龄的索引(位置)，并使用它在列表cat_names中找到正确的名称。平均年龄可以计算为所有年龄的总和，除以猫的总数。"
   ]
  },
  {
   "cell_type": "code",
   "execution_count": 1,
   "metadata": {},
   "outputs": [
    {
     "name": "stdout",
     "output_type": "stream",
     "text": [
      "Butterscotch is the oldest cat (12 years old).\n",
      "Muffin is the youngest cat (3 years old).\n",
      "The average age of these 5 cats is 7.6 years old.\n"
     ]
    }
   ],
   "source": [
    "cat_names = ['Olive', 'Muffin', 'Butterscotch', 'Mister Beans', 'Nala']\n",
    "cat_ages = [7, 3, 12, 11, 5]\n",
    "\n",
    "# 找到位置并显示最老的猫的名字\n",
    "oldest_pos = cat_ages.index(max(cat_ages))\n",
    "oldest_cat = cat_names[oldest_pos]\n",
    "oldest_age = cat_ages[oldest_pos]\n",
    "print(f'{oldest_cat} is the oldest cat ({oldest_age} years old).')\n",
    "\n",
    "# 最小的\n",
    "youngest_pos = cat_ages.index(min(cat_ages))\n",
    "youngest_cat = cat_names[youngest_pos]\n",
    "youngest_age = cat_ages[youngest_pos]\n",
    "print(f'{youngest_cat} is the youngest cat ({youngest_age} years old).')\n",
    "\n",
    "# 平均\n",
    "average_age = sum(cat_ages) / len(cat_ages)\n",
    "print(f'The average age of these {len(cat_ages)} cats is {average_age} years old.')"
   ]
  },
  {
   "cell_type": "markdown",
   "metadata": {},
   "source": [
    "考虑下面的列表。什么是最简洁的方法来创建一个新的列表m_back，它取列表m的值，向后?换句话说，应该显示print(m_back)"
   ]
  },
  {
   "cell_type": "code",
   "execution_count": 2,
   "metadata": {},
   "outputs": [
    {
     "name": "stdout",
     "output_type": "stream",
     "text": [
      "['e', 'd', 'c', 'b', 'a']\n"
     ]
    }
   ],
   "source": [
    "\n",
    "m = ['a', 'b', 'c', 'd', 'e']\n",
    "m_back = m[::-1]\n",
    "print(m_back)"
   ]
  },
  {
   "cell_type": "code",
   "execution_count": 3,
   "metadata": {},
   "outputs": [
    {
     "name": "stdout",
     "output_type": "stream",
     "text": [
      "Does the list have length n now? True\n",
      "[1, 1, 4.141592653589793, 1, 1, 3.141592653589793]\n"
     ]
    }
   ],
   "source": [
    "\n",
    "import math\n",
    "\n",
    "# Create a list of n-1 ones\n",
    "n = 6\n",
    "my_list = [1] * (n-1)\n",
    "\n",
    "# Append pi, check length\n",
    "my_list.append(math.pi)\n",
    "print('Does the list have length n now?', len(my_list) == n)\n",
    "\n",
    "# Change the value of the 3rd element\n",
    "my_list[2] = sum(my_list[4:])\n",
    "print(my_list)"
   ]
  },
  {
   "cell_type": "markdown",
   "metadata": {},
   "source": [
    "编写一个 for 循环来遍历以下列表，并打印每个元素的平方："
   ]
  },
  {
   "cell_type": "code",
   "execution_count": 8,
   "metadata": {},
   "outputs": [
    {
     "name": "stdout",
     "output_type": "stream",
     "text": [
      "1\n",
      "4\n",
      "9\n",
      "16\n",
      "25\n"
     ]
    }
   ],
   "source": [
    "numbers = [1, 2, 3, 4, 5]\n",
    "for number in numbers:\n",
    "    print(number ** 2)"
   ]
  },
  {
   "cell_type": "code",
   "execution_count": 9,
   "metadata": {},
   "outputs": [
    {
     "name": "stdout",
     "output_type": "stream",
     "text": [
      "19386192354630917063625\n"
     ]
    }
   ],
   "source": [
    "# Set n and initialise P\n",
    "n = 10\n",
    "P = 1\n",
    "\n",
    "# Loop from j=2 to j=n\n",
    "for j in range(2, n+1):\n",
    "    # Multiply each term in succession\n",
    "    P = P * (j**3 + 5*j**2 - 3)\n",
    "print(P)"
   ]
  },
  {
   "cell_type": "markdown",
   "metadata": {},
   "source": [
    "\n",
    "<span class=\"theorem-title\">**🚩 Exercise 1**</span> Define functions\n",
    "`f`, `g`, `h` which can evaluate the following mathematical functions:\n",
    "\n",
    "$$\n",
    "f(z) = z^2 - 8\n",
    "\\qquad\n",
    "g(x, y) = 2xy\n",
    "\\qquad\n",
    "h(t) = \\frac{g(t, t)}{f(t)}\n",
    "$$\n",
    "\n",
    "Then, print the value of $h(3)$."
   ]
  },
  {
   "cell_type": "code",
   "execution_count": 10,
   "metadata": {},
   "outputs": [
    {
     "name": "stdout",
     "output_type": "stream",
     "text": [
      "18.0\n"
     ]
    }
   ],
   "source": [
    "def f(z):\n",
    "    return z**2-8\n",
    "def g(x,y):\n",
    "    return 2*x*y\n",
    "def h(t):\n",
    "    return g(t,t)/f(t)\n",
    "\n",
    "print(h(3))"
   ]
  },
  {
   "cell_type": "markdown",
   "metadata": {},
   "source": [
    "下面的函数preview_list()显示列表列表的前n个元素，一个接一个，后面跟着一个空行('\\n'表示\"新行\")。将函数更改为:\n",
    "\n",
    "在列表元素之前显示一个标题(例如“这里是前5个元素:”)，它根据n的值而变化;\n",
    "如果未指定n值，则默认显示前3个元素。例如，preview_list([6, 5, 4, 3, 2])应该显示6,5和4，"
   ]
  },
  {
   "cell_type": "code",
   "execution_count": 12,
   "metadata": {},
   "outputs": [
    {
     "name": "stdout",
     "output_type": "stream",
     "text": [
      "Here are the first 4 elements of lst:\n",
      "cat\n",
      "lion\n",
      "tiger\n",
      "panther\n",
      "\n",
      "\n",
      "Here are the first 1 elements of lst:\n",
      "cat\n",
      "\n",
      "\n",
      "Here are the first 4 elements of lst:\n",
      "10\n",
      "20\n",
      "30\n",
      "40\n",
      "\n",
      "\n",
      "Here are the first 3 elements of lst:\n",
      "6\n",
      "5\n",
      "4\n",
      "\n",
      "\n"
     ]
    }
   ],
   "source": [
    "def preview_list(lst, n=3):\n",
    "\n",
    "    #预览列表list的前n个元素。\n",
    "    print(f'Here are the first {n} elements of lst:')\n",
    "    for i in range(n):\n",
    "        print(lst[i])\n",
    "    print('\\n')\n",
    "\n",
    "# Calling the function\n",
    "preview_list(['cat', 'lion', 'tiger', 'panther', 'jaguar', 'leopard'], 4)\n",
    "preview_list(['cat', 'lion', 'tiger', 'panther', 'jaguar', 'leopard'], 1)\n",
    "preview_list([10, 20, 30, 40, 50, 60, 70, 80], 4)\n",
    "preview_list([6, 5, 4, 3, 2])   # now works!"
   ]
  },
  {
   "cell_type": "markdown",
   "metadata": {},
   "source": [
    "<span class=\"theorem-title\">**🚩 Exercise 3**</span> 写一个函数 ' compute＿P() '，它接受一个输入参数' n '，表示一个整数 $n \\geq 2$，并返回前面为此定义的产品$P$ 特别值$n$:\n",
    "\n",
    "$$\n",
    "P = \\prod_{j=2}^{n} \\left(j^3 + 5j^2 - 3\\right).\n",
    "$$\n",
    "\n",
    "For example, `print(compute_P(7))` should display `13811904975375`.\n"
   ]
  },
  {
   "cell_type": "code",
   "execution_count": 13,
   "metadata": {},
   "outputs": [
    {
     "name": "stdout",
     "output_type": "stream",
     "text": [
      "13811904975375\n"
     ]
    }
   ],
   "source": [
    "def compute_P(n):\n",
    "    # Initialise P\n",
    "    P = 1\n",
    "    for j in range(2, n+1):\n",
    "        P *= j**3 + 5*j**2 - 3\n",
    "    return P\n",
    "\n",
    "print(compute_P(7))"
   ]
  }
 ],
 "metadata": {
  "kernelspec": {
   "display_name": "Python 3",
   "language": "python",
   "name": "python3"
  },
  "language_info": {
   "codemirror_mode": {
    "name": "ipython",
    "version": 3
   },
   "file_extension": ".py",
   "mimetype": "text/x-python",
   "name": "python",
   "nbconvert_exporter": "python",
   "pygments_lexer": "ipython3",
   "version": "3.11.5"
  }
 },
 "nbformat": 4,
 "nbformat_minor": 2
}
