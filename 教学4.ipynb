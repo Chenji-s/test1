{
 "cells": [
  {
   "cell_type": "markdown",
   "metadata": {},
   "source": [
    "1. 创建列表\n",
    "列表可以通过使用方括号 [...] 包含其元素，并用逗号分隔来定义。例如，我们可以创建几个列表并将它们赋值给变量：\n",
    "\n",
    "注意事项：\n",
    "\n",
    "空列表 可以通过输入空的方括号 [] 创建。\n",
    "列表可以包含不同类型的数据——其元素不必是同一种类型。\n",
    "列表可以包含其他列表——事实上，容器可以嵌套在其他容器中。\n",
    "列表中的元素是索引的——它们可以像字符串中的字符一样，通过方括号中的位置引用来访问。请记住，Python 中的索引从 0 开始。"
   ]
  },
  {
   "cell_type": "code",
   "execution_count": 1,
   "metadata": {},
   "outputs": [
    {
     "name": "stdout",
     "output_type": "stream",
     "text": [
      "[1, 2, 3, 10, 6]\n",
      "Hi\n",
      "432\n"
     ]
    }
   ],
   "source": [
    "a = [1, 2, 3, 10, 6]\n",
    "b = ['Hi', 'how', 'are', 'you?']\n",
    "c = ['my', 1, 4.5, ['you', 'they'], 432, -2.3, 33]\n",
    "d = []\n",
    "\n",
    "print(a)\n",
    "print(b[0])\n",
    "print(c[-3])"
   ]
  },
  {
   "cell_type": "markdown",
   "metadata": {},
   "source": [
    "我们可以使用抽屉的类比来可视化列表在内存中的存储方式。例如，考虑下面的列表 a：\n",
    "\n",
    "列表中的对象会被创建并存储在内存中，但现在它们被放置在一个名为 a 的列表容器中（黄色的盒子/抽屉），并且按照特定顺序排列。要访问任何一个特定的对象，我们可以使用其在列表中的索引（黄色标签），该索引指示其位置。"
   ]
  },
  {
   "cell_type": "code",
   "execution_count": 5,
   "metadata": {},
   "outputs": [
    {
     "data": {
      "text/plain": [
       "3"
      ]
     },
     "execution_count": 5,
     "metadata": {},
     "output_type": "execute_result"
    }
   ],
   "source": [
    "a = [1, 2, 3, 10, 6]\n",
    "a[2] ##索引用中括号"
   ]
  },
  {
   "cell_type": "markdown",
   "metadata": {},
   "source": [
    "2 Manipulating lists\n",
    "下面的示例演示了如何操作列表的一些方法——确保先运行前面的代码单元来定义 a，b，和 c。不要犹豫，尝试更多的例子来测试你的理解。"
   ]
  },
  {
   "cell_type": "code",
   "execution_count": 2,
   "metadata": {},
   "outputs": [
    {
     "name": "stdout",
     "output_type": "stream",
     "text": [
      "[1, 2, 3, 10, 6, 'Hi', 'how', 'are', 'you?']\n",
      "4\n",
      "['my', 1, 4.5, ['you', 'they'], 432, -2.3, 33, 'extra']\n",
      "they\n",
      "[1, 2, 3, 6, 10]\n",
      "[3, 0, 'y', 3, 0, 'y', 3, 0, 'y', 3, 0, 'y', 3, 0, 'y', 3, 0, 'y', 3, 0, 'y', 3, 0, 'y', 3, 0, 'y', 3, 0, 'y', 3, 0, 'y', 3, 0, 'y']\n",
      "True\n",
      "False\n",
      "True\n",
      "False\n"
     ]
    }
   ],
   "source": [
    "a = [1, 2, 3, 10, 6]\n",
    "b = ['Hi', 'how', 'are', 'you?']\n",
    "c = ['my', 1, 4.5, ['you', 'they'], 432, -2.3, 33]\n",
    "\n",
    "# 将两个列表合并\n",
    "print(a + b)\n",
    "\n",
    "# 查找列表的长度\n",
    "print(len(b))\n",
    "\n",
    "# 向列表末尾添加元素\n",
    "c.append('extra')\n",
    "print(c)\n",
    "\n",
    "# 打印列表 c 的第 4 个元素中的第 2 个元素\n",
    "print(c[3][1])\n",
    "\n",
    "# 对列表进行排序\n",
    "print(sorted(a))\n",
    "\n",
    "# 创建一个包含相同序列重复 12 次的列表\n",
    "print(12 * [3, 0, 'y'])\n",
    "\n",
    "# 检查某个元素是否在列表中\n",
    "print('my' in c)\n",
    "print('you' in c)\n",
    "print('you' in c[3])\n",
    "print(7 in a)"
   ]
  },
  {
   "cell_type": "markdown",
   "metadata": {},
   "source": [
    "3 切片 Slicing\n",
    "\n",
    "到目前为止，我们已经学习了如何创建和操作列表，以及如何操作列表中的单个元素。通常可以同时访问多个列表元素。索引切片允许我们从现有列表的任何子序列中提取一个新列表。例如："
   ]
  },
  {
   "cell_type": "code",
   "execution_count": 6,
   "metadata": {},
   "outputs": [
    {
     "name": "stdout",
     "output_type": "stream",
     "text": [
      "[5, 4]\n",
      "[4, 8, 8]\n",
      "[8, 4, 2]\n"
     ]
    }
   ],
   "source": [
    "a = [2, 5, 4, 8, 8]\n",
    "print(a[1:3])  # 输出列表的第2个和第3个元素,3不算\n",
    "print(a[2:])   # 从第3个元素开始输出到列表结尾\n",
    "print(a[::-2]) # 以步长为2倒序输出列表"
   ]
  },
  {
   "cell_type": "markdown",
   "metadata": {},
   "source": [
    "索引切片使用冒号 : 作为分隔符。例如，命令 print(a[2:]) 会输出列表 a 中从索引为2的元素开始的所有元素。访问列表子序列的一般语法如下：\n",
    "l[start:stop]      # 从 start 到 stop-1\n",
    "l[start:]          # 从 start 到 len(l)-1\n",
    "l[:stop]           # 从 0 到 stop-1\n",
    "l[start:stop:step] # 从 start 到 stop-1，步长为 step\n",
    "l[::step]          # 从 0 到 len(l)-1，步长为 step\n",
    "l[:]               # 所有元素\n",
    "\n",
    "需要注意的几点：\n",
    "\n",
    "和索引单个元素一样，我们可以使用负索引进行切片，表示从列表末尾开始的位置。\n",
    "第二个索引 stop 指示的是 不被访问 的第一个元素。例如，l[i:j] 返回 [l[i], l[i+1], ..., l[j-2], l[j-1]]，不包括 l[j]。你可以在上面的例子中看到：a[1:3] 返回 [5, 4]，而不包括索引3的元素。\n",
    "如果 j = i，那么 a[i:j] 和 a[i:j:k] 都会返回空列表，无论 k 的值是多少。\n",
    "如果 j < i，则对于正值的 k，a[i:j] 和 a[i:j:k] 也都会返回空列表。\n",
    "注意：切片不仅适用于列表，实际上，任何类型的序列都可以使用切片操作。例如，字符串也是 Python 中的一种序列。"
   ]
  },
  {
   "cell_type": "markdown",
   "metadata": {},
   "source": [
    "tttt"
   ]
  }
 ],
 "metadata": {
  "kernelspec": {
   "display_name": "Python 3",
   "language": "python",
   "name": "python3"
  },
  "language_info": {
   "codemirror_mode": {
    "name": "ipython",
    "version": 3
   },
   "file_extension": ".py",
   "mimetype": "text/x-python",
   "name": "python",
   "nbconvert_exporter": "python",
   "pygments_lexer": "ipython3",
   "version": "3.11.5"
  }
 },
 "nbformat": 4,
 "nbformat_minor": 2
}
