{
 "cells": [
  {
   "cell_type": "markdown",
   "metadata": {},
   "source": [
    "1. 创建列表\n",
    "列表可以通过使用方括号 [...] 包含其元素，并用逗号分隔来定义。例如，我们可以创建几个列表并将它们赋值给变量：\n",
    "\n",
    "注意事项：\n",
    "\n",
    "空列表 可以通过输入空的方括号 [] 创建。\n",
    "列表可以包含不同类型的数据——其元素不必是同一种类型。\n",
    "列表可以包含其他列表——事实上，容器可以嵌套在其他容器中。\n",
    "列表中的元素是索引的——它们可以像字符串中的字符一样，通过方括号中的位置引用来访问。请记住，Python 中的索引从 0 开始。"
   ]
  },
  {
   "cell_type": "code",
   "execution_count": 1,
   "metadata": {},
   "outputs": [
    {
     "name": "stdout",
     "output_type": "stream",
     "text": [
      "[1, 2, 3, 10, 6]\n",
      "Hi\n",
      "432\n"
     ]
    }
   ],
   "source": [
    "a = [1, 2, 3, 10, 6]\n",
    "b = ['Hi', 'how', 'are', 'you?']\n",
    "c = ['my', 1, 4.5, ['you', 'they'], 432, -2.3, 33]\n",
    "d = []\n",
    "\n",
    "print(a)\n",
    "print(b[0])\n",
    "print(c[-3])"
   ]
  },
  {
   "cell_type": "markdown",
   "metadata": {},
   "source": [
    "我们可以使用抽屉的类比来可视化列表在内存中的存储方式。例如，考虑下面的列表 a：\n",
    "\n",
    "列表中的对象会被创建并存储在内存中，但现在它们被放置在一个名为 a 的列表容器中（黄色的盒子/抽屉），并且按照特定顺序排列。要访问任何一个特定的对象，我们可以使用其在列表中的索引（黄色标签），该索引指示其位置。"
   ]
  },
  {
   "cell_type": "code",
   "execution_count": 5,
   "metadata": {},
   "outputs": [
    {
     "data": {
      "text/plain": [
       "3"
      ]
     },
     "execution_count": 5,
     "metadata": {},
     "output_type": "execute_result"
    }
   ],
   "source": [
    "a = [1, 2, 3, 10, 6]\n",
    "a[2] ##索引用中括号"
   ]
  },
  {
   "cell_type": "markdown",
   "metadata": {},
   "source": [
    "2 Manipulating lists\n",
    "下面的示例演示了如何操作列表的一些方法——确保先运行前面的代码单元来定义 a，b，和 c。不要犹豫，尝试更多的例子来测试你的理解。"
   ]
  },
  {
   "cell_type": "code",
   "execution_count": 2,
   "metadata": {},
   "outputs": [
    {
     "name": "stdout",
     "output_type": "stream",
     "text": [
      "[1, 2, 3, 10, 6, 'Hi', 'how', 'are', 'you?']\n",
      "4\n",
      "['my', 1, 4.5, ['you', 'they'], 432, -2.3, 33, 'extra']\n",
      "they\n",
      "[1, 2, 3, 6, 10]\n",
      "[3, 0, 'y', 3, 0, 'y', 3, 0, 'y', 3, 0, 'y', 3, 0, 'y', 3, 0, 'y', 3, 0, 'y', 3, 0, 'y', 3, 0, 'y', 3, 0, 'y', 3, 0, 'y', 3, 0, 'y']\n",
      "True\n",
      "False\n",
      "True\n",
      "False\n"
     ]
    }
   ],
   "source": [
    "a = [1, 2, 3, 10, 6]\n",
    "b = ['Hi', 'how', 'are', 'you?']\n",
    "c = ['my', 1, 4.5, ['you', 'they'], 432, -2.3, 33]\n",
    "\n",
    "# 将两个列表合并\n",
    "print(a + b)\n",
    "\n",
    "# 查找列表的长度\n",
    "print(len(b))\n",
    "\n",
    "# 向列表末尾添加元素\n",
    "c.append('extra')\n",
    "print(c)\n",
    "\n",
    "# 打印列表 c 的第 4 个元素中的第 2 个元素\n",
    "print(c[3][1])\n",
    "\n",
    "# 对列表进行排序\n",
    "print(sorted(a))\n",
    "\n",
    "# 创建一个包含相同序列重复 12 次的列表\n",
    "print(12 * [3, 0, 'y'])\n",
    "\n",
    "# 检查某个元素是否在列表中\n",
    "print('my' in c)\n",
    "print('you' in c)\n",
    "print('you' in c[3])\n",
    "print(7 in a)"
   ]
  },
  {
   "cell_type": "markdown",
   "metadata": {},
   "source": [
    "3 切片 Slicing\n",
    "\n",
    "到目前为止，我们已经学习了如何创建和操作列表，以及如何操作列表中的单个元素。通常可以同时访问多个列表元素。索引切片允许我们从现有列表的任何子序列中提取一个新列表。例如："
   ]
  },
  {
   "cell_type": "code",
   "execution_count": 6,
   "metadata": {},
   "outputs": [
    {
     "name": "stdout",
     "output_type": "stream",
     "text": [
      "[5, 4]\n",
      "[4, 8, 8]\n",
      "[8, 4, 2]\n"
     ]
    }
   ],
   "source": [
    "a = [2, 5, 4, 8, 8]\n",
    "print(a[1:3])  # 输出列表的第2个和第3个元素,3不算\n",
    "print(a[2:])   # 从第3个元素开始输出到列表结尾\n",
    "print(a[::-2]) # 以步长为2倒序输出列表"
   ]
  },
  {
   "cell_type": "markdown",
   "metadata": {},
   "source": [
    "索引切片使用冒号 : 作为分隔符。例如，命令 print(a[2:]) 会输出列表 a 中从索引为2的元素开始的所有元素。访问列表子序列的一般语法如下：\n",
    "l[start:stop]      # 从 start 到 stop-1\n",
    "l[start:]          # 从 start 到 len(l)-1\n",
    "l[:stop]           # 从 0 到 stop-1\n",
    "l[start:stop:step] # 从 start 到 stop-1，步长为 step\n",
    "l[::step]          # 从 0 到 len(l)-1，步长为 step\n",
    "l[:]               # 所有元素\n",
    "\n",
    "需要注意的几点：\n",
    "\n",
    "和索引单个元素一样，我们可以使用负索引进行切片，表示从列表末尾开始的位置。\n",
    "第二个索引 stop 指示的是 不被访问 的第一个元素。例如，l[i:j] 返回 [l[i], l[i+1], ..., l[j-2], l[j-1]]，不包括 l[j]。你可以在上面的例子中看到：a[1:3] 返回 [5, 4]，而不包括索引3的元素。\n",
    "如果 j = i，那么 a[i:j] 和 a[i:j:k] 都会返回空列表，无论 k 的值是多少。\n",
    "如果 j < i，则对于正值的 k，a[i:j] 和 a[i:j:k] 也都会返回空列表。\n",
    "注意：切片不仅适用于列表，实际上，任何类型的序列都可以使用切片操作。例如，字符串也是 Python 中的一种序列。"
   ]
  },
  {
   "cell_type": "markdown",
   "metadata": {},
   "source": [
    "5 Loops （循环）\n",
    "计算机的一个重要功能是能够快速执行大量的重复操作，而人类的大脑却很难做到这一点。循环可以帮助我们实现这一点：我们可以给计算机一组指令和一个结束条件，它将重复执行这些指令，直到达到结束条件。\n",
    "\n",
    "示例\n",
    "\n",
    "作为一个简单的例子，回顾第一周的练习——创建一个包含文本字符的字符串变量 my_string。然后创建一个整数变量 m，使用它来打印字符串中每个第 m 个字符。\n",
    "\n",
    "使用**for 循环**来实现——稍后我们会解释它的工作原理：\n",
    "\n"
   ]
  },
  {
   "cell_type": "code",
   "execution_count": 3,
   "metadata": {},
   "outputs": [
    {
     "name": "stdout",
     "output_type": "stream",
     "text": [
      "e\n",
      "x\n",
      "h\n",
      "c\n",
      "s\n",
      " \n",
      "c\n",
      "c\n"
     ]
    }
   ],
   "source": [
    "my_string = 'Some text characters of my choice.'\n",
    "m = 4\n",
    "\n",
    "N = len(my_string)\n",
    "\n",
    "# 循环遍历字符\n",
    "for i in range(m-1, N, m):\n",
    "    print(my_string[i])"
   ]
  },
  {
   "cell_type": "markdown",
   "metadata": {},
   "source": [
    "for 循环\n",
    "for 循环会依次遍历一个序列（例如列表或字符串）中的元素，按照它们在序列中出现的顺序进行操作。语法如下：\n",
    "\n",
    "for i in my_seq:\n",
    "    [一些操作]\n",
    "在 for 循环中使用一个占位变量（如上例中的 i），该变量依次被赋值为 my_seq 中的每个元素。\n",
    "例如，我们可以循环遍历一个列表并单独打印它的每个元素："
   ]
  },
  {
   "cell_type": "code",
   "execution_count": 5,
   "metadata": {},
   "outputs": [
    {
     "name": "stdout",
     "output_type": "stream",
     "text": [
      "The current element is 1\n",
      "The current element is 2\n",
      "The current element is 3\n",
      "The current element is 10\n",
      "The current element is 6\n"
     ]
    }
   ],
   "source": [
    "a = [1, 2, 3, 10, 6]\n",
    "for element in a:\n",
    "    print(f'The current element is {element}')"
   ]
  },
  {
   "cell_type": "markdown",
   "metadata": {},
   "source": [
    "\n",
    "5.2. Delimiting code blocks (代码块的分隔)\n",
    "Python 使用缩进来表示代码块，而不是像许多其他编程语言使用花括号 {}。你需要确保每个属于同一块的代码保持相同的缩进级别。\n",
    "\n",
    "例如，在一个 for 循环中，所有要在每次迭代中执行的代码都需要保持相同的缩进。"
   ]
  },
  {
   "cell_type": "code",
   "execution_count": 7,
   "metadata": {},
   "outputs": [
    {
     "name": "stdout",
     "output_type": "stream",
     "text": [
      "The current element is 1\n",
      "This code is inside the loop\n",
      "The current element is 2\n",
      "This code is inside the loop\n",
      "The current element is 3\n",
      "This code is inside the loop\n",
      "The current element is 10\n",
      "This code is inside the loop\n",
      "This code is outside the loop\n"
     ]
    }
   ],
   "source": [
    "a = [1, 2, 3, 10]\n",
    "\n",
    "for element in a:\n",
    "    print(f'The current element is {element}')\n",
    "    print('This code is inside the loop')\n",
    "    \n",
    "print('This code is outside the loop')"
   ]
  },
  {
   "cell_type": "markdown",
   "metadata": {},
   "source": [
    "3 Ranges (范围)\n",
    "\n",
    "还有一种我们尚未提到的序列类型，它在 for 循环中非常有用：即 range 类型。range 是一个递增或递减的整数序列，可以使用 range() 函数来创建，如下所示：\n",
    "range(j)             # 0, 1, 2, ..., j-1\n",
    "range(i, j)          # i, i+1, i+2, ..., j-1\n",
    "range(i, j, k)       # i, i+k, i+2k, ..., i+m"
   ]
  },
  {
   "cell_type": "code",
   "execution_count": 8,
   "metadata": {},
   "outputs": [
    {
     "name": "stdout",
     "output_type": "stream",
     "text": [
      "range(0, 5)\n",
      "[0, 1, 2, 3, 4]\n",
      "[10, 7, 4, 1, -2, -5, -8]\n"
     ]
    }
   ],
   "source": [
    "print(range(5))\n",
    "print(list(range(5)))\n",
    "print(list(range(10, -10, -3)))\n"
   ]
  },
  {
   "cell_type": "markdown",
   "metadata": {},
   "source": [
    "为了打印出 range 对象的所有元素，我们首先需要转换它为列表（即手动将其类型更改为 list，通过使用 list() 函数）。\n",
    "现在，让我们看看 range 在 for 循环中如何发挥作用。比如，考虑以下求和操作：\n",
    "从0+1+。。。+10"
   ]
  },
  {
   "cell_type": "code",
   "execution_count": 9,
   "metadata": {},
   "outputs": [
    {
     "name": "stdout",
     "output_type": "stream",
     "text": [
      "55\n"
     ]
    }
   ],
   "source": [
    "S = 0\n",
    "# 遍历索引 0 到 10\n",
    "for i in range(11):\n",
    "    S += i  # 这是 S = S + i 的简写\n",
    "print(S)"
   ]
  },
  {
   "cell_type": "markdown",
   "metadata": {},
   "source": [
    "6 函数\n",
    "6.1 Defining Functions (定义函数)\n",
    "在 Python 中，函数是一组命名的操作，可通过给定的名称调用。可以使用 def 关键字来定义函数。函数通常执行某种计算并返回结果值。\n",
    "\n",
    "函数的基本定义形式如下：\n",
    "def function_name(argument1, argument2, ..., argumentN):\n",
    "    \"\"\"\n",
    "    Docstring: This is an optional documentation string that explains\n",
    "    what the function does.\n",
    "    \"\"\"\n",
    "    [function body]\n",
    "    return some_value\n",
    "例如，让我们定义一个简单的函数，它返回两个数的和："
   ]
  },
  {
   "cell_type": "code",
   "execution_count": 10,
   "metadata": {},
   "outputs": [
    {
     "name": "stdout",
     "output_type": "stream",
     "text": [
      "8\n"
     ]
    }
   ],
   "source": [
    "def sum_two_numbers(x, y):\n",
    "    return x + y\n",
    "#你可以通过函数名称并提供所需的参数来调用这个函数：\n",
    "result = sum_two_numbers(3, 5)\n",
    "print(result)  # 输出：8"
   ]
  },
  {
   "cell_type": "markdown",
   "metadata": {},
   "source": [
    "6.2 Input Arguments (输入参数)\n",
    "\n",
    "定义函数时，可以指定输入参数，函数调用时必须提供这些参数。每个参数代表函数中需要用到的一个值。参数在函数定义中列出，并在调用时传递。\n",
    "\n",
    "6.2.1无输入参数\n",
    "\n",
    "下面是一个函数示例，该函数为下订单的客户生成通用确认消息。它不接受任何输入参数——因此，它总是返回相同的东西。"
   ]
  },
  {
   "cell_type": "code",
   "execution_count": 13,
   "metadata": {},
   "outputs": [
    {
     "name": "stdout",
     "output_type": "stream",
     "text": [
      "Order confirmed. Thanks for your purchase!\n",
      "Order confirmed on 30/03/2004. Thanks for your purchase, Maria!\n",
      "Order confirmed on 30/03/2004. Thanks for your purchase, Maria!\n",
      "Order confirmed on 2/12/1998. Thanks for your purchase, my favourite customer!\n"
     ]
    }
   ],
   "source": [
    "def confirm_message():\n",
    "    message = 'Order confirmed. Thanks for your purchase!'\n",
    "    return message\n",
    "print(confirm_message())\n",
    "\n",
    "#6.2.2多个输入参数\n",
    "#现在，如果我们知道顾客的名字和购买日期，我们就可以个性化信息了:\n",
    "def confirm_message(date, name):\n",
    "    message = f'Order confirmed on {date}. Thanks for your purchase, {name}!'\n",
    "    return message\n",
    "print(confirm_message('30/03/2004', 'Maria'))\n",
    "\n",
    "#6.2.3默认值\n",
    "#可以为函数中的部分或全部输入参数提供默认值。继续前面的例子，有时我们会遇到隐私意识较强的客户，\n",
    "#他们不想透露自己的姓名。如果我们没有名字，我们仍然可以默认显示一些东西，像这样:\n",
    "def confirm_message(date, name='my favourite customer'):\n",
    "    message = f'Order confirmed on {date}. Thanks for your purchase, {name}!'\n",
    "    return message\n",
    "# 如果我们有名字，我们仍然可以给它命名…\n",
    "print(confirm_message('30/03/2004', 'Maria'))\n",
    "\n",
    "# 但是如果我们不这样做，我们现在可以忽略它，而使用默认值\n",
    "print(confirm_message('2/12/1998'))"
   ]
  },
  {
   "cell_type": "markdown",
   "metadata": {},
   "source": [
    "6.3 Return Values (返回值)\n",
    "\n",
    "当执行到 return 语句时，函数退出并返回到主程序，并带有一些输出值。\n",
    "\n",
    "记住，Python 中的代码块是通过缩进来分隔的——函数体是定义 def my_func(inputs): 后缩进的一部分。然而，当 return 语句被执行时，函数立即退出，后面的代码不再执行——即使这些代码仍然属于函数体。\n",
    "\n",
    "return 语句是可选的——函数可以执行一些指令，而不返回任何值。例如，print() 函数本身不会返回任何值，它只是将其输入参数打印到屏幕上。\n",
    "\n",
    "6.3.1 Returning no values (没有返回值)\n",
    "严格来说，所有函数都会返回一个值。如果你在编写函数时省略了 return 语句，或者你没有指定任何输出值，那么默认情况下，返回值将是 None。在 Python 中，None 代表值的缺失（尽管它本身也是一个值）。\n",
    "\n",
    "例如，如果我们尝试将 print() 的输出值赋给一个变量，我们会得到："
   ]
  },
  {
   "cell_type": "code",
   "execution_count": 14,
   "metadata": {},
   "outputs": [
    {
     "name": "stdout",
     "output_type": "stream",
     "text": [
      "Hello World!\n",
      "None\n"
     ]
    }
   ],
   "source": [
    "a = print('Hello World!')\n",
    "print(a)\n",
    "#当第一次调用 print() 函数时，它完成了它的任务——在屏幕上显示其输入参数。\n",
    "#然而，它实际上并没有返回任何东西——严格来说，它返回了 None。因此，值 None 被赋给了变量 a。"
   ]
  },
  {
   "cell_type": "markdown",
   "metadata": {},
   "source": [
    "6.3.2 Returning multiple values (返回多个值)\n",
    "要从函数返回多个值，我们可以在 return 语句后列出它们，用逗号分隔。例如，我们可以定义一个函数 sum_diff_prod()，该函数计算并返回两个数的和、差和积："
   ]
  },
  {
   "cell_type": "code",
   "execution_count": 16,
   "metadata": {},
   "outputs": [
    {
     "name": "stdout",
     "output_type": "stream",
     "text": [
      "(16, 8, 48)\n",
      "(-1.2, 1.2, -0.0)\n",
      "16\n",
      "48\n"
     ]
    }
   ],
   "source": [
    "def sum_diff_prod(a, b):\n",
    "    #计算并返回 a 和 b 的和、差和积。\n",
    "    return a+b, a-b, a*b\n",
    "\n",
    "# 将函数的输出打印为元组\n",
    "print(sum_diff_prod(12, 4))\n",
    "print(sum_diff_prod(0, -1.2))\n",
    "\n",
    "# 将输出解包到不同的变量中\n",
    "s, d, p = sum_diff_prod(12, 4)\n",
    "print(s)\n",
    "print(p)"
   ]
  }
 ],
 "metadata": {
  "kernelspec": {
   "display_name": "Python 3",
   "language": "python",
   "name": "python3"
  },
  "language_info": {
   "codemirror_mode": {
    "name": "ipython",
    "version": 3
   },
   "file_extension": ".py",
   "mimetype": "text/x-python",
   "name": "python",
   "nbconvert_exporter": "python",
   "pygments_lexer": "ipython3",
   "version": "3.11.5"
  }
 },
 "nbformat": 4,
 "nbformat_minor": 2
}
