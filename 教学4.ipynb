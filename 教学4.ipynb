{
 "cells": [
  {
   "cell_type": "markdown",
   "metadata": {},
   "source": [
    "1. 创建列表\n",
    "列表可以通过使用方括号 [...] 包含其元素，并用逗号分隔来定义。例如，我们可以创建几个列表并将它们赋值给变量：\n",
    "\n",
    "注意事项：\n",
    "\n",
    "空列表 可以通过输入空的方括号 [] 创建。\n",
    "列表可以包含不同类型的数据——其元素不必是同一种类型。\n",
    "列表可以包含其他列表——事实上，容器可以嵌套在其他容器中。\n",
    "列表中的元素是索引的——它们可以像字符串中的字符一样，通过方括号中的位置引用来访问。请记住，Python 中的索引从 0 开始。"
   ]
  },
  {
   "cell_type": "code",
   "execution_count": 1,
   "metadata": {},
   "outputs": [
    {
     "name": "stdout",
     "output_type": "stream",
     "text": [
      "[1, 2, 3, 10, 6]\n",
      "Hi\n",
      "432\n"
     ]
    }
   ],
   "source": [
    "a = [1, 2, 3, 10, 6]\n",
    "b = ['Hi', 'how', 'are', 'you?']\n",
    "c = ['my', 1, 4.5, ['you', 'they'], 432, -2.3, 33]\n",
    "d = []\n",
    "\n",
    "print(a)\n",
    "print(b[0])\n",
    "print(c[-3])"
   ]
  },
  {
   "cell_type": "markdown",
   "metadata": {},
   "source": [
    "我们可以使用抽屉的类比来可视化列表在内存中的存储方式。例如，考虑下面的列表 a：\n",
    "\n",
    "列表中的对象会被创建并存储在内存中，但现在它们被放置在一个名为 a 的列表容器中（黄色的盒子/抽屉），并且按照特定顺序排列。要访问任何一个特定的对象，我们可以使用其在列表中的索引（黄色标签），该索引指示其位置。"
   ]
  },
  {
   "cell_type": "code",
   "execution_count": 5,
   "metadata": {},
   "outputs": [
    {
     "data": {
      "text/plain": [
       "3"
      ]
     },
     "execution_count": 5,
     "metadata": {},
     "output_type": "execute_result"
    }
   ],
   "source": [
    "a = [1, 2, 3, 10, 6]\n",
    "a[2] ##索引用中括号"
   ]
  }
 ],
 "metadata": {
  "kernelspec": {
   "display_name": "Python 3",
   "language": "python",
   "name": "python3"
  },
  "language_info": {
   "codemirror_mode": {
    "name": "ipython",
    "version": 3
   },
   "file_extension": ".py",
   "mimetype": "text/x-python",
   "name": "python",
   "nbconvert_exporter": "python",
   "pygments_lexer": "ipython3",
   "version": "3.11.5"
  }
 },
 "nbformat": 4,
 "nbformat_minor": 2
}
