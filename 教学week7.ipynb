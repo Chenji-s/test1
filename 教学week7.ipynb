{
 "cells": [
  {
   "cell_type": "code",
   "execution_count": null,
   "metadata": {},
   "outputs": [],
   "source": [
    "二十一章 可迭代对象、迭代器和生成器 \n",
    "21.1.1 创建和使用迭代器"
   ]
  },
  {
   "cell_type": "code",
   "execution_count": 1,
   "metadata": {},
   "outputs": [
    {
     "name": "stdout",
     "output_type": "stream",
     "text": [
      "[1, 2, 4, 8, 16, 32, 64, 128, 256, 512, 1024, 2048]\n",
      "1\n",
      "2\n"
     ]
    }
   ],
   "source": [
    "# 创建一个从 2 的幂次组成的列表，从 2^1 到 2^12\n",
    "powers_two = [2**n for n in range(12)]\n",
    "print(powers_two)\n",
    "\n",
    "# 创建一个可以逐步遍历 powers_two 列表的迭代器\n",
    "my_iter = iter(powers_two)\n",
    "\n",
    "# 使用 next() 来逐步推进迭代器，一次获取一个元素\n",
    "print(next(my_iter))\n",
    "print(next(my_iter))\n"
   ]
  },
  {
   "cell_type": "markdown",
   "metadata": {},
   "source": [
    "在接下来的循环中，我们尝试从上次停下的位置继续获取 powers_two 列表中的值："
   ]
  },
  {
   "cell_type": "code",
   "execution_count": 2,
   "metadata": {},
   "outputs": [
    {
     "name": "stdout",
     "output_type": "stream",
     "text": [
      "第 0 次迭代，迭代器返回 4\n",
      "第 1 次迭代，迭代器返回 8\n",
      "第 2 次迭代，迭代器返回 16\n",
      "第 3 次迭代，迭代器返回 32\n",
      "第 4 次迭代，迭代器返回 64\n",
      "第 5 次迭代，迭代器返回 128\n",
      "第 6 次迭代，迭代器返回 256\n",
      "第 7 次迭代，迭代器返回 512\n",
      "第 8 次迭代，迭代器返回 1024\n",
      "第 9 次迭代，迭代器返回 2048\n"
     ]
    }
   ],
   "source": [
    "for i in range(10):\n",
    "    print(f'第 {i} 次迭代，迭代器返回 {next(my_iter)}')\n"
   ]
  },
  {
   "cell_type": "markdown",
   "metadata": {},
   "source": [
    "21.1.2 内建迭代器\n",
    "Python 有一个模块 itertools，它提供了一些有用的函数来创建比简单的序列步进更高级的迭代器："
   ]
  },
  {
   "cell_type": "markdown",
   "metadata": {},
   "source": [
    "使用itertools.permutations函数生成t[0]（一个含4个字母的字符串）的所有排列。\n",
    "使用next()函数获取排列迭代器中的前5个排列，分别打印排列的元组形式和连接成字符串后的形式。"
   ]
  },
  {
   "cell_type": "code",
   "execution_count": 3,
   "metadata": {},
   "outputs": [
    {
     "name": "stdout",
     "output_type": "stream",
     "text": [
      "some\n",
      "pretty\n",
      "words\n",
      "some\n",
      "pretty\n",
      "words\n",
      "some\n",
      "pretty\n",
      "words\n",
      "some\n",
      "pretty\n",
      "words\n"
     ]
    }
   ],
   "source": [
    "import itertools\n",
    "\n",
    "# 无限循环遍历一个序列\n",
    "t = ['some', 'pretty', 'words']\n",
    "cycle_iterator = itertools.cycle(t)\n",
    "\n",
    "for i in range(12):\n",
    "    print(next(cycle_iterator))\n"
   ]
  },
  {
   "cell_type": "markdown",
   "metadata": {},
   "source": [
    "直接遍历排列迭代器，生成字符串'abc'的所有可能排列。\n",
    "通过''.join(p)将每个排列的元组拼接成字符串并打印。"
   ]
  },
  {
   "cell_type": "code",
   "execution_count": 4,
   "metadata": {},
   "outputs": [
    {
     "name": "stdout",
     "output_type": "stream",
     "text": [
      "('s', 'o', 'm', 'e')\n",
      "some\n",
      "('s', 'o', 'e', 'm')\n",
      "soem\n",
      "('s', 'm', 'o', 'e')\n",
      "smoe\n",
      "('s', 'm', 'e', 'o')\n",
      "smeo\n",
      "('s', 'e', 'o', 'm')\n",
      "seom\n"
     ]
    }
   ],
   "source": [
    "# 显示4个字母的前5个可能排列\n",
    "permut_iterator = itertools.permutations(t[0])\n",
    "\n",
    "for i in range(5):\n",
    "    permut = next(permut_iterator)  # 获取排列的下一个值\n",
    "    print(permut)  # 打印当前排列\n",
    "\n",
    "    # 将每个字母组合成一个字符串（可以查阅str.join()的文档）\n",
    "    print(''.join(permut))"
   ]
  },
  {
   "cell_type": "code",
   "execution_count": 5,
   "metadata": {},
   "outputs": [
    {
     "name": "stdout",
     "output_type": "stream",
     "text": [
      "('s', 'o', 'm', 'e')\n",
      "some\n",
      "('s', 'o', 'e', 'm')\n",
      "soem\n",
      "('s', 'm', 'o', 'e')\n",
      "smoe\n",
      "('s', 'm', 'e', 'o')\n",
      "smeo\n",
      "('s', 'e', 'o', 'm')\n",
      "seom\n"
     ]
    }
   ],
   "source": [
    "# 显示4个字母的前5个可能排列\n",
    "permut_iterator = itertools.permutations(t[0])\n",
    "\n",
    "for i in range(5):\n",
    "    permut = next(permut_iterator)  # 获取排列的下一个值\n",
    "    print(permut)  # 打印当前排列\n",
    "\n",
    "    # 将每个字母组合成一个字符串（可以查阅str.join()的文档）\n",
    "    print(''.join(permut))"
   ]
  },
  {
   "cell_type": "markdown",
   "metadata": {},
   "source": [
    "题目是要求你使用itertools库中的batched()函数，编写一个函数print_amount()，该函数接收一个正整数作为输入，并将其格式化为货币金额的显示形式（以英镑为单位，并在千位之间用逗号分隔）。\n",
    "\n",
    "例如，调用print_amount(12345678)，应输出£12,345,678。\n",
    "\n",
    "\n",
    "字符串翻转：将amount转换为字符串并反转，从最低位开始处理。\n",
    "按3位分组：使用列表推导式按3个字符一组分割并用逗号连接。\n",
    "结果反转并加上英镑符号：将分组结果再次反转并加上£符号。"
   ]
  },
  {
   "cell_type": "code",
   "execution_count": 7,
   "metadata": {},
   "outputs": [
    {
     "name": "stdout",
     "output_type": "stream",
     "text": [
      "£1,000,000\n",
      "£123,456,789\n",
      "£44\n",
      "£50,230\n"
     ]
    }
   ],
   "source": [
    "def print_amount(amount):\n",
    "    '''\n",
    "    显示金额，按千位分组，并在组之间用逗号分隔。\n",
    "    示例：print_amount(1000000) -> £1,000,000\n",
    "    '''\n",
    "    # 将数字转换为字符串并反转\n",
    "    reversed_amount = str(amount)[::-1]\n",
    "\n",
    "    # 将字符串每3位进行分组并用逗号连接\n",
    "    grouped = ','.join(reversed_amount[i:i+3] for i in range(0, len(reversed_amount), 3))\n",
    "\n",
    "    # 结果再反转回来并添加£符号\n",
    "    formatted_amount = '£' + grouped[::-1]\n",
    "    print(formatted_amount)\n",
    "\n",
    "# 测试示例\n",
    "print_amount(1000000)    # 输出: £1,000,000\n",
    "print_amount(123456789)  # 输出: £123,456,789\n",
    "print_amount(44)         # 输出: £44\n",
    "print_amount(50230)      # 输出: £50,230\n",
    "\n"
   ]
  },
  {
   "cell_type": "markdown",
   "metadata": {},
   "source": [
    "12.2生成器\n",
    "生成器是一种特殊的迭代器，它允许我们在不创建完整列表的情况下生成序列。每次调用生成器函数都会“记住”上次执行的位置，从而非常节省内存："
   ]
  },
  {
   "cell_type": "code",
   "execution_count": 9,
   "metadata": {},
   "outputs": [
    {
     "name": "stdout",
     "output_type": "stream",
     "text": [
      "<class 'function'>\n",
      "<class 'generator'>\n"
     ]
    }
   ],
   "source": [
    "# 定义生成器函数，生成平方数的序列\n",
    "def squares_func():\n",
    "    '''\n",
    "    生成平方数序列的生成器函数\n",
    "    '''\n",
    "    num = 1\n",
    "    while True:\n",
    "        yield num**2\n",
    "        num += 1\n",
    "\n",
    "# squares_func 是一个生成器函数\n",
    "print(type(squares_func))\n",
    "\n",
    "# squares_func 的输出是一个生成器对象，可以使用 next() 调用：\n",
    "squares_gen = squares_func()\n",
    "print(type(squares_gen))\n"
   ]
  },
  {
   "cell_type": "code",
   "execution_count": 10,
   "metadata": {},
   "outputs": [
    {
     "name": "stdout",
     "output_type": "stream",
     "text": [
      "第一次 for 循环:\n",
      "我的平方数是 1\n",
      "我的平方数是 4\n",
      "我的平方数是 9\n",
      "我的平方数是 16\n",
      "我的平方数是 25\n",
      "\n",
      "正在做其他事情...\n",
      "\n",
      "第二次 for 循环:\n",
      "我的平方数是 36\n",
      "我的平方数是 49\n",
      "我的平方数是 64\n",
      "我的平方数是 81\n",
      "我的平方数是 100\n"
     ]
    }
   ],
   "source": [
    "print('第一次 for 循环:')\n",
    "for i in range(5):\n",
    "    print(f'我的平方数是 {next(squares_gen)}')\n",
    "\n",
    "# 可以在代码中插入其他操作，生成器会在下次调用时从上次中断的位置继续执行\n",
    "print('\\n正在做其他事情...')\n",
    "\n",
    "print('\\n第二次 for 循环:')\n",
    "for i in range(5):\n",
    "    print(f'我的平方数是 {next(squares_gen)}')"
   ]
  },
  {
   "cell_type": "markdown",
   "metadata": {},
   "source": [
    "练习21.2\n",
    "编写一个生成器函数 countdown_func(n)，接受一个正整数 n 作为输入，并返回一个生成器对象，用于从 n 倒计至 0。\n",
    "\n",
    "例如，若调用 countdown_func(10)，输出应依次显示 10、9、8…直到 0。完成后代码应显示从 10 开始的倒计数，随后显示从 3 开始的倒计数。"
   ]
  },
  {
   "cell_type": "code",
   "execution_count": 1,
   "metadata": {},
   "outputs": [
    {
     "name": "stdout",
     "output_type": "stream",
     "text": [
      "10...\n",
      "9...\n",
      "8...\n",
      "7...\n",
      "6...\n",
      "5...\n",
      "4...\n",
      "3...\n",
      "2...\n",
      "1...\n",
      "0! 💥\n",
      "3...\n",
      "2...\n",
      "1...\n",
      "0! 💥\n"
     ]
    }
   ],
   "source": [
    "def countdown_func(n):\n",
    "    '''\n",
    "    倒计至零的生成器函数。\n",
    "    '''\n",
    "    # 倒数至0之前\n",
    "    while n > 0:\n",
    "        # 如果需要，可以将显示格式设置为更有趣的样式，而不仅仅返回n\n",
    "        yield f'{n}...'\n",
    "        n -= 1\n",
    "\n",
    "    # 到达0\n",
    "    yield f'0! 💥'\n",
    "\n",
    "# 创建一个生成器\n",
    "countdown = countdown_func(10)\n",
    "\n",
    "# 直接遍历生成器（生成器是一种特殊的迭代器）\n",
    "# 由于它不是无限的，因此不需要指定范围——当耗尽数字时会自动停止\n",
    "for c in countdown:\n",
    "    print(c)\n",
    "\n",
    "# 此次从3开始倒数\n",
    "countdown = countdown_func(3)\n",
    "\n",
    "for c in countdown:\n",
    "    print(c)\n"
   ]
  },
  {
   "cell_type": "markdown",
   "metadata": {},
   "source": [
    "练习21.3\n",
    "在数学中，Perrin 数是由递推关系定义的：\n",
    "P(n)=P(n−2)+P(n−3),n>2\n",
    "\n",
    "初始值为：\n",
    "P(0)=3,P(1)=0,P(2)=2\n",
    "\n",
    "根据这个关系，Perrin 数列的前几项是 3, 0, 2, 3, 2, 5, 5, 7, 10, 12, 17, 22, 29, 39, ...\n",
    "编写一个生成器函数，用于生成一个无限的 Perrin 数列。\n",
    "\n",
    "提示：在生成器函数中可以使用多个 yield 语句。"
   ]
  },
  {
   "cell_type": "code",
   "execution_count": 2,
   "metadata": {},
   "outputs": [
    {
     "name": "stdout",
     "output_type": "stream",
     "text": [
      "3\n",
      "0\n",
      "2\n",
      "3\n",
      "2\n",
      "5\n",
      "5\n",
      "7\n",
      "10\n",
      "12\n",
      "17\n",
      "22\n",
      "29\n",
      "39\n",
      "51\n",
      "68\n"
     ]
    }
   ],
   "source": [
    "def seq_Perrin():\n",
    "    '''\n",
    "    生成 Perrin 数列的元素。\n",
    "    定义变量 c = 3，然后使用 yield 语句生成第一个 Perrin 数 3。\n",
    "    设置 b, c = c, 0，生成第二个 Perrin 数 0。\n",
    "    设置 a, b, c = b, c, 2，生成第三个 Perrin 数 2。\n",
    "    '''\n",
    "    c = 3\n",
    "    yield c    # 第一个停止点\n",
    "    b, c = c, 0\n",
    "    yield c    # 第二个停止点\n",
    "    a, b, c = b, c, 2\n",
    "    yield c    # 第三个停止点\n",
    "\n",
    "    while True:\n",
    "        a, b, c = b, c, a + b\n",
    "        yield c    # 后续所有的停止点\n",
    "\n",
    "# 创建生成器\n",
    "gen_Perrin = seq_Perrin()\n",
    "\n",
    "# 使用生成器\n",
    "for i in range(16):\n",
    "    print(next(gen_Perrin))\n"
   ]
  },
  {
   "cell_type": "markdown",
   "metadata": {},
   "source": [
    "二十二章 使用数据：pandas\n",
    "Python 的一个重要应用是读取、分析和可视化数据。一个非常有用的库是 pandas。\n",
    "\n",
    "在 pandas 中，所有操作都围绕一种新的容器类型——DataFrame。DataFrame 是一个用于存储数据的对象，看起来有点像电子表格（数据主要是通过列名和行名/编号进行索引）。DataFrame 中的数据不必是相同的数据类型。\n",
    "\n",
    "pandas 可以执行很多不同的操作；在本课程中，我们不会全面介绍所有功能。相反，我们将通过示例和不同的数据集，练习使用 DataFrame 操作数据，并通过文档学习新功能。\n",
    "\n",
    "22.1 从 CSV 文件创建一个数据框\n",
    "这是一个示例，使用第五周的文件 renewable_pc.csv。"
   ]
  },
  {
   "cell_type": "code",
   "execution_count": 6,
   "metadata": {},
   "outputs": [
    {
     "data": {
      "text/html": [
       "<div>\n",
       "<style scoped>\n",
       "    .dataframe tbody tr th:only-of-type {\n",
       "        vertical-align: middle;\n",
       "    }\n",
       "\n",
       "    .dataframe tbody tr th {\n",
       "        vertical-align: top;\n",
       "    }\n",
       "\n",
       "    .dataframe thead th {\n",
       "        text-align: right;\n",
       "    }\n",
       "</style>\n",
       "<table border=\"1\" class=\"dataframe\">\n",
       "  <thead>\n",
       "    <tr style=\"text-align: right;\">\n",
       "      <th></th>\n",
       "      <th>Year</th>\n",
       "      <th>Bulgaria</th>\n",
       "      <th>Croatia</th>\n",
       "      <th>Denmark</th>\n",
       "      <th>Iceland</th>\n",
       "    </tr>\n",
       "  </thead>\n",
       "  <tbody>\n",
       "    <tr>\n",
       "      <th>0</th>\n",
       "      <td>2004</td>\n",
       "      <td>9.231</td>\n",
       "      <td>23.404</td>\n",
       "      <td>14.839</td>\n",
       "      <td>58.899</td>\n",
       "    </tr>\n",
       "    <tr>\n",
       "      <th>1</th>\n",
       "      <td>2005</td>\n",
       "      <td>9.173</td>\n",
       "      <td>23.691</td>\n",
       "      <td>15.955</td>\n",
       "      <td>60.270</td>\n",
       "    </tr>\n",
       "    <tr>\n",
       "      <th>2</th>\n",
       "      <td>2006</td>\n",
       "      <td>9.415</td>\n",
       "      <td>22.668</td>\n",
       "      <td>16.332</td>\n",
       "      <td>60.921</td>\n",
       "    </tr>\n",
       "    <tr>\n",
       "      <th>3</th>\n",
       "      <td>2007</td>\n",
       "      <td>9.098</td>\n",
       "      <td>22.161</td>\n",
       "      <td>17.747</td>\n",
       "      <td>71.925</td>\n",
       "    </tr>\n",
       "    <tr>\n",
       "      <th>4</th>\n",
       "      <td>2008</td>\n",
       "      <td>10.345</td>\n",
       "      <td>21.986</td>\n",
       "      <td>18.543</td>\n",
       "      <td>67.981</td>\n",
       "    </tr>\n",
       "    <tr>\n",
       "      <th>5</th>\n",
       "      <td>2009</td>\n",
       "      <td>12.005</td>\n",
       "      <td>23.596</td>\n",
       "      <td>19.948</td>\n",
       "      <td>70.238</td>\n",
       "    </tr>\n",
       "    <tr>\n",
       "      <th>6</th>\n",
       "      <td>2010</td>\n",
       "      <td>13.927</td>\n",
       "      <td>25.103</td>\n",
       "      <td>21.888</td>\n",
       "      <td>70.909</td>\n",
       "    </tr>\n",
       "    <tr>\n",
       "      <th>7</th>\n",
       "      <td>2011</td>\n",
       "      <td>14.152</td>\n",
       "      <td>25.389</td>\n",
       "      <td>23.389</td>\n",
       "      <td>72.298</td>\n",
       "    </tr>\n",
       "    <tr>\n",
       "      <th>8</th>\n",
       "      <td>2012</td>\n",
       "      <td>15.837</td>\n",
       "      <td>26.757</td>\n",
       "      <td>25.465</td>\n",
       "      <td>73.727</td>\n",
       "    </tr>\n",
       "    <tr>\n",
       "      <th>9</th>\n",
       "      <td>2013</td>\n",
       "      <td>18.898</td>\n",
       "      <td>28.040</td>\n",
       "      <td>27.173</td>\n",
       "      <td>73.787</td>\n",
       "    </tr>\n",
       "  </tbody>\n",
       "</table>\n",
       "</div>"
      ],
      "text/plain": [
       "   Year  Bulgaria  Croatia  Denmark  Iceland\n",
       "0  2004     9.231   23.404   14.839   58.899\n",
       "1  2005     9.173   23.691   15.955   60.270\n",
       "2  2006     9.415   22.668   16.332   60.921\n",
       "3  2007     9.098   22.161   17.747   71.925\n",
       "4  2008    10.345   21.986   18.543   67.981\n",
       "5  2009    12.005   23.596   19.948   70.238\n",
       "6  2010    13.927   25.103   21.888   70.909\n",
       "7  2011    14.152   25.389   23.389   72.298\n",
       "8  2012    15.837   26.757   25.465   73.727\n",
       "9  2013    18.898   28.040   27.173   73.787"
      ]
     },
     "execution_count": 6,
     "metadata": {},
     "output_type": "execute_result"
    }
   ],
   "source": [
    "# 首先，导入 pandas 模块\n",
    "import pandas as pd\n",
    "\n",
    "# 使用 read_csv 函数将 CSV 文件读取到一个数据框中\n",
    "energy_data = pd.read_csv('renewable_pc.csv')\n",
    "\n",
    "# 查看数据框中的内容\n",
    "energy_data.head(10)\n"
   ]
  },
  {
   "cell_type": "markdown",
   "metadata": {},
   "source": [
    "已经可以看到，使用 pandas 比使用 Numpy 读取数据文件有优势——我们仍然可以使用列名来引用数据。"
   ]
  },
  {
   "cell_type": "code",
   "execution_count": 7,
   "metadata": {},
   "outputs": [
    {
     "name": "stdout",
     "output_type": "stream",
     "text": [
      "列标题:\n",
      "Index(['Year', 'Bulgaria', 'Croatia', 'Denmark', 'Iceland'], dtype='object') \n",
      "\n",
      "来自克罗地亚的数据:\n",
      "0     23.404\n",
      "1     23.691\n",
      "2     22.668\n",
      "3     22.161\n",
      "4     21.986\n",
      "5     23.596\n",
      "6     25.103\n",
      "7     25.389\n",
      "8     26.757\n",
      "9     28.040\n",
      "10    27.817\n",
      "11    28.969\n",
      "12    28.266\n",
      "13    27.280\n",
      "14    28.047\n",
      "15    28.466\n",
      "16    31.023\n",
      "17    31.285\n",
      "18    27.924\n",
      "Name: Croatia, dtype: float64\n"
     ]
    }
   ],
   "source": [
    "# 获取列标题\n",
    "print('列标题:')\n",
    "print(energy_data.columns, '\\n')\n",
    "\n",
    "# 通过列名提取特定列的数据\n",
    "print('来自克罗地亚的数据:')\n",
    "print(energy_data['Croatia'])\n"
   ]
  },
  {
   "cell_type": "markdown",
   "metadata": {},
   "source": [
    "注意，我们可以使用类似字典的索引方式（例如 energy_data['Croatia']）来从特定列中获取数据——不需要知道列的位置。\n",
    "\n",
    "我们还可以指定使用文件中的某一列作为行标签读取文件——注意与前一个命令的不同之处："
   ]
  },
  {
   "cell_type": "code",
   "execution_count": 8,
   "metadata": {},
   "outputs": [
    {
     "name": "stdout",
     "output_type": "stream",
     "text": [
      "Index(['Bulgaria', 'Croatia', 'Denmark', 'Iceland'], dtype='object')\n",
      "Index([2004, 2005, 2006, 2007, 2008, 2009, 2010, 2011, 2012, 2013, 2014, 2015,\n",
      "       2016, 2017, 2018, 2019, 2020, 2021, 2022],\n",
      "      dtype='int64', name='Year')\n"
     ]
    },
    {
     "data": {
      "text/html": [
       "<div>\n",
       "<style scoped>\n",
       "    .dataframe tbody tr th:only-of-type {\n",
       "        vertical-align: middle;\n",
       "    }\n",
       "\n",
       "    .dataframe tbody tr th {\n",
       "        vertical-align: top;\n",
       "    }\n",
       "\n",
       "    .dataframe thead th {\n",
       "        text-align: right;\n",
       "    }\n",
       "</style>\n",
       "<table border=\"1\" class=\"dataframe\">\n",
       "  <thead>\n",
       "    <tr style=\"text-align: right;\">\n",
       "      <th></th>\n",
       "      <th>Bulgaria</th>\n",
       "      <th>Croatia</th>\n",
       "      <th>Denmark</th>\n",
       "      <th>Iceland</th>\n",
       "    </tr>\n",
       "    <tr>\n",
       "      <th>Year</th>\n",
       "      <th></th>\n",
       "      <th></th>\n",
       "      <th></th>\n",
       "      <th></th>\n",
       "    </tr>\n",
       "  </thead>\n",
       "  <tbody>\n",
       "    <tr>\n",
       "      <th>2004</th>\n",
       "      <td>9.231</td>\n",
       "      <td>23.404</td>\n",
       "      <td>14.839</td>\n",
       "      <td>58.899</td>\n",
       "    </tr>\n",
       "    <tr>\n",
       "      <th>2005</th>\n",
       "      <td>9.173</td>\n",
       "      <td>23.691</td>\n",
       "      <td>15.955</td>\n",
       "      <td>60.270</td>\n",
       "    </tr>\n",
       "    <tr>\n",
       "      <th>2006</th>\n",
       "      <td>9.415</td>\n",
       "      <td>22.668</td>\n",
       "      <td>16.332</td>\n",
       "      <td>60.921</td>\n",
       "    </tr>\n",
       "    <tr>\n",
       "      <th>2007</th>\n",
       "      <td>9.098</td>\n",
       "      <td>22.161</td>\n",
       "      <td>17.747</td>\n",
       "      <td>71.925</td>\n",
       "    </tr>\n",
       "    <tr>\n",
       "      <th>2008</th>\n",
       "      <td>10.345</td>\n",
       "      <td>21.986</td>\n",
       "      <td>18.543</td>\n",
       "      <td>67.981</td>\n",
       "    </tr>\n",
       "    <tr>\n",
       "      <th>2009</th>\n",
       "      <td>12.005</td>\n",
       "      <td>23.596</td>\n",
       "      <td>19.948</td>\n",
       "      <td>70.238</td>\n",
       "    </tr>\n",
       "    <tr>\n",
       "      <th>2010</th>\n",
       "      <td>13.927</td>\n",
       "      <td>25.103</td>\n",
       "      <td>21.888</td>\n",
       "      <td>70.909</td>\n",
       "    </tr>\n",
       "    <tr>\n",
       "      <th>2011</th>\n",
       "      <td>14.152</td>\n",
       "      <td>25.389</td>\n",
       "      <td>23.389</td>\n",
       "      <td>72.298</td>\n",
       "    </tr>\n",
       "    <tr>\n",
       "      <th>2012</th>\n",
       "      <td>15.837</td>\n",
       "      <td>26.757</td>\n",
       "      <td>25.465</td>\n",
       "      <td>73.727</td>\n",
       "    </tr>\n",
       "    <tr>\n",
       "      <th>2013</th>\n",
       "      <td>18.898</td>\n",
       "      <td>28.040</td>\n",
       "      <td>27.173</td>\n",
       "      <td>73.787</td>\n",
       "    </tr>\n",
       "    <tr>\n",
       "      <th>2014</th>\n",
       "      <td>18.050</td>\n",
       "      <td>27.817</td>\n",
       "      <td>29.310</td>\n",
       "      <td>73.043</td>\n",
       "    </tr>\n",
       "    <tr>\n",
       "      <th>2015</th>\n",
       "      <td>18.261</td>\n",
       "      <td>28.969</td>\n",
       "      <td>30.469</td>\n",
       "      <td>71.949</td>\n",
       "    </tr>\n",
       "    <tr>\n",
       "      <th>2016</th>\n",
       "      <td>18.760</td>\n",
       "      <td>28.266</td>\n",
       "      <td>31.715</td>\n",
       "      <td>75.329</td>\n",
       "    </tr>\n",
       "    <tr>\n",
       "      <th>2017</th>\n",
       "      <td>18.695</td>\n",
       "      <td>27.280</td>\n",
       "      <td>34.387</td>\n",
       "      <td>74.104</td>\n",
       "    </tr>\n",
       "    <tr>\n",
       "      <th>2018</th>\n",
       "      <td>20.581</td>\n",
       "      <td>28.047</td>\n",
       "      <td>35.159</td>\n",
       "      <td>77.173</td>\n",
       "    </tr>\n",
       "    <tr>\n",
       "      <th>2019</th>\n",
       "      <td>21.545</td>\n",
       "      <td>28.466</td>\n",
       "      <td>37.020</td>\n",
       "      <td>78.612</td>\n",
       "    </tr>\n",
       "    <tr>\n",
       "      <th>2020</th>\n",
       "      <td>23.319</td>\n",
       "      <td>31.023</td>\n",
       "      <td>31.681</td>\n",
       "      <td>83.725</td>\n",
       "    </tr>\n",
       "    <tr>\n",
       "      <th>2021</th>\n",
       "      <td>19.447</td>\n",
       "      <td>31.285</td>\n",
       "      <td>41.009</td>\n",
       "      <td>80.185</td>\n",
       "    </tr>\n",
       "    <tr>\n",
       "      <th>2022</th>\n",
       "      <td>19.095</td>\n",
       "      <td>27.924</td>\n",
       "      <td>41.602</td>\n",
       "      <td>79.475</td>\n",
       "    </tr>\n",
       "  </tbody>\n",
       "</table>\n",
       "</div>"
      ],
      "text/plain": [
       "      Bulgaria  Croatia  Denmark  Iceland\n",
       "Year                                     \n",
       "2004     9.231   23.404   14.839   58.899\n",
       "2005     9.173   23.691   15.955   60.270\n",
       "2006     9.415   22.668   16.332   60.921\n",
       "2007     9.098   22.161   17.747   71.925\n",
       "2008    10.345   21.986   18.543   67.981\n",
       "2009    12.005   23.596   19.948   70.238\n",
       "2010    13.927   25.103   21.888   70.909\n",
       "2011    14.152   25.389   23.389   72.298\n",
       "2012    15.837   26.757   25.465   73.727\n",
       "2013    18.898   28.040   27.173   73.787\n",
       "2014    18.050   27.817   29.310   73.043\n",
       "2015    18.261   28.969   30.469   71.949\n",
       "2016    18.760   28.266   31.715   75.329\n",
       "2017    18.695   27.280   34.387   74.104\n",
       "2018    20.581   28.047   35.159   77.173\n",
       "2019    21.545   28.466   37.020   78.612\n",
       "2020    23.319   31.023   31.681   83.725\n",
       "2021    19.447   31.285   41.009   80.185\n",
       "2022    19.095   27.924   41.602   79.475"
      ]
     },
     "execution_count": 8,
     "metadata": {},
     "output_type": "execute_result"
    }
   ],
   "source": [
    "# 将文件中的第一列用作行索引\n",
    "energy_data = pd.read_csv('renewable_pc.csv', index_col=0)\n",
    "\n",
    "# 打印列名和行名\n",
    "print(energy_data.columns)\n",
    "print(energy_data.index)\n",
    "\n",
    "# 查看数据框中的内容\n",
    "energy_data\n"
   ]
  },
  {
   "cell_type": "markdown",
   "metadata": {},
   "source": [
    "22.2 索引数据框\n",
    "pandas 文档中的用户指南 是必读内容。以下是摘要：\n",
    "\n",
    ".iloc 用于按数字索引（与 Numpy 数组类似）。"
   ]
  },
  {
   "cell_type": "code",
   "execution_count": 9,
   "metadata": {},
   "outputs": [
    {
     "name": "stdout",
     "output_type": "stream",
     "text": [
      "Bulgaria     9.173\n",
      "Croatia     23.691\n",
      "Denmark     15.955\n",
      "Iceland     60.270\n",
      "Name: 2005, dtype: float64 \n",
      "\n",
      "Year\n",
      "2004    23.404\n",
      "2005    23.691\n",
      "2006    22.668\n",
      "2007    22.161\n",
      "2008    21.986\n",
      "2009    23.596\n",
      "2010    25.103\n",
      "2011    25.389\n",
      "2012    26.757\n",
      "2013    28.040\n",
      "2014    27.817\n",
      "2015    28.969\n",
      "2016    28.266\n",
      "2017    27.280\n",
      "2018    28.047\n",
      "2019    28.466\n",
      "2020    31.023\n",
      "2021    31.285\n",
      "2022    27.924\n",
      "Name: Croatia, dtype: float64\n"
     ]
    }
   ],
   "source": [
    "energy_data = pd.read_csv('renewable_pc.csv', index_col=0)\n",
    "\n",
    "# 使用数值索引选择我们数据中的一行（这里是第二行）\n",
    "print(energy_data.iloc[1], '\\n')\n",
    "\n",
    "# 也可以按数值索引提取一列——这里是第二列\n",
    "print(energy_data.iloc[:, 1])\n",
    "#.loc 用于按标签（行名和/或列标题）索引，也可以用于布尔索引。"
   ]
  },
  {
   "cell_type": "markdown",
   "metadata": {},
   "source": [
    "以下是按行和列标签索引一个值的示例：\n",
    "这是一个使用布尔索引的更复杂的示例：\n",
    "\n",
    "使用 .loc 返回丹麦的所有数据，\n",
    "使用 < 创建一个布尔数据框，其中丹麦的可再生能源百分比大于 35 为 True，\n",
    "使用 .index 和布尔数组返回所有行（即发生该情况的日期），\n",
    "使用 .loc 和布尔数组返回数据框中的值（实际百分比），其中发生了这种情况。"
   ]
  },
  {
   "cell_type": "code",
   "execution_count": 10,
   "metadata": {},
   "outputs": [
    {
     "name": "stdout",
     "output_type": "stream",
     "text": [
      "78.612 \n",
      "\n"
     ]
    }
   ],
   "source": [
    "# 使用 .loc[row_name, column_name] 提取冰岛 2019 年的数据\n",
    "print(energy_data.loc[2019, 'Iceland'], '\\n')\n"
   ]
  },
  {
   "cell_type": "code",
   "execution_count": 12,
   "metadata": {},
   "outputs": [
    {
     "name": "stdout",
     "output_type": "stream",
     "text": [
      "Year\n",
      "2004    False\n",
      "2005    False\n",
      "2006    False\n",
      "2007    False\n",
      "2008    False\n",
      "2009    False\n",
      "2010    False\n",
      "2011    False\n",
      "2012    False\n",
      "2013    False\n",
      "2014    False\n",
      "2015    False\n",
      "2016    False\n",
      "2017    False\n",
      "2018     True\n",
      "2019     True\n",
      "2020    False\n",
      "2021     True\n",
      "2022     True\n",
      "Name: Denmark, dtype: bool\n"
     ]
    }
   ],
   "source": [
    "\n",
    "# 当丹麦的可再生能源百分比高于 35% 时，定位相应的行\n",
    "denmark_above_35 = energy_data.loc[:, 'Denmark'] > 35\n",
    "print(denmark_above_35)\n"
   ]
  },
  {
   "cell_type": "code",
   "execution_count": 14,
   "metadata": {},
   "outputs": [
    {
     "name": "stdout",
     "output_type": "stream",
     "text": [
      "Index([2018, 2019, 2021, 2022], dtype='int64', name='Year')\n"
     ]
    }
   ],
   "source": [
    "\n",
    "# 显示这些年份的行标签（年份）\n",
    "print(energy_data.index[denmark_above_35])\n"
   ]
  },
  {
   "cell_type": "code",
   "execution_count": 16,
   "metadata": {},
   "outputs": [
    {
     "name": "stdout",
     "output_type": "stream",
     "text": [
      "Year\n",
      "2018    35.159\n",
      "2019    37.020\n",
      "2021    41.009\n",
      "2022    41.602\n",
      "Name: Denmark, dtype: float64\n"
     ]
    }
   ],
   "source": [
    "\n",
    "# 显示丹麦在这些年份的实际百分比值\n",
    "print(energy_data.loc[denmark_above_35, 'Denmark'])\n",
    "\n"
   ]
  },
  {
   "cell_type": "code",
   "execution_count": 17,
   "metadata": {},
   "outputs": [
    {
     "name": "stdout",
     "output_type": "stream",
     "text": [
      "      Bulgaria  Croatia  Denmark  Iceland\n",
      "Year                                     \n",
      "2018    20.581   28.047   35.159   77.173\n",
      "2019    21.545   28.466   37.020   78.612\n",
      "2021    19.447   31.285   41.009   80.185\n",
      "2022    19.095   27.924   41.602   79.475\n"
     ]
    }
   ],
   "source": [
    "# 显示其他国家在这些相同年份的值\n",
    "print(energy_data.loc[denmark_above_35])"
   ]
  },
  {
   "cell_type": "markdown",
   "metadata": {},
   "source": [
    "练习 22.1\n",
    "显示丹麦使用可再生能源的百分比，但仅限于保加利亚的百分比低于 20% 且克罗地亚的百分比高于 28% 的日期。"
   ]
  },
  {
   "cell_type": "code",
   "execution_count": 18,
   "metadata": {},
   "outputs": [
    {
     "name": "stdout",
     "output_type": "stream",
     "text": [
      "Year\n",
      "2013    27.173\n",
      "2015    30.469\n",
      "2016    31.715\n",
      "2021    41.009\n",
      "Name: Denmark, dtype: float64\n"
     ]
    }
   ],
   "source": [
    "# 创建两个布尔过滤器，分别针对保加利亚的百分比低于20%和克罗地亚的百分比高于28%\n",
    "bulgaria_filter = energy_data.loc[:, 'Bulgaria'] < 20\n",
    "croatia_filter = energy_data.loc[:, 'Croatia'] > 28\n",
    "\n",
    "# 使用 & 操作符将两个布尔过滤器结合，提取符合条件的丹麦数据\n",
    "print(energy_data.loc[bulgaria_filter & croatia_filter, 'Denmark'])"
   ]
  },
  {
   "cell_type": "markdown",
   "metadata": {},
   "source": [
    "22.3 绘图和统计\n",
    "pandas 具有一些基本的绘图和统计功能；此外，你还可以使用其他库（例如 Numpy、SciPy 和 Matplotlib）来可视化数据并执行计算。\n",
    "\n",
    "让我们看另一个数据集。文件 r_and_d_spend.csv 来自一个开放的欧洲数据集，描述了不同国家在研发工作上的 GDP 支出。"
   ]
  },
  {
   "cell_type": "code",
   "execution_count": 20,
   "metadata": {},
   "outputs": [
    {
     "name": "stdout",
     "output_type": "stream",
     "text": [
      "    Year  Austria  Belgium  Bulgaria  Cyprus  Czech Republic  Germany  Denmark\n",
      "0   1999     1.85     1.89      0.54    0.22            1.06     2.33     2.13\n",
      "1   2000     1.89     1.92      0.50    0.23            1.12     2.39     2.19\n",
      "2   2001     2.00     2.02      0.45    0.24            1.11     2.39     2.32\n",
      "3   2002     2.07     1.89      0.47    0.28            1.10     2.42     2.44\n",
      "4   2003     2.18     1.83      0.48    0.32            1.15     2.46     2.51\n",
      "5   2004     2.17     1.81      0.47    0.34            1.15     2.42     2.42\n",
      "6   2005     2.38     1.78      0.45    0.37            1.17     2.42     2.39\n",
      "7   2006     2.37     1.81      0.45    0.38            1.23     2.46     2.40\n",
      "8   2007     2.43     1.84      0.43    0.40            1.31     2.45     2.51\n",
      "9   2008     2.59     1.92      0.45    0.39            1.24     2.60     2.78\n",
      "10  2009     2.61     1.99      0.49    0.44            1.30     2.72     3.07\n",
      "11  2010     2.74     2.05      0.56    0.45            1.34     2.71     2.94\n",
      "12  2011     2.68     2.16      0.53    0.45            1.56     2.80     2.97\n",
      "13  2012     2.93     2.36      0.60    0.43            1.78     2.87     3.00\n",
      "14  2013     2.97     2.44      0.63    0.46            1.90     2.82     3.01\n",
      "15  2014     3.06     2.46      0.79    0.48            1.97     2.89     3.02\n",
      "16  2015     3.07     2.45      0.96    0.46            1.95     2.87     3.03\n"
     ]
    },
    {
     "data": {
      "image/png": "[encoded data removed]",
      "text/plain": [
       "<Figure size 640x480 with 1 Axes>"
      ]
     },
     "metadata": {},
     "output_type": "display_data"
    }
   ],
   "source": [
    "import numpy as np\n",
    "import scipy.stats as st\n",
    "import matplotlib.pyplot as plt\n",
    "\n",
    "# 读取数据\n",
    "randd = pd.read_csv('r_and_d_spend.csv')\n",
    "print(randd)\n",
    "\n",
    "# 绘制奥地利的数据\n",
    "fig, ax = plt.subplots()\n",
    "ax.plot(randd['Year'], randd['Austria'], 'bo')\n",
    "\n",
    "# 为奥地利数据拟合一条直线\n",
    "LR_aus = st.linregress(randd['Year'], randd['Austria'])\n",
    "y_aus = LR_aus.intercept + LR_aus.slope * randd['Year']\n",
    "\n",
    "ax.plot(randd['Year'], y_aus, 'b-')\n",
    "\n",
    "ax.set(xlabel='Year', ylabel='R and D spend', title='R and D spend for Austria')\n",
    "plt.show()\n"
   ]
  }
 ],
 "metadata": {
  "kernelspec": {
   "display_name": "base",
   "language": "python",
   "name": "python3"
  },
  "language_info": {
   "codemirror_mode": {
    "name": "ipython",
    "version": 3
   },
   "file_extension": ".py",
   "mimetype": "text/x-python",
   "name": "python",
   "nbconvert_exporter": "python",
   "pygments_lexer": "ipython3",
   "version": "3.11.5"
  }
 },
 "nbformat": 4,
 "nbformat_minor": 2
}
