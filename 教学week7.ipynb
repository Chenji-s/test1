{
 "cells": [
  {
   "cell_type": "code",
   "execution_count": null,
   "metadata": {},
   "outputs": [],
   "source": [
    "二十一章 可迭代对象、迭代器和生成器 \n",
    "21.1.1 创建和使用迭代器"
   ]
  },
  {
   "cell_type": "code",
   "execution_count": 1,
   "metadata": {},
   "outputs": [
    {
     "name": "stdout",
     "output_type": "stream",
     "text": [
      "[1, 2, 4, 8, 16, 32, 64, 128, 256, 512, 1024, 2048]\n",
      "1\n",
      "2\n"
     ]
    }
   ],
   "source": [
    "# 创建一个从 2 的幂次组成的列表，从 2^1 到 2^12\n",
    "powers_two = [2**n for n in range(12)]\n",
    "print(powers_two)\n",
    "\n",
    "# 创建一个可以逐步遍历 powers_two 列表的迭代器\n",
    "my_iter = iter(powers_two)\n",
    "\n",
    "# 使用 next() 来逐步推进迭代器，一次获取一个元素\n",
    "print(next(my_iter))\n",
    "print(next(my_iter))\n"
   ]
  },
  {
   "cell_type": "markdown",
   "metadata": {},
   "source": [
    "在接下来的循环中，我们尝试从上次停下的位置继续获取 powers_two 列表中的值："
   ]
  },
  {
   "cell_type": "code",
   "execution_count": 2,
   "metadata": {},
   "outputs": [
    {
     "name": "stdout",
     "output_type": "stream",
     "text": [
      "第 0 次迭代，迭代器返回 4\n",
      "第 1 次迭代，迭代器返回 8\n",
      "第 2 次迭代，迭代器返回 16\n",
      "第 3 次迭代，迭代器返回 32\n",
      "第 4 次迭代，迭代器返回 64\n",
      "第 5 次迭代，迭代器返回 128\n",
      "第 6 次迭代，迭代器返回 256\n",
      "第 7 次迭代，迭代器返回 512\n",
      "第 8 次迭代，迭代器返回 1024\n",
      "第 9 次迭代，迭代器返回 2048\n"
     ]
    }
   ],
   "source": [
    "for i in range(10):\n",
    "    print(f'第 {i} 次迭代，迭代器返回 {next(my_iter)}')\n"
   ]
  },
  {
   "cell_type": "markdown",
   "metadata": {},
   "source": [
    "21.1.2 内建迭代器\n",
    "Python 有一个模块 itertools，它提供了一些有用的函数来创建比简单的序列步进更高级的迭代器："
   ]
  },
  {
   "cell_type": "markdown",
   "metadata": {},
   "source": [
    "使用itertools.permutations函数生成t[0]（一个含4个字母的字符串）的所有排列。\n",
    "使用next()函数获取排列迭代器中的前5个排列，分别打印排列的元组形式和连接成字符串后的形式。"
   ]
  },
  {
   "cell_type": "code",
   "execution_count": 3,
   "metadata": {},
   "outputs": [
    {
     "name": "stdout",
     "output_type": "stream",
     "text": [
      "some\n",
      "pretty\n",
      "words\n",
      "some\n",
      "pretty\n",
      "words\n",
      "some\n",
      "pretty\n",
      "words\n",
      "some\n",
      "pretty\n",
      "words\n"
     ]
    }
   ],
   "source": [
    "import itertools\n",
    "\n",
    "# 无限循环遍历一个序列\n",
    "t = ['some', 'pretty', 'words']\n",
    "cycle_iterator = itertools.cycle(t)\n",
    "\n",
    "for i in range(12):\n",
    "    print(next(cycle_iterator))\n"
   ]
  },
  {
   "cell_type": "markdown",
   "metadata": {},
   "source": [
    "直接遍历排列迭代器，生成字符串'abc'的所有可能排列。\n",
    "通过''.join(p)将每个排列的元组拼接成字符串并打印。"
   ]
  },
  {
   "cell_type": "code",
   "execution_count": 4,
   "metadata": {},
   "outputs": [
    {
     "name": "stdout",
     "output_type": "stream",
     "text": [
      "('s', 'o', 'm', 'e')\n",
      "some\n",
      "('s', 'o', 'e', 'm')\n",
      "soem\n",
      "('s', 'm', 'o', 'e')\n",
      "smoe\n",
      "('s', 'm', 'e', 'o')\n",
      "smeo\n",
      "('s', 'e', 'o', 'm')\n",
      "seom\n"
     ]
    }
   ],
   "source": [
    "# 显示4个字母的前5个可能排列\n",
    "permut_iterator = itertools.permutations(t[0])\n",
    "\n",
    "for i in range(5):\n",
    "    permut = next(permut_iterator)  # 获取排列的下一个值\n",
    "    print(permut)  # 打印当前排列\n",
    "\n",
    "    # 将每个字母组合成一个字符串（可以查阅str.join()的文档）\n",
    "    print(''.join(permut))"
   ]
  },
  {
   "cell_type": "code",
   "execution_count": 5,
   "metadata": {},
   "outputs": [
    {
     "name": "stdout",
     "output_type": "stream",
     "text": [
      "('s', 'o', 'm', 'e')\n",
      "some\n",
      "('s', 'o', 'e', 'm')\n",
      "soem\n",
      "('s', 'm', 'o', 'e')\n",
      "smoe\n",
      "('s', 'm', 'e', 'o')\n",
      "smeo\n",
      "('s', 'e', 'o', 'm')\n",
      "seom\n"
     ]
    }
   ],
   "source": [
    "# 显示4个字母的前5个可能排列\n",
    "permut_iterator = itertools.permutations(t[0])\n",
    "\n",
    "for i in range(5):\n",
    "    permut = next(permut_iterator)  # 获取排列的下一个值\n",
    "    print(permut)  # 打印当前排列\n",
    "\n",
    "    # 将每个字母组合成一个字符串（可以查阅str.join()的文档）\n",
    "    print(''.join(permut))"
   ]
  },
  {
   "cell_type": "markdown",
   "metadata": {},
   "source": [
    "题目是要求你使用itertools库中的batched()函数，编写一个函数print_amount()，该函数接收一个正整数作为输入，并将其格式化为货币金额的显示形式（以英镑为单位，并在千位之间用逗号分隔）。\n",
    "\n",
    "例如，调用print_amount(12345678)，应输出£12,345,678。\n",
    "\n",
    "\n",
    "字符串翻转：将amount转换为字符串并反转，从最低位开始处理。\n",
    "按3位分组：使用列表推导式按3个字符一组分割并用逗号连接。\n",
    "结果反转并加上英镑符号：将分组结果再次反转并加上£符号。"
   ]
  },
  {
   "cell_type": "code",
   "execution_count": 7,
   "metadata": {},
   "outputs": [
    {
     "name": "stdout",
     "output_type": "stream",
     "text": [
      "£1,000,000\n",
      "£123,456,789\n",
      "£44\n",
      "£50,230\n"
     ]
    }
   ],
   "source": [
    "def print_amount(amount):\n",
    "    '''\n",
    "    显示金额，按千位分组，并在组之间用逗号分隔。\n",
    "    示例：print_amount(1000000) -> £1,000,000\n",
    "    '''\n",
    "    # 将数字转换为字符串并反转\n",
    "    reversed_amount = str(amount)[::-1]\n",
    "\n",
    "    # 将字符串每3位进行分组并用逗号连接\n",
    "    grouped = ','.join(reversed_amount[i:i+3] for i in range(0, len(reversed_amount), 3))\n",
    "\n",
    "    # 结果再反转回来并添加£符号\n",
    "    formatted_amount = '£' + grouped[::-1]\n",
    "    print(formatted_amount)\n",
    "\n",
    "# 测试示例\n",
    "print_amount(1000000)    # 输出: £1,000,000\n",
    "print_amount(123456789)  # 输出: £123,456,789\n",
    "print_amount(44)         # 输出: £44\n",
    "print_amount(50230)      # 输出: £50,230\n",
    "\n"
   ]
  },
  {
   "cell_type": "markdown",
   "metadata": {},
   "source": [
    "12.2生成器\n",
    "生成器是一种特殊的迭代器，它允许我们在不创建完整列表的情况下生成序列。每次调用生成器函数都会“记住”上次执行的位置，从而非常节省内存："
   ]
  },
  {
   "cell_type": "code",
   "execution_count": 9,
   "metadata": {},
   "outputs": [
    {
     "name": "stdout",
     "output_type": "stream",
     "text": [
      "<class 'function'>\n",
      "<class 'generator'>\n"
     ]
    }
   ],
   "source": [
    "# 定义生成器函数，生成平方数的序列\n",
    "def squares_func():\n",
    "    '''\n",
    "    生成平方数序列的生成器函数\n",
    "    '''\n",
    "    num = 1\n",
    "    while True:\n",
    "        yield num**2\n",
    "        num += 1\n",
    "\n",
    "# squares_func 是一个生成器函数\n",
    "print(type(squares_func))\n",
    "\n",
    "# squares_func 的输出是一个生成器对象，可以使用 next() 调用：\n",
    "squares_gen = squares_func()\n",
    "print(type(squares_gen))\n"
   ]
  },
  {
   "cell_type": "code",
   "execution_count": 10,
   "metadata": {},
   "outputs": [
    {
     "name": "stdout",
     "output_type": "stream",
     "text": [
      "第一次 for 循环:\n",
      "我的平方数是 1\n",
      "我的平方数是 4\n",
      "我的平方数是 9\n",
      "我的平方数是 16\n",
      "我的平方数是 25\n",
      "\n",
      "正在做其他事情...\n",
      "\n",
      "第二次 for 循环:\n",
      "我的平方数是 36\n",
      "我的平方数是 49\n",
      "我的平方数是 64\n",
      "我的平方数是 81\n",
      "我的平方数是 100\n"
     ]
    }
   ],
   "source": [
    "print('第一次 for 循环:')\n",
    "for i in range(5):\n",
    "    print(f'我的平方数是 {next(squares_gen)}')\n",
    "\n",
    "# 可以在代码中插入其他操作，生成器会在下次调用时从上次中断的位置继续执行\n",
    "print('\\n正在做其他事情...')\n",
    "\n",
    "print('\\n第二次 for 循环:')\n",
    "for i in range(5):\n",
    "    print(f'我的平方数是 {next(squares_gen)}')"
   ]
  }
 ],
 "metadata": {
  "kernelspec": {
   "display_name": "base",
   "language": "python",
   "name": "python3"
  },
  "language_info": {
   "codemirror_mode": {
    "name": "ipython",
    "version": 3
   },
   "file_extension": ".py",
   "mimetype": "text/x-python",
   "name": "python",
   "nbconvert_exporter": "python",
   "pygments_lexer": "ipython3",
   "version": "3.11.5"
  }
 },
 "nbformat": 4,
 "nbformat_minor": 2
}
