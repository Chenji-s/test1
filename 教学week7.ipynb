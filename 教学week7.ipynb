{
 "cells": [
  {
   "cell_type": "code",
   "execution_count": null,
   "metadata": {},
   "outputs": [],
   "source": [
    "二十一章 可迭代对象、迭代器和生成器 \n",
    "21.1.1 创建和使用迭代器"
   ]
  },
  {
   "cell_type": "code",
   "execution_count": 1,
   "metadata": {},
   "outputs": [
    {
     "name": "stdout",
     "output_type": "stream",
     "text": [
      "[1, 2, 4, 8, 16, 32, 64, 128, 256, 512, 1024, 2048]\n",
      "1\n",
      "2\n"
     ]
    }
   ],
   "source": [
    "# 创建一个从 2 的幂次组成的列表，从 2^1 到 2^12\n",
    "powers_two = [2**n for n in range(12)]\n",
    "print(powers_two)\n",
    "\n",
    "# 创建一个可以逐步遍历 powers_two 列表的迭代器\n",
    "my_iter = iter(powers_two)\n",
    "\n",
    "# 使用 next() 来逐步推进迭代器，一次获取一个元素\n",
    "print(next(my_iter))\n",
    "print(next(my_iter))\n"
   ]
  },
  {
   "cell_type": "markdown",
   "metadata": {},
   "source": [
    "在接下来的循环中，我们尝试从上次停下的位置继续获取 powers_two 列表中的值："
   ]
  },
  {
   "cell_type": "code",
   "execution_count": 2,
   "metadata": {},
   "outputs": [
    {
     "name": "stdout",
     "output_type": "stream",
     "text": [
      "第 0 次迭代，迭代器返回 4\n",
      "第 1 次迭代，迭代器返回 8\n",
      "第 2 次迭代，迭代器返回 16\n",
      "第 3 次迭代，迭代器返回 32\n",
      "第 4 次迭代，迭代器返回 64\n",
      "第 5 次迭代，迭代器返回 128\n",
      "第 6 次迭代，迭代器返回 256\n",
      "第 7 次迭代，迭代器返回 512\n",
      "第 8 次迭代，迭代器返回 1024\n",
      "第 9 次迭代，迭代器返回 2048\n"
     ]
    }
   ],
   "source": [
    "for i in range(10):\n",
    "    print(f'第 {i} 次迭代，迭代器返回 {next(my_iter)}')\n"
   ]
  },
  {
   "cell_type": "markdown",
   "metadata": {},
   "source": [
    "21.1.2 内建迭代器\n",
    "Python 有一个模块 itertools，它提供了一些有用的函数来创建比简单的序列步进更高级的迭代器："
   ]
  },
  {
   "cell_type": "code",
   "execution_count": 3,
   "metadata": {},
   "outputs": [
    {
     "name": "stdout",
     "output_type": "stream",
     "text": [
      "some\n",
      "pretty\n",
      "words\n",
      "some\n",
      "pretty\n",
      "words\n",
      "some\n",
      "pretty\n",
      "words\n",
      "some\n",
      "pretty\n",
      "words\n"
     ]
    }
   ],
   "source": [
    "import itertools\n",
    "\n",
    "# 无限循环遍历一个序列\n",
    "t = ['some', 'pretty', 'words']\n",
    "cycle_iterator = itertools.cycle(t)\n",
    "\n",
    "for i in range(12):\n",
    "    print(next(cycle_iterator))\n"
   ]
  },
  {
   "cell_type": "code",
   "execution_count": 4,
   "metadata": {},
   "outputs": [
    {
     "name": "stdout",
     "output_type": "stream",
     "text": [
      "('s', 'o', 'm', 'e')\n",
      "some\n",
      "('s', 'o', 'e', 'm')\n",
      "soem\n",
      "('s', 'm', 'o', 'e')\n",
      "smoe\n",
      "('s', 'm', 'e', 'o')\n",
      "smeo\n",
      "('s', 'e', 'o', 'm')\n",
      "seom\n"
     ]
    }
   ],
   "source": [
    "# 显示4个字母的前5个可能排列\n",
    "permut_iterator = itertools.permutations(t[0])\n",
    "\n",
    "for i in range(5):\n",
    "    permut = next(permut_iterator)  # 获取排列的下一个值\n",
    "    print(permut)  # 打印当前排列\n",
    "\n",
    "    # 将每个字母组合成一个字符串（可以查阅str.join()的文档）\n",
    "    print(''.join(permut))"
   ]
  },
  {
   "cell_type": "code",
   "execution_count": 5,
   "metadata": {},
   "outputs": [
    {
     "name": "stdout",
     "output_type": "stream",
     "text": [
      "('s', 'o', 'm', 'e')\n",
      "some\n",
      "('s', 'o', 'e', 'm')\n",
      "soem\n",
      "('s', 'm', 'o', 'e')\n",
      "smoe\n",
      "('s', 'm', 'e', 'o')\n",
      "smeo\n",
      "('s', 'e', 'o', 'm')\n",
      "seom\n"
     ]
    }
   ],
   "source": [
    "# 显示4个字母的前5个可能排列\n",
    "permut_iterator = itertools.permutations(t[0])\n",
    "\n",
    "for i in range(5):\n",
    "    permut = next(permut_iterator)  # 获取排列的下一个值\n",
    "    print(permut)  # 打印当前排列\n",
    "\n",
    "    # 将每个字母组合成一个字符串（可以查阅str.join()的文档）\n",
    "    print(''.join(permut))"
   ]
  },
  {
   "cell_type": "markdown",
   "metadata": {},
   "source": [
    "使用 itertools 模块可以构建更复杂的迭代器。这对于需要重复处理数据或生成组合的任务非常有用。"
   ]
  }
 ],
 "metadata": {
  "kernelspec": {
   "display_name": "base",
   "language": "python",
   "name": "python3"
  },
  "language_info": {
   "codemirror_mode": {
    "name": "ipython",
    "version": 3
   },
   "file_extension": ".py",
   "mimetype": "text/x-python",
   "name": "python",
   "nbconvert_exporter": "python",
   "pygments_lexer": "ipython3",
   "version": "3.11.5"
  }
 },
 "nbformat": 4,
 "nbformat_minor": 2
}
