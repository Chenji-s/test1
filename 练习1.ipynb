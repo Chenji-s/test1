{
 "cells": [
  {
   "cell_type": "markdown",
   "metadata": {},
   "source": [
    "在下面的代码单元格中，输入Python code来显示我已经解决的字符串，并运行该单元。"
   ]
  },
  {
   "cell_type": "code",
   "execution_count": 1,
   "metadata": {},
   "outputs": [
    {
     "name": "stdout",
     "output_type": "stream",
     "text": [
      "I have solved Exercise 1!\n"
     ]
    }
   ],
   "source": [
    "print('I have solved Exercise 1!')"
   ]
  },
  {
   "cell_type": "markdown",
   "metadata": {},
   "source": [
    "创建一个名为my_string的字符串变量，保存您选择的一些文本字符。创建一个带有某个值的整数变量m，并使用它来打印my_string的每一个字符。\n",
    "例如，打印第3、第6、第9等字符。"
   ]
  },
  {
   "cell_type": "code",
   "execution_count": 2,
   "metadata": {},
   "outputs": [
    {
     "name": "stdout",
     "output_type": "stream",
     "text": [
      "4\n",
      "e\n",
      "r\n",
      " \n",
      "c\n"
     ]
    }
   ],
   "source": [
    "my_string = 'Some text characters of my choice.'\n",
    "m = 7\n",
    "\n",
    "# Find out how many times we can print the mth character\n",
    "# before exceeding the string length\n",
    "N = len(my_string)\n",
    "print(N // m)\n",
    "\n",
    "print(my_string[m - 1])\n",
    "print(my_string[2 * m - 1])\n",
    "print(my_string[3 * m - 1])\n",
    "print(my_string[4 * m - 1])"
   ]
  },
  {
   "cell_type": "markdown",
   "metadata": {},
   "source": [
    "创建两个变量u和v，赋值为实非零值，由你选择。创建第三个变量same_sign，赋值一个布尔对象，如果它们具有相同的符号则值为True，如果它们具有不同的符号则值为False。测试same_sign是否为u和v的不同选择分配了正确的值。"
   ]
  },
  {
   "cell_type": "code",
   "execution_count": 3,
   "metadata": {},
   "outputs": [
    {
     "name": "stdout",
     "output_type": "stream",
     "text": [
      "True\n",
      "True\n"
     ]
    }
   ],
   "source": [
    "u = 4\n",
    "v = 5\n",
    "\n",
    "# One possible way...\n",
    "same_sign = (u > 0 and v > 0) or (u < 0 and v < 0)\n",
    "print(same_sign)\n",
    "\n",
    "# Another way...\n",
    "same_sign1 = u * v > 0\n",
    "print(same_sign1)"
   ]
  },
  {
   "cell_type": "markdown",
   "metadata": {},
   "source": [
    "找到一个小的浮点值x，使得print(x == 0)显示False，而print(x 1 == 1)显示True。你能解释一下你认为发生了什么吗?"
   ]
  },
  {
   "cell_type": "code",
   "execution_count": 4,
   "metadata": {},
   "outputs": [
    {
     "name": "stdout",
     "output_type": "stream",
     "text": [
      "False\n",
      "True\n"
     ]
    }
   ],
   "source": [
    "x = 1.110223024625156e-16\n",
    "\n",
    "print(x == 0)\n",
    "print(x + 1 == 1)"
   ]
  },
  {
   "cell_type": "markdown",
   "metadata": {},
   "source": [
    "bool()函数将对象强制转换为布尔类型。运行下面的代码单元;从结果中，您可以推断出当不同的对象类型被强制转换为布尔值时会发生什么吗?不要犹豫，编写更多的测试来完成您的理解。\n",
    "\n",
    "当i是一个数字对象时，如果i完全为零，bool(i)返回False，如果i具有非零值则返回True。\n",
    "当i是字符串对象时，bool(i)仅在i为空字符串时返回False，在字符串不为空时返回True。字符串中的实际文本是不相关的——对于Python，它只是一个字符列表。"
   ]
  },
  {
   "cell_type": "code",
   "execution_count": 5,
   "metadata": {},
   "outputs": [
    {
     "name": "stdout",
     "output_type": "stream",
     "text": [
      "True\n",
      "False\n",
      "True\n",
      "True\n",
      "True\n",
      "False\n",
      "True\n"
     ]
    }
   ],
   "source": [
    "i = 2566\n",
    "print(bool(i))\n",
    "i = 0.0\n",
    "print(bool(i))\n",
    "i = -3.4\n",
    "print(bool(i))\n",
    "i = '273'\n",
    "print(bool(i))\n",
    "i = '0'\n",
    "print(bool(i))\n",
    "i = ''\n",
    "print(bool(i))\n",
    "i = 'False'\n",
    "print(bool(i))"
   ]
  },
  {
   "cell_type": "markdown",
   "metadata": {},
   "source": [
    "**🚩 Exercise 2**</span> Using Numpy\n",
    "functions and constants, compute and print\n",
    "$\\sqrt{2} \\cos(\\frac{2\\pi}{5})$."
   ]
  },
  {
   "cell_type": "code",
   "execution_count": 1,
   "metadata": {},
   "outputs": [
    {
     "name": "stdout",
     "output_type": "stream",
     "text": [
      "0.43701602444882115\n"
     ]
    }
   ],
   "source": [
    "import numpy as np\n",
    "print(np.sqrt(2) * np.cos(2 * np.pi / 5))"
   ]
  },
  {
   "cell_type": "markdown",
   "metadata": {},
   "source": [
    "1.定义三个变量：\n",
    "\n",
    "L：表示字符串 my_string 的长度。\n",
    "first：表示 my_string 的第一个字符。\n",
    "second_to_last：表示 my_string 倒数第二个字符。"
   ]
  },
  {
   "cell_type": "code",
   "execution_count": null,
   "metadata": {},
   "outputs": [],
   "source": [
    "my_string = input()\n",
    "\n",
    "L = len(my_string)\n",
    "\n",
    "first = my_string[0]\n",
    "\n",
    "second_to_last = my_string[-2]"
   ]
  },
  {
   "cell_type": "markdown",
   "metadata": {},
   "source": [
    "2."
   ]
  },
  {
   "cell_type": "code",
   "execution_count": 11,
   "metadata": {},
   "outputs": [
    {
     "name": "stdout",
     "output_type": "stream",
     "text": [
      "1.977\n"
     ]
    }
   ],
   "source": [
    "import math\n",
    "x=1\n",
    "y = (10 + math.sin(x) + x**2 + math.cosh(x**2 + 1)) / (math.sinh(x) + x**3 + 3*x**4 + math.exp(x))\n",
    "\n",
    "Y = round(y, 3)\n",
    "\n",
    "print(Y)"
   ]
  },
  {
   "cell_type": "markdown",
   "metadata": {},
   "source": [
    "3 将速度从“每小时英里 (mph)”转换为“每秒米 (m/s)”，并将结果四舍五入为最接近的整数。已知每英里为 1609.34 米，每小时有 3600 秒。"
   ]
  },
  {
   "cell_type": "code",
   "execution_count": 12,
   "metadata": {},
   "outputs": [
    {
     "name": "stdout",
     "output_type": "stream",
     "text": [
      "27\n"
     ]
    }
   ],
   "source": [
    "speed_mph=60\n",
    "a=speed_mph * 1609.34 / 3600\n",
    "speed_ms = round(a)\n",
    "\n",
    "\n",
    "print(speed_ms)"
   ]
  },
  {
   "cell_type": "markdown",
   "metadata": {},
   "source": [
    "4 判断 n 是否是 3、5 或 7 的倍数，并输出相应的结果。你可以使用模运算 (%) 来检查 n 是否是某个数的倍数。"
   ]
  },
  {
   "cell_type": "code",
   "execution_count": 14,
   "metadata": {},
   "outputs": [
    {
     "name": "stdout",
     "output_type": "stream",
     "text": [
      "Is 15 a multiple of 3? True\n",
      "Is 15 a multiple of 5? True\n",
      "Is 15 a multiple of 7? False\n"
     ]
    }
   ],
   "source": [
    "n=15\n",
    "print(f\"Is {n} a multiple of 3? {n % 3 == 0}\")\n",
    "print(f\"Is {n} a multiple of 5? {n % 5 == 0}\")\n",
    "print(f\"Is {n} a multiple of 7? {n % 7 == 0}\")"
   ]
  }
 ],
 "metadata": {
  "kernelspec": {
   "display_name": "Python 3",
   "language": "python",
   "name": "python3"
  },
  "language_info": {
   "codemirror_mode": {
    "name": "ipython",
    "version": 3
   },
   "file_extension": ".py",
   "mimetype": "text/x-python",
   "name": "python",
   "nbconvert_exporter": "python",
   "pygments_lexer": "ipython3",
   "version": "3.11.5"
  }
 },
 "nbformat": 4,
 "nbformat_minor": 2
}
