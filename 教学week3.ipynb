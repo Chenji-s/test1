{
 "cells": [
  {
   "cell_type": "markdown",
   "metadata": {},
   "source": [
    "7 Conditional Statements（条件语句）\n",
    "条件语句允许我们在代码中创建不同的分支，基于特定条件执行不同的指令。\n",
    "7.1. If Statements（If 语句）\n",
    "\n",
    "布尔值（Booleans）可以用于在给定条件下执行或跳过某些指令，使用 if 语句。其语法如下：\n",
    "\n",
    "if my_condition:\n",
    "    [一些指令]\n",
    "其中，my_condition 是一个布尔对象，其值为 True 或 False。\n"
   ]
  },
  {
   "cell_type": "code",
   "execution_count": 3,
   "metadata": {},
   "outputs": [
    {
     "name": "stdout",
     "output_type": "stream",
     "text": [
      "i 小于 j\n",
      "i 是一个整数\n",
      "c 是一个字符串，而 j 不是浮点数\n",
      "9.399999999999999\n",
      "4.3\n",
      "j 不为 0 或者不为空\n"
     ]
    }
   ],
   "source": [
    "# 定义一些变量\n",
    "a = 4.3\n",
    "b = 5.1\n",
    "c = 'hello'\n",
    "i = 1\n",
    "j = 8\n",
    "z = True\n",
    "\n",
    "#条件语句示例：\n",
    "if i == j:# 这不是真的，任何在这个块中的指令都将被忽略\n",
    "    print('i 和 j 相等')\n",
    "\n",
    "if i < j:\n",
    "    print('i 小于 j')\n",
    "\n",
    "if type(i) == int:\n",
    "    print('i 是一个整数')\n",
    "\n",
    "if type(c) == str and type(j) != float:\n",
    "    print('c 是一个字符串，而 j 不是浮点数')\n",
    "\n",
    "if (a + b) > 7:\n",
    "    print(a + b)\n",
    "\n",
    "if z:\n",
    "    print(a)\n",
    "\n",
    "if j:# 回忆一下第一周关于布尔类型转换的内容\n",
    "    print('j 不为 0 或者不为空')\n",
    "# 在最后的例子中，尽管 j 并不是一个布尔对象，但它会被解释为布尔值，因为它跟随 if 关键字。\n",
    "# 非零数字和非空容器会被解释为 True，而 0、0.0、None 和空容器（例如空列表 [] 或空字符串 ''）则被解释为 False。"
   ]
  },
  {
   "cell_type": "markdown",
   "metadata": {},
   "source": [
    "Exercise 7.1:\n",
    "该练习代码生成一个包含 n 个介于 1 到 10 之间的随机整数的列表 random_ints。请完成代码以计算并打印列表中所有 3 的倍数的和。\n",
    "\n",
    "提示：你需要逐个检查列表中的每个元素，看它是否是 3 的倍数。\n",
    "判断一个数是否是 3 的倍数，等同于这个数除以 3 的余数为零。"
   ]
  },
  {
   "cell_type": "code",
   "execution_count": 5,
   "metadata": {},
   "outputs": [
    {
     "name": "stdout",
     "output_type": "stream",
     "text": [
      "The sum of all numbers in [4, 7, 2, 9, 5, 5, 4, 8, 6, 1] which are multiples of 3 is 15.\n"
     ]
    }
   ],
   "source": [
    "import random\n",
    "\n",
    "n = 10\n",
    "random_ints = []\n",
    "for i in range(n):\n",
    "    random_ints.append(random.randint(1, 10))\n",
    "\n",
    "# Initialise a variable to hold the sum\n",
    "total = 0\n",
    "\n",
    "# 循环遍历随机整数的列表\n",
    "for number in random_ints:\n",
    "    if number % 3 == 0:# Add it to the total\n",
    "        total += number\n",
    "\n",
    "# Display the result\n",
    "print(f'The sum of all numbers in {random_ints} which are multiples of 3 is {total}.')"
   ]
  },
  {
   "cell_type": "markdown",
   "metadata": {},
   "source": [
    "7.2. If-else blocks（If-else 语句块）\n",
    "我们通常希望根据条件的 True 或 False 来执行不同的操作。在这种情况下，仅仅使用 if 语句是不够的——我们可以使用 else 语句来指定当 if 子句不为真时要做的事情。\n",
    "\n",
    "其语法如下：\n",
    "if cond_1:\n",
    "    # [当 cond_1 为真时执行的一些指令]\n",
    "else:\n",
    "    # [当 cond_1 为假时执行的其他指令]"
   ]
  },
  {
   "cell_type": "code",
   "execution_count": 1,
   "metadata": {},
   "outputs": [
    {
     "name": "stdout",
     "output_type": "stream",
     "text": [
      "['red', 'red', 'red', 'red', 'green', 'green', 'green', 'green', 'blue', 'blue', 'blue', 'blue']\n",
      "抽到了一只 red 袜子和一只 blue 袜子；请再试一次！\n"
     ]
    }
   ],
   "source": [
    "#示例： 从包含 4 双红色、4 双绿色和 4 双蓝色袜子的抽屉中随机选择两只袜子，并检查这两只袜子是否颜色相同。\n",
    "# 使用 Python 的 random.sample() 进行随机选择。\n",
    "import random\n",
    "# 创建抽屉\n",
    "drawer = 4*['red'] + 4*['green'] + 4*['blue']\n",
    "print(drawer)\n",
    "\n",
    "# 从抽屉中随机选择 2 只袜子（这会返回一个列表）\n",
    "pair = random.sample(drawer, 2)\n",
    "\n",
    "# 它们是同一种颜色吗？\n",
    "if pair[0] == pair[1]:\n",
    "    print(f'成功！抽到了两只 {pair[0]} 袜子。')\n",
    "else:\n",
    "    print(f'抽到了一只 {pair[0]} 袜子和一只 {pair[1]} 袜子；请再试一次！')"
   ]
  },
  {
   "cell_type": "markdown",
   "metadata": {},
   "source": [
    "7.3. If-elif-else blocks（If-elif-else 语句块）\n",
    "为了依次检查多个条件，可以使用 if-elif-else 语句块（elif 是 \"else if\" 的缩写）。其语法如下：\n",
    "\n",
    "if cond_1:\n",
    "    # 当 cond_1 为真时执行的指令\n",
    "elif cond_2:\n",
    "    # 当 cond_1 为假且 cond_2 为真时执行的其他指令\n",
    "elif cond_3:\n",
    "    # 当 cond_1 和 cond_2 为假，且 cond_3 为真时执行的其他指令\n",
    "else:\n",
    "    # 当以上所有条件都为假时执行的指令"
   ]
  },
  {
   "cell_type": "code",
   "execution_count": 2,
   "metadata": {},
   "outputs": [
    {
     "name": "stdout",
     "output_type": "stream",
     "text": [
      "a 小于 b\n"
     ]
    }
   ],
   "source": [
    "a = 4.9\n",
    "b = 5.4\n",
    "\n",
    "if a > b:\n",
    "    print('a 大于 b')\n",
    "elif a < b:\n",
    "    print('a 小于 b')\n",
    "else:\n",
    "    # 在这里我们不需要检查 \"if a == b\"，因为我们已经确定前两个条件都为假\n",
    "    print('a 等于 b')"
   ]
  },
  {
   "cell_type": "markdown",
   "metadata": {},
   "source": [
    "Exercise 7.3:\n",
    "构造一个循环遍历字符串 zen 中的所有单词。对于每个单词：\n",
    "\n",
    "如果包含字母 e，则打印该单词。\n",
    "如果不包含字母 e，但包含字母 i，则打印该单词的第一个字母。\n",
    "如果既不包含字母 e，也不包含字母 i，则将 count 加 1。"
   ]
  },
  {
   "cell_type": "code",
   "execution_count": 3,
   "metadata": {},
   "outputs": [
    {
     "name": "stdout",
     "output_type": "stream",
     "text": [
      "the\n",
      "implementation\n",
      "i\n",
      "explain,\n",
      "i\n",
      "i\n",
      "idea.\n",
      "the\n",
      "implementation\n",
      "i\n",
      "easy\n",
      "explain,\n",
      "i\n",
      "be\n",
      "idea.\n"
     ]
    }
   ],
   "source": [
    "zen = 'If the implementation is hard to explain, it is a bad idea. If the implementation is easy to explain, it may be a good idea.'\n",
    "count = 0\n",
    "for word in zen.split():\n",
    "    if 'e' in word:\n",
    "        print(word)\n",
    "    elif 'i' in word:\n",
    "        print(word[0])\n",
    "    else:\n",
    "        count += 1"
   ]
  }
 ],
 "metadata": {
  "kernelspec": {
   "display_name": "Python 3",
   "language": "python",
   "name": "python3"
  },
  "language_info": {
   "codemirror_mode": {
    "name": "ipython",
    "version": 3
   },
   "file_extension": ".py",
   "mimetype": "text/x-python",
   "name": "python",
   "nbconvert_exporter": "python",
   "pygments_lexer": "ipython3",
   "version": "3.9.6"
  }
 },
 "nbformat": 4,
 "nbformat_minor": 2
}
