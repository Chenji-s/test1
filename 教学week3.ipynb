{
 "cells": [
  {
   "cell_type": "markdown",
   "metadata": {},
   "source": [
    "7 Conditional Statements（条件语句）\n",
    "条件语句允许我们在代码中创建不同的分支，基于特定条件执行不同的指令。\n",
    "7.1. If Statements（If 语句）\n",
    "\n",
    "布尔值（Booleans）可以用于在给定条件下执行或跳过某些指令，使用 if 语句。其语法如下：\n",
    "\n",
    "if my_condition:\n",
    "    [一些指令]\n",
    "其中，my_condition 是一个布尔对象，其值为 True 或 False。\n"
   ]
  },
  {
   "cell_type": "code",
   "execution_count": 3,
   "metadata": {},
   "outputs": [
    {
     "name": "stdout",
     "output_type": "stream",
     "text": [
      "i 小于 j\n",
      "i 是一个整数\n",
      "c 是一个字符串，而 j 不是浮点数\n",
      "9.399999999999999\n",
      "4.3\n",
      "j 不为 0 或者不为空\n"
     ]
    }
   ],
   "source": [
    "# 定义一些变量\n",
    "a = 4.3\n",
    "b = 5.1\n",
    "c = 'hello'\n",
    "i = 1\n",
    "j = 8\n",
    "z = True\n",
    "\n",
    "#条件语句示例：\n",
    "if i == j:# 这不是真的，任何在这个块中的指令都将被忽略\n",
    "    print('i 和 j 相等')\n",
    "\n",
    "if i < j:\n",
    "    print('i 小于 j')\n",
    "\n",
    "if type(i) == int:\n",
    "    print('i 是一个整数')\n",
    "\n",
    "if type(c) == str and type(j) != float:\n",
    "    print('c 是一个字符串，而 j 不是浮点数')\n",
    "\n",
    "if (a + b) > 7:\n",
    "    print(a + b)\n",
    "\n",
    "if z:\n",
    "    print(a)\n",
    "\n",
    "if j:# 回忆一下第一周关于布尔类型转换的内容\n",
    "    print('j 不为 0 或者不为空')\n",
    "# 在最后的例子中，尽管 j 并不是一个布尔对象，但它会被解释为布尔值，因为它跟随 if 关键字。\n",
    "# 非零数字和非空容器会被解释为 True，而 0、0.0、None 和空容器（例如空列表 [] 或空字符串 ''）则被解释为 False。"
   ]
  },
  {
   "cell_type": "markdown",
   "metadata": {},
   "source": [
    "Exercise 7.1:\n",
    "该练习代码生成一个包含 n 个介于 1 到 10 之间的随机整数的列表 random_ints。请完成代码以计算并打印列表中所有 3 的倍数的和。\n",
    "\n",
    "提示：你需要逐个检查列表中的每个元素，看它是否是 3 的倍数。\n",
    "判断一个数是否是 3 的倍数，等同于这个数除以 3 的余数为零。"
   ]
  },
  {
   "cell_type": "code",
   "execution_count": 5,
   "metadata": {},
   "outputs": [
    {
     "name": "stdout",
     "output_type": "stream",
     "text": [
      "The sum of all numbers in [4, 7, 2, 9, 5, 5, 4, 8, 6, 1] which are multiples of 3 is 15.\n"
     ]
    }
   ],
   "source": [
    "import random\n",
    "\n",
    "n = 10\n",
    "random_ints = []\n",
    "for i in range(n):\n",
    "    random_ints.append(random.randint(1, 10))\n",
    "\n",
    "# Initialise a variable to hold the sum\n",
    "total = 0\n",
    "\n",
    "# 循环遍历随机整数的列表\n",
    "for number in random_ints:\n",
    "    if number % 3 == 0:# Add it to the total\n",
    "        total += number\n",
    "\n",
    "# Display the result\n",
    "print(f'The sum of all numbers in {random_ints} which are multiples of 3 is {total}.')"
   ]
  },
  {
   "cell_type": "markdown",
   "metadata": {},
   "source": [
    "7.2. If-else blocks（If-else 语句块）\n",
    "我们通常希望根据条件的 True 或 False 来执行不同的操作。在这种情况下，仅仅使用 if 语句是不够的——我们可以使用 else 语句来指定当 if 子句不为真时要做的事情。\n",
    "\n",
    "其语法如下：\n",
    "if cond_1:\n",
    "    # [当 cond_1 为真时执行的一些指令]\n",
    "else:\n",
    "    # [当 cond_1 为假时执行的其他指令]"
   ]
  },
  {
   "cell_type": "code",
   "execution_count": 1,
   "metadata": {},
   "outputs": [
    {
     "name": "stdout",
     "output_type": "stream",
     "text": [
      "['red', 'red', 'red', 'red', 'green', 'green', 'green', 'green', 'blue', 'blue', 'blue', 'blue']\n",
      "抽到了一只 red 袜子和一只 blue 袜子；请再试一次！\n"
     ]
    }
   ],
   "source": [
    "#示例： 从包含 4 双红色、4 双绿色和 4 双蓝色袜子的抽屉中随机选择两只袜子，并检查这两只袜子是否颜色相同。\n",
    "# 使用 Python 的 random.sample() 进行随机选择。\n",
    "import random\n",
    "# 创建抽屉\n",
    "drawer = 4*['red'] + 4*['green'] + 4*['blue']\n",
    "print(drawer)\n",
    "\n",
    "# 从抽屉中随机选择 2 只袜子（这会返回一个列表）\n",
    "pair = random.sample(drawer, 2)\n",
    "\n",
    "# 它们是同一种颜色吗？\n",
    "if pair[0] == pair[1]:\n",
    "    print(f'成功！抽到了两只 {pair[0]} 袜子。')\n",
    "else:\n",
    "    print(f'抽到了一只 {pair[0]} 袜子和一只 {pair[1]} 袜子；请再试一次！')"
   ]
  },
  {
   "cell_type": "markdown",
   "metadata": {},
   "source": [
    "7.3. If-elif-else blocks（If-elif-else 语句块）\n",
    "为了依次检查多个条件，可以使用 if-elif-else 语句块（elif 是 \"else if\" 的缩写）。其语法如下：\n",
    "\n",
    "if cond_1:\n",
    "    # 当 cond_1 为真时执行的指令\n",
    "elif cond_2:\n",
    "    # 当 cond_1 为假且 cond_2 为真时执行的其他指令\n",
    "elif cond_3:\n",
    "    # 当 cond_1 和 cond_2 为假，且 cond_3 为真时执行的其他指令\n",
    "else:\n",
    "    # 当以上所有条件都为假时执行的指令"
   ]
  },
  {
   "cell_type": "code",
   "execution_count": 2,
   "metadata": {},
   "outputs": [
    {
     "name": "stdout",
     "output_type": "stream",
     "text": [
      "a 小于 b\n"
     ]
    }
   ],
   "source": [
    "a = 4.9\n",
    "b = 5.4\n",
    "\n",
    "if a > b:\n",
    "    print('a 大于 b')\n",
    "elif a < b:\n",
    "    print('a 小于 b')\n",
    "else:\n",
    "    # 在这里我们不需要检查 \"if a == b\"，因为我们已经确定前两个条件都为假\n",
    "    print('a 等于 b')"
   ]
  },
  {
   "cell_type": "markdown",
   "metadata": {},
   "source": [
    "Exercise 7.3:\n",
    "构造一个循环遍历字符串 zen 中的所有单词。对于每个单词：\n",
    "\n",
    "如果包含字母 e，则打印该单词。\n",
    "如果不包含字母 e，但包含字母 i，则打印该单词的第一个字母。\n",
    "如果既不包含字母 e，也不包含字母 i，则将 count 加 1。"
   ]
  },
  {
   "cell_type": "code",
   "execution_count": 3,
   "metadata": {},
   "outputs": [
    {
     "name": "stdout",
     "output_type": "stream",
     "text": [
      "the\n",
      "implementation\n",
      "i\n",
      "explain,\n",
      "i\n",
      "i\n",
      "idea.\n",
      "the\n",
      "implementation\n",
      "i\n",
      "easy\n",
      "explain,\n",
      "i\n",
      "be\n",
      "idea.\n"
     ]
    }
   ],
   "source": [
    "zen = 'If the implementation is hard to explain, it is a bad idea. If the implementation is easy to explain, it may be a good idea.'\n",
    "count = 0\n",
    "for word in zen.split():\n",
    "    if 'e' in word:\n",
    "        print(word)\n",
    "    elif 'i' in word:\n",
    "        print(word[0])\n",
    "    else:\n",
    "        count += 1"
   ]
  },
  {
   "cell_type": "markdown",
   "metadata": {},
   "source": [
    "8 While Loops\n",
    "while 循环用于在给定条件为 True 的情况下重复执行一组指令。一旦条件变为 False，循环停止。\n",
    "\n",
    "8.1. 语法与用法\n",
    "\n",
    "while 语句不像 for 循环那样使用占位变量；相反，它必须给定一个布尔对象（即评估结果为 True 或 False 的表达式）。语法如下：\n",
    "\n",
    "while my_condition:\n",
    "    [一些指令]\n",
    "其中 my_condition 是布尔类型 (bool) 的变量。只要 my_condition 为 True，循环中的指令就会被重复执行，直到 my_condition 变为 False，此时循环终止。\n",
    "\n",
    "例如，我们可以使用 while 循环来计算与第二周相同的和 \n",
    "\n",
    "$$\n",
    "S = \\sum_{i=0}^{10} i\n",
    "$$"
   ]
  },
  {
   "cell_type": "code",
   "execution_count": 4,
   "metadata": {},
   "outputs": [
    {
     "name": "stdout",
     "output_type": "stream",
     "text": [
      "55\n"
     ]
    }
   ],
   "source": [
    "S = 0\n",
    "i = 0\n",
    "while i <= 10:\n",
    "    S += i\n",
    "    i += 1\n",
    "print(S)"
   ]
  },
  {
   "cell_type": "markdown",
   "metadata": {},
   "source": [
    "练习 8.1:\n",
    "编写一个函数 throw_until_double_six()，该函数接收一个输入参数，即布尔值 display（默认为 True）。该函数应模拟投掷两个骰子，直到获得两个 6，并返回一共投掷了多少次。若 display 为 True，则函数还应打印出投掷次数。\n",
    "\n",
    "提示：\n",
    "你可以使用 random.randint() 来模拟投掷骰子，生成两个 1 到 6 之间的随机整数。\n",
    "使用 while 循环不断投掷骰子。\n",
    "你需要制定一个循环结束的条件，并跟踪尝试次数。"
   ]
  },
  {
   "cell_type": "code",
   "execution_count": 9,
   "metadata": {},
   "outputs": [
    {
     "name": "stdout",
     "output_type": "stream",
     "text": [
      "Obtained a double 6 after 30 tries.\n",
      "Obtained a double 6 after 1 tries.\n",
      "Obtained a double 6 after 12 tries.\n",
      "Obtained a double 6 after 9 tries.\n",
      "On average over 1000 simulations, it took 36.49 tries to get a double 6.\n"
     ]
    }
   ],
   "source": [
    "import random\n",
    "def throw_until_double_six(display=True):\n",
    "   #掷两次骰子，直到得到两个6，并显示需要投掷多少次。\n",
    "    score = 0\n",
    "    counter = 0\n",
    "\n",
    "    # 继续，直到我们得到我们需要的分数\n",
    "    while score != 12:\n",
    "        # 扔两个骰子，把结果加起来\n",
    "        score = random.randint(1, 6) + random.randint(1, 6)\n",
    "        counter += 1\n",
    "\n",
    "   # 一旦循环停止，就意味着我们得到了两个6，显示尝试的次数\n",
    "    if display:\n",
    "        print(f'Obtained a double 6 after {counter} tries.')\n",
    "    return counter\n",
    "\n",
    "\n",
    "# 重复几次\n",
    "throw_until_double_six()\n",
    "throw_until_double_six()\n",
    "throw_until_double_six()\n",
    "throw_until_double_six()\n",
    "#进行多次实验，估计期望所需的尝试次数(理论值为36):\n",
    "\n",
    "N = 1000\n",
    "sum_tries = 0\n",
    "\n",
    "for i in range(N):\n",
    "   # 运行实验，不显示结果，将尝试次数添加到运行总数中\n",
    "    sum_tries += throw_until_double_six(display=False)\n",
    "\n",
    "#显示平均尝试次数，小数点后2位\n",
    "expect = sum_tries / N\n",
    "print(f'On average over {N} simulations, it took {expect:.2f} tries to get a double 6.')"
   ]
  },
  {
   "cell_type": "markdown",
   "metadata": {},
   "source": [
    "练习 2:\n",
    "\n",
    "麦克劳林级数（Maclaurin Series）用于指数函数的公式如下：\n",
    "\n",
    "$$\n",
    "e^x = \\sum_{n=0}^\\infty \\frac{x^n}{n!} = 1 + x + \\frac{x^2}{2!} + \\frac{x^3}{3!} + \\frac{x^4}{4!} + \\dots\n",
    "$$\n",
    "\n",
    "使用 while 循环，找出该级数的多少项能够给出 $e^1$ 的一个近似值，精确到 6 位有效数字。"
   ]
  },
  {
   "cell_type": "code",
   "execution_count": 1,
   "metadata": {},
   "outputs": [
    {
     "name": "stdout",
     "output_type": "stream",
     "text": [
      "n = 1\n",
      "Exact value of exp(1): 2.718282\n",
      "Approximate value: 2.000000\n",
      "\n",
      "n = 2\n",
      "Exact value of exp(1): 2.718282\n",
      "Approximate value: 2.500000\n",
      "\n",
      "n = 3\n",
      "Exact value of exp(1): 2.718282\n",
      "Approximate value: 2.666667\n",
      "\n",
      "n = 4\n",
      "Exact value of exp(1): 2.718282\n",
      "Approximate value: 2.708333\n",
      "\n",
      "n = 5\n",
      "Exact value of exp(1): 2.718282\n",
      "Approximate value: 2.716667\n",
      "\n",
      "n = 6\n",
      "Exact value of exp(1): 2.718282\n",
      "Approximate value: 2.718056\n",
      "\n",
      "n = 7\n",
      "Exact value of exp(1): 2.718282\n",
      "Approximate value: 2.718254\n",
      "\n",
      "n = 8\n",
      "Exact value of exp(1): 2.718282\n",
      "Approximate value: 2.718279\n",
      "\n",
      "n = 9\n",
      "Exact value of exp(1): 2.718282\n",
      "Approximate value: 2.718282\n",
      "\n",
      "9 iterations are needed.\n"
     ]
    }
   ],
   "source": [
    "import math\n",
    "\n",
    "e = 1\n",
    "n = 0\n",
    "while not math.isclose(math.exp(1), e, rel_tol=1e-6):\n",
    "    n += 1                      # \n",
    "    e += 1 / math.factorial(n)  # 加上这个级数的第n项\n",
    "    \n",
    "    print(f'n = {n}')\n",
    "    print(f'Exact value of exp(1): {math.exp(1):.6f}')\n",
    "    print(f'Approximate value: {e:.6f}\\n')\n",
    "\n",
    "print(f'{n} iterations are needed.')"
   ]
  },
  {
   "cell_type": "markdown",
   "metadata": {},
   "source": [
    "2. Break 语句在循环中的使用\n",
    "有时我们希望提前退出循环——例如，当我们试图在列表中找到第一个符合条件的元素时。一旦找到该元素，我们不希望继续循环遍历其余的列表。\n",
    "\n",
    "break 语句可以用于有条件地退出循环。以下是一个示例："
   ]
  },
  {
   "cell_type": "code",
   "execution_count": 2,
   "metadata": {},
   "outputs": [
    {
     "name": "stdout",
     "output_type": "stream",
     "text": [
      "is\n"
     ]
    }
   ],
   "source": [
    "list_of_strings = ['hello', 'this', 'is', 'a', 'lot', 'of', 'text', 'in', 'a', 'list.']\n",
    "\n",
    "# 查找并显示第一个以 'i' 开头的单词\n",
    "for word in list_of_strings:\n",
    "    if word[0] == 'i':\n",
    "        print(word)\n",
    "        break  # 立即停止循环"
   ]
  },
  {
   "cell_type": "markdown",
   "metadata": {},
   "source": [
    "无限循环\n",
    "while 循环很容易导致无限循环。如果发生在 Jupyter Notebook 中，你会看到左边的代码单元格显示 [*]。可以点击工具栏上的方形按钮中断内核。\n",
    "\n",
    "使用 while 循环时，跟踪迭代次数是一个好主意。例如，通过在每次迭代时递增计数器变量。为了防止无限循环，当计数器超过最大迭代次数时，可以使用 break 条件终止循环："
   ]
  },
  {
   "cell_type": "code",
   "execution_count": 4,
   "metadata": {},
   "outputs": [
    {
     "name": "stdout",
     "output_type": "stream",
     "text": [
      "1000\n"
     ]
    }
   ],
   "source": [
    "kmax = 1000\n",
    "k = 0\n",
    "\n",
    "while k < kmax:\n",
    "    # 在这里编写你的常规指令\n",
    "    k += 1\n",
    "    if k > kmax:\n",
    "        break\n",
    "print(k)"
   ]
  },
  {
   "cell_type": "markdown",
   "metadata": {},
   "source": [
    "以下是嵌套循环的一个示例。尝试预测显示的输出，并运行代码单元进行验证。break 在嵌套循环中是如何表现的？\n"
   ]
  },
  {
   "cell_type": "code",
   "execution_count": 5,
   "metadata": {},
   "outputs": [
    {
     "name": "stdout",
     "output_type": "stream",
     "text": [
      "5\n",
      "10\n",
      "15\n",
      "18\n",
      "19\n",
      "20\n",
      "21\n",
      "22\n",
      "23\n",
      "24\n"
     ]
    }
   ],
   "source": [
    "count = 0\n",
    "\n",
    "for i in range(10):\n",
    "    for j in range(5):\n",
    "        count += 1\n",
    "        if count > 17:\n",
    "            break\n",
    "    print(count)"
   ]
  },
  {
   "cell_type": "markdown",
   "metadata": {},
   "source": [
    "9 调试（Debugging）\n",
    "Bug 是指代码中的错误或失误，导致代码失败或产生错误结果。调试是通过仔细选择的输入和条件来检查代码的输出，找到并纠正错误的过程。\n",
    "\n",
    "9.1. 错误与异常（Errors and Exceptions）\n",
    "\n",
    "你可能已经遇到了一些运行时错误（runtime errors）——这是指 Python 无法运行你的代码，并给出一个简短的信息，解释出了什么问题。了解如何解释这些错误信息是调试代码和解决问题的关键。\n",
    "\n",
    "以下是一个运行时错误的示例：\n",
    "错误信息的第一行指示了发生错误的文件——这在处理许多不同的 Python 脚本和自定义模块时非常有用。\n",
    "错误消息中还会显示行号。\n",
    "错误消息的第三行有一个箭头 ^，它指示错误发生的位置。通常，这意味着某个符号缺失，如在这里，: 缺失了。\n",
    "错误消息的最后一行告诉你错误的类型和具体的问题。"
   ]
  },
  {
   "cell_type": "code",
   "execution_count": 7,
   "metadata": {},
   "outputs": [
    {
     "ename": "SyntaxError",
     "evalue": "invalid syntax (243486694.py, line 2)",
     "output_type": "error",
     "traceback": [
      "\u001b[0;36m  Cell \u001b[0;32mIn[7], line 2\u001b[0;36m\u001b[0m\n\u001b[0;31m    if my_string[0] == 'H'\u001b[0m\n\u001b[0m                          ^\u001b[0m\n\u001b[0;31mSyntaxError\u001b[0m\u001b[0;31m:\u001b[0m invalid syntax\n"
     ]
    }
   ],
   "source": [
    "my_string = 'Hello world'\n",
    "if my_string[0] == 'H'\n",
    "    print(my_string)"
   ]
  },
  {
   "cell_type": "markdown",
   "metadata": {},
   "source": [
    "8.2. 内建异常类型\n",
    "\n",
    "当代码中检测到错误时，会触发（raise）异常，异常会中断程序的执行，并为你提供一些关于错误的信息。\n",
    "\n",
    "8.2.1 IndexError\n",
    "\n",
    "当尝试访问超出范围的索引时，会发生 IndexError。例如，试图访问 my_list[4]，但 my_list 只有到 my_list[3] 的元素："
   ]
  },
  {
   "cell_type": "code",
   "execution_count": 8,
   "metadata": {},
   "outputs": [
    {
     "ename": "IndexError",
     "evalue": "list index out of range",
     "output_type": "error",
     "traceback": [
      "\u001b[0;31m---------------------------------------------------------------------------\u001b[0m",
      "\u001b[0;31mIndexError\u001b[0m                                Traceback (most recent call last)",
      "Cell \u001b[0;32mIn[8], line 2\u001b[0m\n\u001b[1;32m      1\u001b[0m my_list \u001b[38;5;241m=\u001b[39m [\u001b[38;5;241m1\u001b[39m, \u001b[38;5;241m2\u001b[39m, \u001b[38;5;241m3\u001b[39m, \u001b[38;5;241m4\u001b[39m]\n\u001b[0;32m----> 2\u001b[0m \u001b[38;5;28mprint\u001b[39m(\u001b[43mmy_list\u001b[49m\u001b[43m[\u001b[49m\u001b[38;5;241;43m4\u001b[39;49m\u001b[43m]\u001b[49m)\n",
      "\u001b[0;31mIndexError\u001b[0m: list index out of range"
     ]
    }
   ],
   "source": [
    "my_list = [1, 2, 3, 4]\n",
    "print(my_list[4])"
   ]
  },
  {
   "cell_type": "code",
   "execution_count": null,
   "metadata": {},
   "outputs": [],
   "source": [
    "#8.2.2 NameError\n",
    "\n",
    "#当引用的变量不存在时，会发生 NameError。这通常发生在拼写错误或者试图使用尚未定义的变量时：\n",
    "\n",
    "my_list = [1, 2, 3, 4]\n",
    "print(my_ist)  # 注意这里的拼写错误\n",
    "\n",
    "#8.2.3 SyntaxError\n",
    "#当代码语法不正确时，会发生 SyntaxError。例如：\n",
    "my_string = 'Hello world'\n",
    "if my_string[0] == 'H'\n",
    "    print(my_string)\n",
    "#在这里，缺少 if 语句的冒号 :，这是语法错误。\n",
    "\n",
    "#8.2.5 ValueError\n",
    "#当操作或函数应用于正确类型的对象但值无效时，会发生 ValueError。例如：\n",
    "\n",
    "a = int('432')  # 正常\n",
    "b = int('hello')  # 发生 ValueError"
   ]
  },
  {
   "cell_type": "code",
   "execution_count": 9,
   "metadata": {},
   "outputs": [
    {
     "ename": "TypeError",
     "evalue": "'int' object is not subscriptable",
     "output_type": "error",
     "traceback": [
      "\u001b[0;31m---------------------------------------------------------------------------\u001b[0m",
      "\u001b[0;31mTypeError\u001b[0m                                 Traceback (most recent call last)",
      "Cell \u001b[0;32mIn[9], line 5\u001b[0m\n\u001b[1;32m      1\u001b[0m \u001b[38;5;66;03m#8.2.4 TypeError\u001b[39;00m\n\u001b[1;32m      2\u001b[0m \u001b[38;5;66;03m#这是 Python 中非常常见的错误，表示某个操作或函数被应用到了错误类型的对象上。例如：\u001b[39;00m\n\u001b[1;32m      4\u001b[0m my_int \u001b[38;5;241m=\u001b[39m \u001b[38;5;241m4\u001b[39m\n\u001b[0;32m----> 5\u001b[0m \u001b[38;5;28mprint\u001b[39m(\u001b[43mmy_int\u001b[49m\u001b[43m[\u001b[49m\u001b[38;5;241;43m2\u001b[39;49m\u001b[43m]\u001b[49m)  \u001b[38;5;66;03m# 试图对一个整数进行索引操作\u001b[39;00m\n\u001b[1;32m      7\u001b[0m my_list \u001b[38;5;241m=\u001b[39m [\u001b[38;5;241m1\u001b[39m, \u001b[38;5;241m2\u001b[39m, \u001b[38;5;241m3\u001b[39m, \u001b[38;5;241m4\u001b[39m]\n\u001b[1;32m      8\u001b[0m my_other_list \u001b[38;5;241m=\u001b[39m [\u001b[38;5;241m5\u001b[39m, \u001b[38;5;241m6\u001b[39m, \u001b[38;5;241m7\u001b[39m, \u001b[38;5;241m8\u001b[39m]\n",
      "\u001b[0;31mTypeError\u001b[0m: 'int' object is not subscriptable"
     ]
    }
   ],
   "source": [
    "#8.2.4 TypeError\n",
    "#这是 Python 中非常常见的错误，表示某个操作或函数被应用到了错误类型的对象上。例如：\n",
    "\n",
    "my_int = 4\n",
    "print(my_int[2])  # 试图对一个整数进行索引操作\n",
    "\n",
    "my_list = [1, 2, 3, 4]\n",
    "my_other_list = [5, 6, 7, 8]\n",
    "print(my_list * my_other_list)  # 尝试相乘两个列表\n",
    "\n",
    "def my_func(x):\n",
    "    return x ** 2\n",
    "\n",
    "print(my_func('hello'))  # 尝试对字符串进行平方操作"
   ]
  },
  {
   "cell_type": "markdown",
   "metadata": {},
   "source": [
    "8.3. Testing（测试）\n",
    "当你编写或审阅代码时，频繁且全面地测试它非常重要。在这个上下文中，测试意味着尝试用不同的输入运行你的程序，并检查代码是否每次都输出预期的结果。一个健全的测试用例集应包括一系列 \"标准\" 输入（即，你预期代码在大多数情况下使用的输入），并且还要包括边界情况（输入可能不常见，但仍然不应导致代码崩溃）。这可以确保程序具有健壮性。\n",
    "\n",
    "首先，用简单的例子来测试你的代码，例如小数组或小数字，你已经知道其结果应该是什么。从你了解的情况开始，逐步推进：尝试简单的输入，检查是否得到正确的输出；然后尝试稍微复杂的输入，继续迭代，直到你找到问题，或者确定代码按预期工作。\n",
    "\n",
    "一个快速简便的测试代码的方法是使用 print() 命令，在不同阶段显示代码的输出或结果。\n",
    "\n",
    "下面是一个示例函数 find_divisors()，其目的是查找列表 nums 中的所有数的因子，但该函数不起作用。"
   ]
  },
  {
   "cell_type": "code",
   "execution_count": 10,
   "metadata": {},
   "outputs": [
    {
     "data": {
      "text/plain": [
       "[]"
      ]
     },
     "execution_count": 10,
     "metadata": {},
     "output_type": "execute_result"
    }
   ],
   "source": [
    "def find_divisors(nums, n):\n",
    "    #返回列表 nums 中 n 的所有因子。\n",
    "    divisors = []\n",
    "    \n",
    "    # 遍历列表中的每个数字\n",
    "    for i in nums:\n",
    "\n",
    "        # 检查 n/i 是否是一个整数\n",
    "        if isinstance(n / i, int):\n",
    "            divisors.append(n)\n",
    "    \n",
    "    return divisors\n",
    "\n",
    "find_divisors([3, 5, 4, 7, 2], 28)\n"
   ]
  },
  {
   "cell_type": "code",
   "execution_count": 11,
   "metadata": {},
   "outputs": [
    {
     "name": "stdout",
     "output_type": "stream",
     "text": [
      "正在测试的数字是 1.\n",
      "1 是 97 的因子吗？\n",
      "97 / 1 = 97.0\n",
      "不\n",
      "\n",
      "正在测试的数字是 1.\n",
      "1 是 97 的因子吗？\n",
      "97 / 1 = 97.0\n",
      "不\n",
      "\n",
      "正在测试的数字是 1.\n",
      "1 是 97 的因子吗？\n",
      "97 / 1 = 97.0\n",
      "不\n",
      "\n",
      "正在测试的数字是 1.\n",
      "1 是 97 的因子吗？\n",
      "97 / 1 = 97.0\n",
      "不\n",
      "\n",
      "结果: []\n",
      "\n"
     ]
    }
   ],
   "source": [
    "#为了帮助发现问题，程序员或审阅者做了以下几件事：#\n",
    "#该代码通过 n % i == 0 检查 n 是否能被 i 整除，从而判断 i 是否是 n 的因子，并输出测试结果。\n",
    "def find_divisors(nums, n):\n",
    "\n",
    "    divisors = []\n",
    "    \n",
    "    for i in nums:\n",
    "        print(f'正在测试的数字是 {i}.')\n",
    "        print(f'{i} 是 {n} 的因子吗？')\n",
    "        \n",
    "        # 检查 n/i 是否是整数\n",
    "        print(f'{n} / {i} = {n / i}')\n",
    "        \n",
    "        if isinstance(n / i, int):\n",
    "            print(f'是的，将 {i} 添加到列表\\n')\n",
    "            divisors.append(i)\n",
    "        else:\n",
    "            print('不\\n')\n",
    "    \n",
    "    return divisors\n",
    "\n",
    "# 测试示例\n",
    "divisors = find_divisors([1, 1, 1, 1], 97)\n",
    "print(f'结果: {divisors}\\n')"
   ]
  },
  {
   "cell_type": "code",
   "execution_count": 16,
   "metadata": {},
   "outputs": [
    {
     "name": "stdout",
     "output_type": "stream",
     "text": [
      "结果: [1, 1, 1, 1]\n",
      "\n",
      "结果: [1, 2, 3, 4, 6]\n",
      "\n",
      "结果: []\n",
      "\n",
      "结果: []\n",
      "\n",
      "结果: [1]\n",
      "\n",
      "结果: [1, 11]\n",
      "\n"
     ]
    }
   ],
   "source": [
    "def find_divisors(nums, n):\n",
    "    divisors = []\n",
    "    for i in nums:\n",
    "        # 检查 n 是否能被 i 整除，而不是检查是否为整数\n",
    "        if n % i == 0:\n",
    "            divisors.append(i)\n",
    "    return divisors\n",
    "\n",
    "# 测试示例\n",
    "divisors = find_divisors([1, 1, 1, 1], 97)\n",
    "print(f'结果: {divisors}\\n')\n",
    "\n",
    "divisors = find_divisors([1, 2, 3, 4, 5, 6, 7, 8], 12)\n",
    "print(f'结果: {divisors}\\n')\n",
    "\n",
    "divisors = find_divisors([10, 10, 10], 5)\n",
    "print(f'结果: {divisors}\\n')\n",
    "\n",
    "divisors = find_divisors([2, 3, 4, 5, 6, 7, 8, 9, 10, 11, 12], 23)\n",
    "print(f'结果: {divisors}\\n')\n",
    "\n",
    "divisors = find_divisors([1, 2, 3, 4, 5, 6, 7, 8, 9, 10, 11, 12], 17)\n",
    "print(f'结果: {divisors}\\n')\n",
    "\n",
    "divisors = find_divisors([1, 2, 3, 4, 5, 6, 7, 8, 9, 10, 11, 12], 11)\n",
    "print(f'结果: {divisors}\\n')\n"
   ]
  },
  {
   "cell_type": "markdown",
   "metadata": {},
   "source": [
    "10 代码审查的要点\n",
    "代码审查是编程工作流程中非常重要的一部分，通常由一名或多名程序员审查另一位程序员编写的代码。审查者对代码进行反馈，并提出改进建议。审查者通常会回答以下问题：\n",
    "\n",
    "代码易读且易理解吗？\n",
    "有没有错误？代码是否产生预期的结果且没有错误？\n",
    "这段代码能否在其他上下文中容易地重用或适应？\n",
    "实现是否高效？有没有不必要占用的内存？是否有更快速的方法编写这段程序？\n",
    "当然，每当你编写代码时，即使不进行代码审查，也应该问自己这些问题——这些问题是编写高质量代码的关键。\n",
    "\n",
    "10.1. 代码注释\n",
    "\n",
    "编写代码时，使用注释（comments）来解释每一步骤在做什么是个好主意。在 Python 中，注释以 # 字符开始，# 字符之后的内容会被 Python 解释器忽略。"
   ]
  },
  {
   "cell_type": "code",
   "execution_count": 1,
   "metadata": {},
   "outputs": [
    {
     "name": "stdout",
     "output_type": "stream",
     "text": [
      "[1, 1, 2, 3, 5, 8]\n"
     ]
    }
   ],
   "source": [
    "#练习 1 解析：\n",
    "def fibonacci(n):\n",
    "    '''\n",
    "    返回 Fibonacci 数列，从 x0 = 1, x1 = 1 开始，以列表形式返回 xn。\n",
    "    '''\n",
    "    # 创建一个包含初始值的列表 x\n",
    "    x = [1, 1]\n",
    "\n",
    "    # 列表将为 [x0, x1, ..., xn]，共 n+1 个元素。\n",
    "    # 用一个循环添加剩余的 n-1 个元素\n",
    "    for i in range(n-1):\n",
    "        # 下一个元素是前两个元素的和\n",
    "        x.append(x[i] + x[i+1]) #在Python中，append() 是用于在列表末尾追加元素的方法。\n",
    "        #它会将指定的元素添加到现有列表中，而不会创建新列表。\n",
    "    return x\n",
    "\n",
    "# 计算并显示 Fibonacci 数列的第 6 项\n",
    "print(fibonacci(5))"
   ]
  },
  {
   "cell_type": "markdown",
   "metadata": {},
   "source": [
    "10.2.1 空格 (Whitespace)\n",
    "在代码中使用空格（Whitespace）是使代码更具可读性的一个好习惯。尽管它在代码执行时无关紧要，但为了提高代码的可读性，遵循空格的相关规范非常重要。以下是PEP-8中关于空格的总结："
   ]
  },
  {
   "cell_type": "code",
   "execution_count": 1,
   "metadata": {},
   "outputs": [
    {
     "name": "stdout",
     "output_type": "stream",
     "text": [
      "m\n",
      "m\n"
     ]
    }
   ],
   "source": [
    "import numpy as np\n",
    "\n",
    "# 下面的代码不太容易阅读...\n",
    "a=(np.sqrt(5))\n",
    "a+=2*np.exp(4*np.pi)-np.sin(a**2)\n",
    "s='I am a string!'\n",
    "print(s[ 3 ])\n",
    "\n",
    "# 更好的代码格式...\n",
    "a = np.sqrt(5)\n",
    "a += 2 * np.cos(4 * np.pi**2) - np.sin(a**2)\n",
    "\n",
    "s = 'I am a string!'\n",
    "print(s[3])"
   ]
  },
  {
   "cell_type": "markdown",
   "metadata": {},
   "source": [
    "2.2 命名规范 (Naming conventions)\n",
    "在编写代码时，变量和函数名称的选择也是至关重要的。单字母变量名在简单的代码片段中可以接受，但在复杂代码中，采用有意义的变量名可以帮助其他人更轻松地理解代码。\n",
    "\n",
    "练习2：改进以下代码以提高可读性\n",
    "代码计算二次多项式 的根，但编写得比较草率。你可以做些什么来改进它？"
   ]
  },
  {
   "cell_type": "code",
   "execution_count": 2,
   "metadata": {},
   "outputs": [
    {
     "name": "stdout",
     "output_type": "stream",
     "text": [
      "First root: x1 = -2.25\n",
      "Second root: x2 = 2.0\n",
      "Is x1 correct? True\n",
      "Is x2 correct? True\n"
     ]
    }
   ],
   "source": [
    "import numpy as np\n",
    "\n",
    "# 设置多项式系数\n",
    "a = 2\n",
    "b = 0.5\n",
    "c = -9\n",
    "\n",
    "# 计算判别式的平方根\n",
    "sqrt_delta = np.sqrt(b**2 - 4 * a * c)\n",
    "\n",
    "# 计算二次方程的根\n",
    "x1 = (-b - sqrt_delta) / (2 * a)\n",
    "x2 = (-b + sqrt_delta) / (2 * a)\n",
    "\n",
    "# 显示结果\n",
    "print('First root: x1 =', x1)\n",
    "print('Second root: x2 =', x2)\n",
    "\n",
    "# 检查结果是否正确\n",
    "print('Is x1 correct?', a * x1**2 + b * x1 + c == 0)\n",
    "print('Is x2 correct?', a * x2**2 + b * x2 + c == 0)"
   ]
  }
 ],
 "metadata": {
  "kernelspec": {
   "display_name": "Python 3",
   "language": "python",
   "name": "python3"
  },
  "language_info": {
   "codemirror_mode": {
    "name": "ipython",
    "version": 3
   },
   "file_extension": ".py",
   "mimetype": "text/x-python",
   "name": "python",
   "nbconvert_exporter": "python",
   "pygments_lexer": "ipython3",
   "version": "3.11.5"
  }
 },
 "nbformat": 4,
 "nbformat_minor": 2
}
