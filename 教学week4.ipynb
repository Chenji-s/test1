{
 "cells": [
  {
   "cell_type": "markdown",
   "metadata": {},
   "source": [
    "第十一章：输入和输出"
   ]
  },
  {
   "cell_type": "markdown",
   "metadata": {},
   "source": [
    "11.1 标准输入\n",
    "有时，我们需要让用户以交互方式输入一些内容。我们可以使用 input() 函数来实现这一点——你在测验Q1的问题中已经看到了这种用法。\n",
    "\n",
    "input() 接受一个字符串作为参数，该字符串将作为提示显示给用户。用户将被提示输入一个值并按下回车键，这个值将作为字符串 str 被返回。"
   ]
  },
  {
   "cell_type": "code",
   "execution_count": 4,
   "metadata": {},
   "outputs": [
    {
     "name": "stdout",
     "output_type": "stream",
     "text": [
      "6\n",
      "<class 'str'>\n"
     ]
    }
   ],
   "source": [
    "# 让用户输入一个数字，并将其赋值给变量\n",
    "your_number = input('请输入一个数字并按回车：')\n",
    "print(your_number)\n",
    "print(type(your_number))"
   ]
  },
  {
   "cell_type": "code",
   "execution_count": 5,
   "metadata": {},
   "outputs": [
    {
     "name": "stdout",
     "output_type": "stream",
     "text": [
      "6.0 除以 3 的结果是 2.0.\n"
     ]
    }
   ],
   "source": [
    "#如果你要求的是数字数据，那么需要将返回的值 转换 成 int 或 float。\n",
    "your_number = float(input('请输入一个数字并按回车：'))\n",
    "print(f'{your_number} 除以 3 的结果是 {your_number / 3}.')"
   ]
  },
  {
   "cell_type": "markdown",
   "metadata": {},
   "source": [
    "Exercise 11.1\n",
    "以下代码生成了一个 1 到 100 之间的随机整数 target。你需要编写一个数字猜谜游戏的代码：询问用户的初始猜测，并告诉他们猜的数字太大、太小，还是猜对了。如果没猜对，则继续询问他们再次猜测，直到找到正确的数字。\n",
    "提示：你需要使用 while 循环。\n"
   ]
  },
  {
   "cell_type": "code",
   "execution_count": 6,
   "metadata": {},
   "outputs": [
    {
     "ename": "ModuleNotFoundError",
     "evalue": "No module named 'numpy'",
     "output_type": "error",
     "traceback": [
      "\u001b[0;31m---------------------------------------------------------------------------\u001b[0m",
      "\u001b[0;31mModuleNotFoundError\u001b[0m                       Traceback (most recent call last)",
      "Cell \u001b[0;32mIn[6], line 1\u001b[0m\n\u001b[0;32m----> 1\u001b[0m \u001b[38;5;28;01mimport\u001b[39;00m \u001b[38;5;21;01mnumpy\u001b[39;00m \u001b[38;5;28;01mas\u001b[39;00m \u001b[38;5;21;01mnp\u001b[39;00m\n\u001b[1;32m      3\u001b[0m rng \u001b[38;5;241m=\u001b[39m np\u001b[38;5;241m.\u001b[39mrandom\u001b[38;5;241m.\u001b[39mdefault_rng()\n\u001b[1;32m      4\u001b[0m target \u001b[38;5;241m=\u001b[39m rng\u001b[38;5;241m.\u001b[39mintegers(\u001b[38;5;241m1\u001b[39m, \u001b[38;5;241m101\u001b[39m)\n",
      "\u001b[0;31mModuleNotFoundError\u001b[0m: No module named 'numpy'"
     ]
    }
   ],
   "source": [
    "import numpy as np\n",
    "\n",
    "rng = np.random.default_rng()\n",
    "target = rng.integers(1, 101)\n",
    "print(target)\n",
    "number = float(input('请输入一个数字并按回车：'))\n",
    "while True:\n",
    "    if number<target:\n",
    "        number=int(input('比该数小，重新输入：'))\n",
    "    elif number>target:\n",
    "        number=int(input('比该数大，重新输入：'))\n",
    "    else:  \n",
    "        print(f'{number} 正确.')\n",
    "        break"
   ]
  },
  {
   "cell_type": "markdown",
   "metadata": {},
   "source": [
    "11.2 文件读取\n",
    "Python 在处理数据方面表现出色——这是过去十年左右它受到广泛关注的原因之一。我们可以处理多种不同类型的数据，如文本、二进制文件、电子表格等。而且还有多种方式从文件中访问数据，并将结果保存到文件中。\n",
    "\n",
    "我们将首先讨论如何从 文本 文件中打开并读取数据。课程后面我们会学到更多关于处理其他文件类型的方法（如 CSV 文件、二进制文件等）。\n",
    "\n",
    "11.2.1 基础文件处理\n",
    "\n",
    "你可以使用 open() 函数以不同的模式打开一个文件。打开文件后，我们可以逐行读取文件内容。以下是如何以“读取”模式打开一个文件，并使用 .readline() 方法逐行读取内容："
   ]
  },
  {
   "cell_type": "code",
   "execution_count": 17,
   "metadata": {},
   "outputs": [
    {
     "name": "stdout",
     "output_type": "stream",
     "text": [
      "Hello, I am text for your Python Programming Course. This is my first line.\n",
      "\n",
      "I want to tell you: YOU ARE WONDERFUL! Now I am finishing my second line.\n",
      "\n"
     ]
    }
   ],
   "source": [
    "#注意路径\n",
    "\n",
    "with open('/Users/chenji/Desktop/编程/week4/mytextfile.txt', 'r') as myfile:\n",
    "    print(myfile.readline())   # 读取第一行\n",
    "    print(myfile.readline())   # 读取第二行"
   ]
  },
  {
   "cell_type": "markdown",
   "metadata": {},
   "source": [
    "2.2 使用 with 语句\n",
    "\n",
    "使用 with 语句时，我们不需要显式地关闭文件。当退出 with 语句时，文件会自动关闭，这使得代码更加整洁。下面是如何使用 with 来处理文件的例子："
   ]
  },
  {
   "cell_type": "code",
   "execution_count": 18,
   "metadata": {},
   "outputs": [
    {
     "name": "stdout",
     "output_type": "stream",
     "text": [
      "Hello, I am text for your Python Programming Course. This is my first line.\n",
      "I want to tell you: YOU ARE WONDERFUL! Now I am finishing my second line.\n",
      "It is rude not to say goodbye, so I am finishing my third line by saying BYE!\n"
     ]
    }
   ],
   "source": [
    "with open('/Users/chenji/Desktop/编程/week4/mytextfile.txt', 'r') as myfile:\n",
    "    for line in myfile:\n",
    "        print(line.strip())  # 输出每行内容"
   ]
  },
  {
   "cell_type": "markdown",
   "metadata": {},
   "source": [
    "Exercise 11.2\n",
    "完成下面的代码，依次读取文件中的所有行，直到文件末尾，并将它们存储在列表all_lines中。您既可以使用.readlines()(搜索文档!)，也可以使用.readline()使用while循环逐行读取文本。"
   ]
  },
  {
   "cell_type": "code",
   "execution_count": 26,
   "metadata": {},
   "outputs": [
    {
     "name": "stdout",
     "output_type": "stream",
     "text": [
      "['Hello, I am text for your Python Programming Course. This is my first line.\\n', 'I want to tell you: YOU ARE WONDERFUL! Now I am finishing my second line.\\n', 'It is rude not to say goodbye, so I am finishing my third line by saying BYE!\\n']\n"
     ]
    }
   ],
   "source": [
    "#第一种方法:使用'readline'\n",
    "with open('/Users/chenji/Desktop/编程/week4/mytextfile.txt', 'r') as myfile:\n",
    "    # 初始化一个空列表来存储行\n",
    "    all_lines = []\n",
    "\n",
    "    # 如果line为空，则到达文件结束\n",
    "    while True:\n",
    "        line = myfile.readline()\n",
    "        # 当到达空行时中断循环(记住布尔类型转换!)\n",
    "        if not line:\n",
    "            break\n",
    "        # 如果仍然有非空行，则追加到列表\n",
    "        all_lines.append(line)\n",
    "print(all_lines)"
   ]
  },
  {
   "cell_type": "markdown",
   "metadata": {},
   "source": [
    "3 写入文件\n",
    "我们还可以将文本写入文件，这通常是存储计算结果的好方法，因为我们常常需要计算出答案并能够以后参考。\n",
    "\n",
    "在 Python 中，我们可以通过使用 open() 函数并传入参数 'w'（代表“写模式”）来创建一个新的文本文件并打开它。我们需要将输出写入文件中，而不是显示在屏幕上。以下是如何操作的示例——使用文件对象的 .write() 方法：\n"
   ]
  },
  {
   "cell_type": "code",
   "execution_count": null,
   "metadata": {},
   "outputs": [],
   "source": [
    "text1 = 'Here is the text to write into the file.'\n",
    "text2 = 'Here is the second line of text to write into the file.'\n",
    "\n",
    "#with open('mytextfile_new.txt', 'w') as mynewfile:\n",
    "    #mynewfile.write(text1 + '\\n')\n",
    "    #mynewfile.write(text2 + '\\n')"
   ]
  },
  {
   "cell_type": "markdown",
   "metadata": {},
   "source": [
    "练习 11.3\n",
    "编写代码逐行读取 mytextfile.txt 的内容，并在每一行前添加行号和 ': '。"
   ]
  },
  {
   "cell_type": "code",
   "execution_count": null,
   "metadata": {},
   "outputs": [],
   "source": [
    "# Read the file, store the lines in a list\n",
    "with open('/Users/chenji/Desktop/编程/week4/mytextfile.txt', 'r') as myfile:\n",
    "    all_lines = myfile.readlines()\n",
    "\n",
    "with open('textfile_linenumber.txt', 'w') as newfile:\n",
    "    count = 1\n",
    "    for line in all_lines:\n",
    "        newfile.write(f'{count}: {line}')\n",
    "        count += 1"
   ]
  },
  {
   "cell_type": "markdown",
   "metadata": {},
   "source": [
    "第十二章：命名空间和作用域\n",
    "命名空间和作用域是理解 Python 中非常重要的概念，尤其是在你已经学会编写自己的函数，并且开始使用更多模块时。\n",
    "\n",
    "1. 命名空间\n",
    "\n",
    "大致来说，命名空间 是名称的集合，以及它们所指向的对象。它是 Python 用来根据名称查找内存中对象的表。\n",
    "如果我们再次使用抽屉或盒子的类比，给盒子贴上一个新标签就是将这个名称添加到命名空间\n",
    "。\n",
    "在这个例子中，我们首先将名称 a 和 b 添加到命名空间——也就是说，我们在内存中的两个盒子上贴上了 a 和 b 的标签。然后，当我们让 Python 计算并打印 a + b 时，它会查看命名空间来找到名为 a 和 b 的盒子。同时，它也会查找名为 print 的盒子（这个盒子里装着能够让我们将内容显示到屏幕上的函数）。\n",
    "\n",
    "由于 d 不在命名空间中（没有名为 d 的盒子），Python 无法找到它，因此会返回 NameError 错误。"
   ]
  },
  {
   "cell_type": "code",
   "execution_count": 27,
   "metadata": {},
   "outputs": [
    {
     "name": "stdout",
     "output_type": "stream",
     "text": [
      "7\n"
     ]
    },
    {
     "ename": "NameError",
     "evalue": "name 'd' is not defined",
     "output_type": "error",
     "traceback": [
      "\u001b[0;31m---------------------------------------------------------------------------\u001b[0m",
      "\u001b[0;31mNameError\u001b[0m                                 Traceback (most recent call last)",
      "Cell \u001b[0;32mIn[27], line 4\u001b[0m\n\u001b[1;32m      2\u001b[0m b \u001b[38;5;241m=\u001b[39m \u001b[38;5;241m2\u001b[39m\n\u001b[1;32m      3\u001b[0m \u001b[38;5;28mprint\u001b[39m(a \u001b[38;5;241m+\u001b[39m b)\n\u001b[0;32m----> 4\u001b[0m \u001b[38;5;28mprint\u001b[39m(d)\n",
      "\u001b[0;31mNameError\u001b[0m: name 'd' is not defined"
     ]
    }
   ],
   "source": [
    "a = 5\n",
    "b = 2\n",
    "print(a + b)\n",
    "print(d)\n"
   ]
  },
  {
   "cell_type": "markdown",
   "metadata": {},
   "source": [
    "2. 作用域\n",
    "\n",
    "当你运行一个 Python 脚本时，通常会创建多个命名空间。作用域 是代码中的一个部分，你可以从中访问某个命名空间——也就是说，你可以在该作用域中通过直接输入名称来找到该命名空间中的对象。\n",
    "\n",
    "通过一个例子来解释作用域会更为清晰："
   ]
  },
  {
   "cell_type": "code",
   "execution_count": null,
   "metadata": {},
   "outputs": [
    {
     "name": "stdout",
     "output_type": "stream",
     "text": [
      "['Hello, I am text for your Python Programming Course. This is my first line.\\n', 'I want to tell you: YOU ARE WONDERFUL! Now I am finishing my second line.\\n', 'It is rude not to say goodbye, so I am finishing my third line by saying BYE!\\n']\n"
     ]
    }
   ],
   "source": [
    "#第一种方法:使用'readline'\n",
    "with open('/Users/chenji/Desktop/编程/week4/mytextfile.txt', 'r') as myfile:\n",
    "    # 初始化一个空列表来存储行\n",
    "    all_lines = []\n",
    "\n",
    "    # 如果line为空，则到达文件结束\n",
    "    while True:\n",
    "        line = myfile.readline()\n",
    "        # 当到达空行时中断循环(记住布尔类型转换!)\n",
    "        if not line:\n",
    "            break\n",
    "        # 如果仍然有非空行，则追加到列表\n",
    "        all_lines.append(line)\n",
    "print(all_lines)"
   ]
  },
  {
   "cell_type": "markdown",
   "metadata": {},
   "source": [
    "第十二章：命名空间和作用域\n",
    "命名空间和作用域是理解 Python 中非常重要的概念，尤其是在你已经学会编写自己的函数，并且开始使用更多模块时。\n",
    "\n",
    "12.1. 命名空间\n",
    "\n",
    "大致来说，命名空间 是名称的集合，以及它们所指向的对象。它是 Python 用来根据名称查找内存中对象的表。\n",
    "如果我们再次使用抽屉或盒子的类比，给盒子贴上一个新标签就是将这个名称添加到命名空间。\n",
    "在这个例子中，我们首先将名称 a 和 b 添加到命名空间——也就是说，我们在内存中的两个盒子上贴上了 a 和 b 的标签。然后，当我们让 Python 计算并打印 a + b 时，它会查看命名空间来找到名为 a 和 b 的盒子。同时，它也会查找名为 print 的盒子（这个盒子里装着能够让我们将内容显示到屏幕上的函数）。\n",
    "\n",
    "由于 d 不在命名空间中（没有名为 d 的盒子），Python 无法找到它，因此会返回 NameError 错误。\n",
    "\n"
   ]
  },
  {
   "cell_type": "code",
   "execution_count": null,
   "metadata": {},
   "outputs": [],
   "source": [
    "a = 5\n",
    "b = 2\n",
    "print(a + b)\n",
    "print(d)"
   ]
  },
  {
   "cell_type": "markdown",
   "metadata": {},
   "source": [
    "11.2. 作用域\n",
    "当你运行一个 Python 脚本时，通常会创建多个命名空间。作用域 是代码中的一个部分，你可以从中访问某个命名空间——也就是说，你可以在该作用域中通过直接输入名称来找到该命名空间中的对象。\n",
    "通过一个例子来解释作用域会更为清晰：\n",
    "\n",
    "在这个代码中，函数 func() 在被调用时，会创建一个命名空间。所有在函数内创建的变量（如 inside）都会添加到函数的命名空间中。我们可以在函数内使用这些变量，比如在第 7 行打印 inside。此时代码在局部作用域中运行。\n",
    "需要注意的是，即使 outside 变量不属于函数的命名空间，我们仍然可以在函数内部打印 outside。这是因为 outside 是在全局作用域中定义的。如果 Python 在局部作用域中找不到 outside，它会在全局作用域中寻找。\n",
    "\n"
   ]
  },
  {
   "cell_type": "code",
   "execution_count": 29,
   "metadata": {},
   "outputs": [
    {
     "name": "stdout",
     "output_type": "stream",
     "text": [
      "Inside the function...\n",
      "7\n",
      "2\n",
      "Now we are outside...\n",
      "7\n"
     ]
    }
   ],
   "source": [
    "outside = 7\n",
    "\n",
    "def func():\n",
    "    inside = 2\n",
    "    print('Inside the function...')\n",
    "    print(outside)\n",
    "    print(inside)\n",
    "\n",
    "func()\n",
    "\n",
    "print('Now we are outside...')\n",
    "print(outside)\n",
    "print(inside)"
   ]
  },
  {
   "cell_type": "code",
   "execution_count": 31,
   "metadata": {},
   "outputs": [
    {
     "name": "stdout",
     "output_type": "stream",
     "text": [
      "7\n",
      "1\n"
     ]
    }
   ],
   "source": [
    "outside = 7\n",
    "def func():\n",
    "    print(outside)\n",
    "\n",
    "def func2():\n",
    "    print(outside)\n",
    "    outside = 1\n",
    "   \n",
    "func()\n",
    "func2()\n",
    "#运行此代码时，func2() 将引发错误，因为在该函数中，Python 会首先在局部作用域中找到 outside，\n",
    "# 但它在找到前就试图打印出 outside 的值，而此时变量还未被赋值。"
   ]
  },
  {
   "cell_type": "markdown",
   "metadata": {},
   "source": [
    "练习12.1\n",
    "考虑以下代码。在标记为 # 1, # 2, # 3, # 4, # 5 的行中，哪些变量 a, b, c, d 是可用的？它们的值是什么？\n"
   ]
  },
  {
   "cell_type": "code",
   "execution_count": 36,
   "metadata": {},
   "outputs": [
    {
     "name": "stdout",
     "output_type": "stream",
     "text": [
      "10\n",
      "10 10\n"
     ]
    }
   ],
   "source": [
    "\n",
    "a = 10\n",
    "\n",
    "def outer_function():\n",
    "    b = 8.4\n",
    "    # 1\n",
    "\n",
    "    def inner_function():\n",
    "        c = -0.3\n",
    "        # 2 在这里，我们不能访问c，因为它只有可用在inner_function()的作用域中\n",
    "        return c\n",
    "    \n",
    "    d = inner_function()\n",
    "    # 3\n",
    "\n",
    "    return a\n",
    "\n",
    "# 4\n",
    "print(a)\n",
    "b = outer_function()\n",
    "# 5\n",
    "print(a, b)"
   ]
  },
  {
   "cell_type": "markdown",
   "metadata": {},
   "source": [
    "第十三章：Numpy数组\n",
    "我们之前已经介绍过 Numpy 模块，当时我们使用了一些数学函数来计算值（例如 np.cos()、np.sqrt()）。Numpy 的另一个有用功能是 ndarray 类型（即 N 维数组，通常被称为“Numpy 数组”）。Numpy 数组是一种像列表一样的容器，可以有效地存储和处理向量与矩阵。\n",
    "\n",
    "  13.1. 手动创建数组\n",
    "\n",
    "我们可以使用 np.array() 函数来创建数组。它接受一个列表作为输入参数，并返回一个数组，其中每一行都是列表的元素。例如，创建一个向量或矩阵："
   ]
  },
  {
   "cell_type": "code",
   "execution_count": 9,
   "metadata": {},
   "outputs": [
    {
     "ename": "ModuleNotFoundError",
     "evalue": "No module named 'numpy'",
     "output_type": "error",
     "traceback": [
      "\u001b[0;31m---------------------------------------------------------------------------\u001b[0m",
      "\u001b[0;31mModuleNotFoundError\u001b[0m                       Traceback (most recent call last)",
      "Cell \u001b[0;32mIn[9], line 2\u001b[0m\n\u001b[1;32m      1\u001b[0m \u001b[38;5;66;03m# 首先导入 Numpy\u001b[39;00m\n\u001b[0;32m----> 2\u001b[0m \u001b[38;5;28;01mimport\u001b[39;00m \u001b[38;5;21;01mnumpy\u001b[39;00m \u001b[38;5;28;01mas\u001b[39;00m \u001b[38;5;21;01mnp\u001b[39;00m\n\u001b[1;32m      3\u001b[0m \u001b[38;5;66;03m# 创建一个向量\u001b[39;00m\n\u001b[1;32m      4\u001b[0m v \u001b[38;5;241m=\u001b[39m np\u001b[38;5;241m.\u001b[39marray([\u001b[38;5;241m3\u001b[39m, \u001b[38;5;241m4\u001b[39m, \u001b[38;5;241m-\u001b[39m\u001b[38;5;241m2.8\u001b[39m, \u001b[38;5;241m0\u001b[39m])\n",
      "\u001b[0;31mModuleNotFoundError\u001b[0m: No module named 'numpy'"
     ]
    }
   ],
   "source": [
    "# 首先导入 Numpy\n",
    "import numpy as np\n",
    "# 创建一个向量\n",
    "v = np.array([3, 4, -2.8, 0])\n",
    "print(v)\n",
    "print(type(v))\n",
    "\n",
    "# 创建一个矩阵：向 np.array() 传递一个列表的列表，每个列表代表矩阵的一行\n",
    "id_4 = np.array([[1, 0, 0, 0],\n",
    "                 [0, 1, 0, 0],\n",
    "                 [0, 0, 1, 0],\n",
    "                 [0, 0, 0, 1]])\n",
    "print(id_4)\n",
    "\n",
    "# 使用 np.array() 的第二个（可选）输入参数指定元素类型：\n",
    "id_4_float = np.array([[1, 0, 0, 0],\n",
    "                       [0, 1, 0, 0],\n",
    "                       [0, 0, 1, 0],\n",
    "                       [0, 0, 0, 1]], dtype=float)\n",
    "print(id_4_float)"
   ]
  },
  {
   "cell_type": "markdown",
   "metadata": {},
   "source": [
    "2. 构造数组的一些有用函数\n",
    "\n",
    "Numpy 还提供了许多有用的函数来构造具有特定属性的数组，例如：\n",
    "\n",
    "np.zeros()、np.ones()：创建全为零或全为一的数组\n",
    "np.eye()：生成单位矩阵\n",
    "np.random.random()、np.random.randint()：生成随机实数或随机整数矩阵\n",
    "np.arange()、np.linspace()：生成等间隔的向量"
   ]
  },
  {
   "cell_type": "code",
   "execution_count": 42,
   "metadata": {},
   "outputs": [
    {
     "name": "stdout",
     "output_type": "stream",
     "text": [
      "[[0. 0. 0. 0.]\n",
      " [0. 0. 0. 0.]\n",
      " [0. 0. 0. 0.]]\n",
      "[[1. 0. 0.]\n",
      " [0. 1. 0.]\n",
      " [0. 0. 1.]]\n",
      "[[0.1619178  0.26730974 0.56022034]\n",
      " [0.5965493  0.01121818 0.74507073]]\n",
      "[0 2 4 6 8]\n",
      "[0.   0.25 0.5  0.75 1.  ]\n"
     ]
    }
   ],
   "source": [
    "# 创建一个零矩阵\n",
    "A = np.zeros([3, 4])\n",
    "print(A)\n",
    "\n",
    "# 创建一个单位矩阵\n",
    "I = np.eye(3)\n",
    "print(I)\n",
    "\n",
    "# 创建一个由随机数构成的矩阵\n",
    "R = np.random.random([2, 3])\n",
    "print(R)\n",
    "\n",
    "# 创建一个等间隔的向量 (不包含10)\n",
    "v = np.arange(0, 10, 2)\n",
    "print(v)\n",
    "\n",
    "# 使用 linspace 创建等间隔的向量（包含1）\n",
    "v_lin = np.linspace(0, 1, 5)\n",
    "print(v_lin)"
   ]
  },
  {
   "cell_type": "markdown",
   "metadata": {},
   "source": [
    "练习13.1\n",
    "创建两个变量M和y，赋值为Numpy数组，表示定义为的矩阵和向量"
   ]
  },
  {
   "cell_type": "code",
   "execution_count": 3,
   "metadata": {},
   "outputs": [
    {
     "ename": "ModuleNotFoundError",
     "evalue": "No module named 'numpy'",
     "output_type": "error",
     "traceback": [
      "\u001b[0;31m---------------------------------------------------------------------------\u001b[0m",
      "\u001b[0;31mModuleNotFoundError\u001b[0m                       Traceback (most recent call last)",
      "Cell \u001b[0;32mIn[3], line 1\u001b[0m\n\u001b[0;32m----> 1\u001b[0m \u001b[38;5;28;01mimport\u001b[39;00m \u001b[38;5;21;01mnumpy\u001b[39;00m \u001b[38;5;28;01mas\u001b[39;00m \u001b[38;5;21;01mnp\u001b[39;00m\n\u001b[1;32m      2\u001b[0m M\u001b[38;5;241m=\u001b[39mnp\u001b[38;5;241m.\u001b[39marray([[\u001b[38;5;241m9\u001b[39m,\u001b[38;5;241m3\u001b[39m,\u001b[38;5;241m0\u001b[39m],[\u001b[38;5;241m-\u001b[39m\u001b[38;5;241m2\u001b[39m,\u001b[38;5;241m-\u001b[39m\u001b[38;5;241m2\u001b[39m,\u001b[38;5;241m1\u001b[39m],[\u001b[38;5;241m0\u001b[39m,\u001b[38;5;241m-\u001b[39m\u001b[38;5;241m1\u001b[39m,\u001b[38;5;241m-\u001b[39m\u001b[38;5;241m1\u001b[39m]])\n\u001b[1;32m      3\u001b[0m \u001b[38;5;28mprint\u001b[39m(M)\n",
      "\u001b[0;31mModuleNotFoundError\u001b[0m: No module named 'numpy'"
     ]
    }
   ],
   "source": [
    "import numpy as np\n",
    "M=np.array([[9,3,0],[-2,-2,1],[0,-1,-1]])\n",
    "print(M)\n",
    "y = np.array([0.4, -3, -0.3])\n",
    "x=y.T#转置\n",
    "print(y)"
   ]
  },
  {
   "cell_type": "markdown",
   "metadata": {},
   "source": [
    "13.3. 按元素操作（Element-wise operations）\n",
    "基本运算符 +, -, *, /, 和 ** 可以用于对两个相同大小的数组，或数组与数字之间进行按元素操作。"
   ]
  },
  {
   "cell_type": "code",
   "execution_count": 9,
   "metadata": {},
   "outputs": [
    {
     "name": "stdout",
     "output_type": "stream",
     "text": [
      "A = \n",
      "[[0.1 0.2 0.3]\n",
      " [0.4 0.5 0.6]\n",
      " [0.7 0.8 0.9]]\n",
      "\n",
      "A + B =\n",
      "[[1.1 0.2 0.3]\n",
      " [0.4 1.5 0.6]\n",
      " [0.7 0.8 1.9]]\n",
      "\n",
      "A - B =\n",
      "[[-0.9  0.2  0.3]\n",
      " [ 0.4 -0.5  0.6]\n",
      " [ 0.7  0.8 -0.1]]\n",
      "\n",
      "A * B =\n",
      "[[0.1 0.  0. ]\n",
      " [0.  0.5 0. ]\n",
      " [0.  0.  0.9]]\n",
      "\n",
      "A ** 2 =\n",
      "[[0.01 0.04 0.09]\n",
      " [0.16 0.25 0.36]\n",
      " [0.49 0.64 0.81]]\n",
      "\n",
      "B / A =\n",
      "[[10.          0.          0.        ]\n",
      " [ 0.          2.          0.        ]\n",
      " [ 0.          0.          1.11111111]]\n"
     ]
    }
   ],
   "source": [
    "import numpy as np\n",
    "\n",
    "# 构建一个矩阵 A\n",
    "A = 0.1 * np.array([[1, 2, 3],\n",
    "                    [4, 5, 6],\n",
    "                    [7, 8, 9]])\n",
    "print(\"A = \")\n",
    "print(A)\n",
    "\n",
    "# 构建一个单位矩阵 B\n",
    "B = np.eye(3)\n",
    "\n",
    "print(\"\\nA + B =\")\n",
    "print(A + B)\n",
    "\n",
    "print(\"\\nA - B =\")\n",
    "print(A - B)\n",
    "\n",
    "print(\"\\nA * B =\")\n",
    "print(A * B)\n",
    "\n",
    "print(\"\\nA ** 2 =\")\n",
    "print(A ** 2)\n",
    "\n",
    "print(\"\\nB / A =\")\n",
    "print(B / A)"
   ]
  },
  {
   "cell_type": "markdown",
   "metadata": {},
   "source": [
    "练习13.2\n",
    "编写一个函数 dot_prod()，它接受两个输入参数 u 和 v，两个均为 1D Numpy 数组（向量），\n",
    "并返回两个向量的点积。代码必须为单行（包括 def 语句和计算在内）。"
   ]
  },
  {
   "cell_type": "code",
   "execution_count": 10,
   "metadata": {},
   "outputs": [],
   "source": [
    "import numpy as np\n",
    "def dot_prod(u,v):\n",
    "    return np.sum(u * v)"
   ]
  },
  {
   "cell_type": "markdown",
   "metadata": {},
   "source": [
    "13.4. Numpy 数组的索引和切片（Indexing and slicing Numpy arrays）\n",
    "要访问 Numpy 数组中某个位置的元素，可以像操作其他序列一样使用索引。不同的是，N 维 Numpy 数组中的元素由 N 个整数索引，每个索引代表沿某维度的元素位置。"
   ]
  },
  {
   "cell_type": "code",
   "execution_count": 15,
   "metadata": {},
   "outputs": [
    {
     "name": "stdout",
     "output_type": "stream",
     "text": [
      "[[0.25 0.5  0.75 1.  ]\n",
      " [1.25 1.5  1.75 2.  ]\n",
      " [2.25 2.5  2.75 3.  ]\n",
      " [3.25 3.5  3.75 4.  ]]\n",
      "2.0\n",
      "[0.25 0.5  0.75 1.  ]\n",
      "[0.75 1.75 2.75 3.75]\n",
      "[[2.25 2.5  2.75]\n",
      " [3.25 3.5  3.75]]\n",
      "[0.5 2.5]\n"
     ]
    }
   ],
   "source": [
    "# 创建一个 4x4 的矩阵\n",
    "A = np.arange(1/4, 17/4, 1/4).reshape((4, 4))\n",
    "#np.arange(1/4, 17/4, 1/4)：使用 arange 函数创建了一个从 0.25（即 1/4）\n",
    "# 到 4.0（即 17/4）的数组，步长为 0.25。这将生成 16 个元素。\n",
    "#reshape((4, 4))：将生成的数组重塑为 4x4 的矩阵，即 4 行 4 列。\n",
    "print(A)\n",
    "\n",
    "# 访问第 2 行第 4 列的元素\n",
    "print(A[1, 3])\n",
    "\n",
    "# 访问第 1 行的所有元素\n",
    "print(A[0, :])\n",
    "\n",
    "# 访问所有行的第 3 列\n",
    "print(A[:, 2])\n",
    "\n",
    "# 访问从第 2 行到最后一行、从第 1 列到倒数第 2 列的元素\n",
    "print(A[2:, :-1])\n",
    "\n",
    "# 从第 0 行开始，每隔一行，访问第 2 列的元素\n",
    "print(A[0::2, 1])"
   ]
  },
  {
   "cell_type": "markdown",
   "metadata": {},
   "source": [
    "练习 13.3\n",
    "运行以下代码，并解释所有命令的作用："
   ]
  },
  {
   "cell_type": "code",
   "execution_count": 17,
   "metadata": {},
   "outputs": [
    {
     "name": "stdout",
     "output_type": "stream",
     "text": [
      "[[ 3  2  6  8 10]\n",
      " [10 10  1  6  7]\n",
      " [ 4  4  3  3  1]]\n",
      "[[ True  True False False False]\n",
      " [False False  True False False]\n",
      " [ True  True  True  True  True]]\n",
      "\n",
      "\n",
      "[3 2 1 4 4 3 3 1]\n",
      "[[10 10  1]\n",
      " [ 4  4  3]]\n",
      "[1 4 4 3]\n",
      "[[  3   2 100 100 100]\n",
      " [100 100   1 100 100]\n",
      " [  4   4   3   3   1]]\n"
     ]
    }
   ],
   "source": [
    "import numpy as np\n",
    "rng = np.random.default_rng() #创建一个新的随机数生成器 rng。\n",
    "A = rng.integers(1, 11, size=[3, 5])\n",
    "print(A)\n",
    "A5 = A < 5\n",
    "print(A5)\n",
    "print('\\n')\n",
    "print(A[A5]) #A[A5]：这是一个布尔索引操作，返回 A 中所有满足 A < 5 条件的元素。\n",
    "#布尔矩阵 A5 的 True 对应的元素会被保留下来，False 对应的元素会被过滤掉。\n",
    "\n",
    "print(A[1:, :3]) \n",
    "#A[1:, :3]：这是一种矩阵切片操作，表示取矩阵 A 的第 2 行到最后一行（1: 表示从索引 1 开始），\n",
    "# 以及前 3 列（:3 表示取到第 3 列）。\n",
    "\n",
    "print(A[1:, :3][A5[1:, :3]])\n",
    "#A5[1:, :3]：对布尔矩阵 A5 做相同的切片操作，取第 2 行到最后一行和前 3 列的元素。\n",
    "#A[1:, :3][A5[1:, :3]]：使用这个布尔切片对矩阵 A 中相同部分进行过滤，只保留满足 A5[1:, :3] 为 True 的那些元素，即小于 5 的元素。\n",
    "#print(A[1:, :3][A5[1:, :3]])：输出这个子矩阵中小于 5 的元素。\n",
    "\n",
    "A[np.logical_not(A5)] = 100 #将所有不小于 5 的元素替换为 100\n",
    "print(A)"
   ]
  },
  {
   "cell_type": "markdown",
   "metadata": {},
   "source": [
    "练习 13.4\n",
    "\n",
    "定义一个整数变量 n，范围在 2 到 50 之间。使用两个嵌套的 for 循环，创建一个表示矩阵的数组 A，该矩阵满足以下条件：\n",
    "若i<j,aij=i+2j;否则aij=i"
   ]
  },
  {
   "cell_type": "code",
   "execution_count": 30,
   "metadata": {},
   "outputs": [
    {
     "name": "stdout",
     "output_type": "stream",
     "text": [
      "[[0. 0. 0. 0.]\n",
      " [0. 1. 5. 7.]\n",
      " [0. 2. 4. 8.]\n",
      " [0. 3. 6. 9.]]\n"
     ]
    }
   ],
   "source": [
    "n=4\n",
    "import numpy as np\n",
    "A=np.zeros([n,n])\n",
    "for i in range(1,n):\n",
    "    for j in range(1,n):\n",
    "        if i<j:\n",
    "         A[i, j]= i+2*j\n",
    "        else: \n",
    "           A[i, j]= i*j\n",
    "\n",
    "print(A)"
   ]
  },
  {
   "cell_type": "markdown",
   "metadata": {},
   "source": [
    "练习 13.5\n",
    "定义一个变量 n = 20，创建一个表示随机矩阵的数组 A，矩阵的元素取值在 -1 到 1.05 之间。计算矩阵 A 中行和为正的行的比例。"
   ]
  },
  {
   "cell_type": "code",
   "execution_count": 87,
   "metadata": {},
   "outputs": [
    {
     "name": "stdout",
     "output_type": "stream",
     "text": [
      "The probability that a row of A is positive is approximately  45.0%.\n"
     ]
    }
   ],
   "source": [
    "import numpy as np\n",
    "n=20\n",
    "rng = np.random.default_rng() #创建一个新的随机数生成器 rng。\n",
    "A = (1.05 + 1) * rng.random([n, n]) - 1.\n",
    "result=[]\n",
    "for i in range(n):\n",
    "   if np.sum(A[i,:])>0:\n",
    "      result.append(i)\n",
    "\n",
    "print(f'The probability that a row of A is positive',\n",
    "      f'is approximately {len(result)*100/n: .1f}%.')\n"
   ]
  },
  {
   "cell_type": "code",
   "execution_count": 93,
   "metadata": {},
   "outputs": [
    {
     "name": "stdout",
     "output_type": "stream",
     "text": [
      "[[-0.72687321 -0.74118515 -0.66351336 -0.81646019]\n",
      " [ 0.94244918  0.81079522 -0.4005733   0.65421923]\n",
      " [ 0.22206812  0.22353534 -0.64451319  0.51034056]\n",
      " [-0.44204552  0.18741118 -0.40194985 -0.05736606]]\n",
      "[-0.72687321 -0.74118515 -0.66351336 -0.81646019]\n",
      "-0.7139502637314706\n",
      "[-0.72687321 -0.74118515 -0.66351336 -0.81646019]\n",
      "[ 0.94244918  0.81079522 -0.4005733   0.65421923]\n",
      "[ 0.22206812  0.22353534 -0.64451319  0.51034056]\n",
      "[-0.44204552  0.18741118 -0.40194985 -0.05736606]\n"
     ]
    }
   ],
   "source": [
    "#测试用\n",
    "import numpy as np\n",
    "n=4\n",
    "rng = np.random.default_rng() #创建一个新的随机数生成器 rng。\n",
    "A = (1.05 + 1) * rng.random([n, n]) - 1.\n",
    "print(A)\n",
    "print(A[0,:])\n",
    "b=np.sum(A[3,:])\n",
    "print(b)\n",
    "for i in range(4):\n",
    "    print(A[i,:])"
   ]
  },
  {
   "cell_type": "markdown",
   "metadata": {},
   "source": [
    "13.5. 通过复制其他数组创建数组（Creating arrays by copying other arrays）\n",
    "有时，我们希望创建现有数组的副本。最安全的方式是使用 .copy() 方法："
   ]
  },
  {
   "cell_type": "code",
   "execution_count": 94,
   "metadata": {},
   "outputs": [
    {
     "name": "stdout",
     "output_type": "stream",
     "text": [
      "[  1.   1.   1.  30.  40.  50.  60.  70.  80.  90. 100.]\n",
      "[  0.  10.  20.  30.  40.  50.  60.  70.  80.  90. 100.]\n"
     ]
    }
   ],
   "source": [
    "# 创建一个向量 A\n",
    "A = np.linspace(0, 100, 11)\n",
    "# 创建另一个向量 B，内容与 A 相同\n",
    "B = A.copy()\n",
    "# 修改 A 的前 3 个元素\n",
    "A[:3] = 1\n",
    "# 显示 A 和 B\n",
    "print(A)\n",
    "print(B)"
   ]
  },
  {
   "cell_type": "markdown",
   "metadata": {},
   "source": [
    "13.6. 矩阵操作与线性代数（Matrix operations and linear algebra）\n",
    "在之前的章节中，我们看到 A * B 返回 A 和 B 的按元素积。Numpy 提供的 np.matmul() 函数可以计算矩阵乘积："
   ]
  },
  {
   "cell_type": "code",
   "execution_count": 102,
   "metadata": {},
   "outputs": [
    {
     "name": "stdout",
     "output_type": "stream",
     "text": [
      "A =\n",
      "[[2. 2. 2. 2.]\n",
      " [2. 2. 2. 2.]]\n",
      "B =\n",
      "[[0.4 0.  0.  0. ]\n",
      " [0.  0.4 0.  0. ]\n",
      " [0.  0.  0.4 0. ]\n",
      " [0.  0.  0.  0.4]]\n",
      "向量v =\n",
      "[0.38306929 0.06928955 0.4978914  0.25581339]\n",
      "\n",
      "A, v矩阵和向量的乘积 =\n",
      "[2.41212725 2.41212725]\n",
      "[0.15322771 0.02771582 0.19915656 0.10232535]\n",
      "\n",
      "v, v向量的点积 =\n",
      "0.4648794583049306\n",
      "\n",
      " A，v 矩阵乘积 =\n",
      "[2.41212725 2.41212725]\n"
     ]
    }
   ],
   "source": [
    "import numpy as np\n",
    "A = 2 * np.ones([2, 4])\n",
    "print(\"A =\")\n",
    "print(A)\n",
    "\n",
    "B = 0.4 * np.eye(4)\n",
    "print(\"B =\")\n",
    "print(B)\n",
    "\n",
    "v = np.random.random(4)\n",
    "print(\"向量v =\")\n",
    "print(v)\n",
    "\n",
    "# 矩阵和向量的乘积\n",
    "print(\"\\nA, v矩阵和向量的乘积 =\")\n",
    "print(np.matmul(A, v))\n",
    "print(np.matmul(v, B))\n",
    "\n",
    "# 向量的点积\n",
    "print(\"\\nv, v向量的点积 =\")\n",
    "print(np.matmul(v, v))\n",
    "\n",
    "#我们还可以使用运算符 @ 来计算矩阵乘积：\n",
    "print(\"\\n A，v 矩阵乘积 =\")\n",
    "print(A @ v)\n"
   ]
  },
  {
   "cell_type": "markdown",
   "metadata": {},
   "source": [
    "Numpy 还提供了子模块 linalg，它包含许多线性代数相关的函数："
   ]
  },
  {
   "cell_type": "code",
   "execution_count": 104,
   "metadata": {},
   "outputs": [
    {
     "name": "stdout",
     "output_type": "stream",
     "text": [
      "\n",
      " 求矩阵A的特征值和特征向量\n",
      "Eigenvalues: [-0.25719696  0.44205789  1.13283595]\n",
      "Eigenvectors: [[ 0.5826534  -0.97271055 -0.82047524]\n",
      " [ 0.20666718  0.15195242 -0.37223276]\n",
      " [-0.7860049  -0.1753415  -0.43389303]]\n",
      "\n",
      " A的QR 分解\n",
      "Q = [[-0.91625323  0.20340079 -0.34512047]\n",
      " [-0.01003918 -0.87289783 -0.48779975]\n",
      " [-0.40047376 -0.44348337  0.80183743]]\n",
      "R = [[-0.46915151 -0.99827346 -0.68262217]\n",
      " [ 0.         -0.90006606 -0.14284588]\n",
      " [ 0.          0.         -0.30501732]]\n",
      "\n",
      " A的奇异值分解 (SVD)\n",
      "U = [[-0.68241385  0.7271071   0.07501066]\n",
      " [-0.52753347 -0.41885985 -0.73909733]\n",
      " [-0.50598397 -0.54394089  0.66940909]]\n",
      "S = [1.5353149  0.46527928 0.18030212]\n",
      "V = [[-0.25460174 -0.86188054 -0.43856572]\n",
      " [ 0.44787175 -0.50703282  0.73642964]\n",
      " [ 0.85708159  0.00892493 -0.51510339]]\n",
      "\n",
      " A的矩阵的逆和行列式\n",
      "A^(-1) = [[ 1.16963827 -3.8290705   2.74241059]\n",
      " [-0.40555667  0.71600431  0.90993356]\n",
      " [ 1.13147824  1.59925261 -2.62882587]]\n",
      "det(A) = -0.12879885766719826\n",
      "\n",
      " 求解线性方程组 Ax = b\n",
      "x = [0.08297835 1.22038119 0.10190499]\n"
     ]
    }
   ],
   "source": [
    "\n",
    "# 创建一个随机 3x3 矩阵和一个向量\n",
    "A = np.random.random([3, 3])\n",
    "b = np.ones(3)\n",
    "\n",
    "print(\"\\n 求矩阵A的特征值和特征向量\")\n",
    "eig_val_A, eig_vec_A = np.linalg.eig(A)\n",
    "print(\"Eigenvalues:\", eig_val_A)\n",
    "print(\"Eigenvectors:\", eig_vec_A)\n",
    "\n",
    "print(\"\\n A的QR 分解\")\n",
    "Q, R = np.linalg.qr(A)\n",
    "print(\"Q =\", Q)\n",
    "print(\"R =\", R)\n",
    "\n",
    "print(\"\\n A的奇异值分解 (SVD)\")\n",
    "U, S, V = np.linalg.svd(A)\n",
    "print(\"U =\", U)\n",
    "print(\"S =\", S)\n",
    "print(\"V =\", V)\n",
    "\n",
    "print(\"\\n A的矩阵的逆和行列式\")\n",
    "print(\"A^(-1) =\", np.linalg.inv(A))\n",
    "print(\"det(A) =\", np.linalg.det(A))\n",
    "\n",
    "print(\"\\n 求解线性方程组 Ax = b\")\n",
    "print(\"x =\", np.linalg.solve(A, b))"
   ]
  },
  {
   "cell_type": "markdown",
   "metadata": {},
   "source": [
    "练习13.6\n",
    "使用np. linear . Solve()求解Mx=y中的x，其中M和y的定义如练习1中所示。\n",
    "用于检查:结果应为[-2.56666667 7.83333333 7.53333333]。\n",
    "输出x的2-norm和-无穷norm。(搜索np。linalg文档!)"
   ]
  },
  {
   "cell_type": "code",
   "execution_count": 109,
   "metadata": {},
   "outputs": [
    {
     "name": "stdout",
     "output_type": "stream",
     "text": [
      "x = [-0.41428571  1.37619048 -1.07619048]\n",
      "The 2-norm of x is 1.7954717544037493.\n",
      "The infinity-norm of x is 1.376190476190476.\n"
     ]
    }
   ],
   "source": [
    "M=np.array([[9,3,0],[-2,-2,1],[0,-1,-1]])\n",
    "y = np.array([0.4, -3, -0.3])\n",
    "\n",
    "x = np.linalg.solve(M, y)\n",
    "print(f'x = {x}')\n",
    "# Print the norms\n",
    "print(f'The 2-norm of x is {np.linalg.norm(x, 2)}.')\n",
    "print(f'The infinity-norm of x is {np.linalg.norm(x, np.inf)}.')"
   ]
  },
  {
   "cell_type": "markdown",
   "metadata": {},
   "source": [
    "第十四章：使用 matplotlib.pyplot 绘图\n",
    "14.1. 初次绘图\n",
    "\n",
    "matplotlib 库及其 pyplot 接口包含了大量内置函数，用于数据可视化。我们可以通过以下方式导入绘图工具：\n",
    "import matplotlib.pyplot as plt\n",
    "\n",
    "要绘制基本的线图，我们使用 plt.plot() 函数。例如，绘制函数 x*sin(x) 在 x∈[0,2π] 上的图像："
   ]
  },
  {
   "cell_type": "code",
   "execution_count": 1,
   "metadata": {},
   "outputs": [
    {
     "data": {
      "image/png": "[encoded data removed]",
      "text/plain": [
       "<Figure size 640x480 with 1 Axes>"
      ]
     },
     "metadata": {},
     "output_type": "display_data"
    }
   ],
   "source": [
    "import numpy as np\n",
    "import matplotlib.pyplot as plt\n",
    "# 创建 x 的值，范围从 0 到 2π，共 1000 个点\n",
    "x = np.linspace(0, 2 * np.pi, 1000)\n",
    "\n",
    "# 计算函数值 y\n",
    "y = x * np.sin(x)\n",
    "\n",
    "# 绘制并显示\n",
    "plt.plot(x, y, 'k-')\n",
    "plt.show()\n"
   ]
  },
  {
   "cell_type": "markdown",
   "metadata": {},
   "source": [
    "使用 plt.plot() 定义颜色和线型\n",
    "plt.plot() 的最后一个参数定义了线的颜色和类型，例如 'k-' 表示黑色实线。我们还可以生成散点图，例如将样式字符换成 'kx' 表示黑色叉标记："
   ]
  },
  {
   "cell_type": "code",
   "execution_count": 2,
   "metadata": {},
   "outputs": [
    {
     "data": {
      "image/png": "[encoded data removed]",
      "text/plain": [
       "<Figure size 640x480 with 1 Axes>"
      ]
     },
     "metadata": {},
     "output_type": "display_data"
    }
   ],
   "source": [
    "x = np.linspace(0, 2 * np.pi, 50)\n",
    "y = x * np.sin(x)\n",
    "plt.plot(x, y, 'kx')\n",
    "plt.show()"
   ]
  },
  {
   "cell_type": "markdown",
   "metadata": {},
   "source": [
    "练习 1\n",
    "\n",
    "在区间 x∈[−π,π] 上分别绘制以下函数图像，并尝试不同的颜色和线型：\n",
    "\n",
    "f1x)=sin(x)\n",
    "f2x)=tan( 100/49 *x）\n",
    "f3x)=sin(x)cos(2x)"
   ]
  },
  {
   "cell_type": "code",
   "execution_count": 3,
   "metadata": {},
   "outputs": [
    {
     "data": {
      "image/png": "[encoded data removed]",
      "text/plain": [
       "<Figure size 640x480 with 1 Axes>"
      ]
     },
     "metadata": {},
     "output_type": "display_data"
    }
   ],
   "source": [
    "# Create an x-axis with 1000 points\n",
    "x = np.linspace(-np.pi, np.pi, 1000)\n",
    "\n",
    "# Evaluate the functions at all these points\n",
    "f1 = np.sin(x)\n",
    "f2 = np.tan(0.49 * x)\n",
    "f3 = np.sin(x) * np.cos(2*x)\n",
    "\n",
    "# Create the plots in the same axes\n",
    "plt.plot(x, f1, 'r-.')\n",
    "plt.plot(x, f2, 'g:')\n",
    "plt.plot(x, f3, 'b--')\n",
    "\n",
    "# Display the plot\n",
    "plt.show()"
   ]
  },
  {
   "cell_type": "markdown",
   "metadata": {},
   "source": [
    "14.2. 图像与坐标轴作为对象\n",
    "\n",
    "默认情况下，如果没有已有图像，plt.plot() 会创建一个图像窗口，并添加一组坐标轴。如果再次运行 plt.plot()，则会在相同的坐标轴上重绘。因此，要在不同图像上绘制，我们可以使用 plt.subplots() 创建多个图像："
   ]
  },
  {
   "cell_type": "code",
   "execution_count": 4,
   "metadata": {},
   "outputs": [
    {
     "data": {
      "image/png": "[encoded data removed]",
      "text/plain": [
       "<Figure size 640x480 with 6 Axes>"
      ]
     },
     "metadata": {},
     "output_type": "display_data"
    }
   ],
   "source": [
    "import numpy as np\n",
    "import matplotlib.pyplot as plt\n",
    "\n",
    "# 定义 x\n",
    "x = np.linspace(0, 2 * np.pi, 1000)\n",
    "\n",
    "# 创建图像和坐标轴\n",
    "fig_1, ax_1 = plt.subplots(2, 3)\n",
    "\n",
    "# 绘制到不同的子图\n",
    "ax_1[0, 1].plot(x, np.sin(x), 'm-')\n",
    "ax_1[1, 2].plot(x, np.cos(x), 'c-')\n",
    "\n",
    "# 显示结果\n",
    "plt.show()\n"
   ]
  },
  {
   "cell_type": "markdown",
   "metadata": {},
   "source": [
    "练习 14.2\n",
    "使用 plt.subplots() 函数在一个图像中绘制练习 1 中的三个函数，每个函数一个不同的子图。"
   ]
  },
  {
   "cell_type": "code",
   "execution_count": 5,
   "metadata": {},
   "outputs": [
    {
     "data": {
      "image/png": "[encoded data removed]",
      "text/plain": [
       "<Figure size 1000x400 with 3 Axes>"
      ]
     },
     "metadata": {},
     "output_type": "display_data"
    }
   ],
   "source": [
    "import matplotlib.pyplot as plt\n",
    "import numpy as np\n",
    "\n",
    "# Create an x-axis with 1000 points\n",
    "x = np.linspace(-np.pi, np.pi, 1000)\n",
    "\n",
    "# Evaluate the functions at all these points\n",
    "f1 = np.sin(x)\n",
    "f2 = np.tan(0.49 * x)\n",
    "f3 = np.sin(x) * np.cos(2*x)\n",
    "\n",
    "# Create a figure with 3 subplots\n",
    "fig, ax = plt.subplots(1, 3, figsize=(10, 4))\n",
    "\n",
    "# Plot each function in a different subplot\n",
    "ax[0].plot(x, f1, 'r-.')\n",
    "ax[1].plot(x, f2, 'g:')\n",
    "ax[2].plot(x, f3, 'b--')\n",
    "\n",
    "# Display the plot\n",
    "plt.show()"
   ]
  }
 ],
 "metadata": {
  "kernelspec": {
   "display_name": "base",
   "language": "python",
   "name": "python3"
  },
  "language_info": {
   "codemirror_mode": {
    "name": "ipython",
    "version": 3
   },
   "file_extension": ".py",
   "mimetype": "text/x-python",
   "name": "python",
   "nbconvert_exporter": "python",
   "pygments_lexer": "ipython3",
   "version": "3.11.5"
  }
 },
 "nbformat": 4,
 "nbformat_minor": 2
}
