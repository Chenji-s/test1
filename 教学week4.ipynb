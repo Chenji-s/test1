{
 "cells": [
  {
   "cell_type": "markdown",
   "metadata": {},
   "source": [
    "第十一章：输入和输出"
   ]
  },
  {
   "cell_type": "markdown",
   "metadata": {},
   "source": [
    "11.1 标准输入\n",
    "有时，我们需要让用户以交互方式输入一些内容。我们可以使用 input() 函数来实现这一点——你在测验Q1的问题中已经看到了这种用法。\n",
    "\n",
    "input() 接受一个字符串作为参数，该字符串将作为提示显示给用户。用户将被提示输入一个值并按下回车键，这个值将作为字符串 str 被返回。"
   ]
  },
  {
   "cell_type": "code",
   "execution_count": 1,
   "metadata": {},
   "outputs": [
    {
     "name": "stdout",
     "output_type": "stream",
     "text": [
      "liy\n",
      "<class 'str'>\n"
     ]
    }
   ],
   "source": [
    "# 让用户输入一个数字，并将其赋值给变量\n",
    "your_number = input('请输入一个数字并按回车：')\n",
    "print(your_number)\n",
    "print(type(your_number))"
   ]
  },
  {
   "cell_type": "code",
   "execution_count": 3,
   "metadata": {},
   "outputs": [
    {
     "name": "stdout",
     "output_type": "stream",
     "text": [
      "2.0\n",
      "<class 'float'>\n"
     ]
    }
   ],
   "source": [
    "#如果你要求的是数字数据，那么需要将返回的值 转换 成 int 或 float。\n",
    "your_number = float(input('请输入一个数字并按回车：'))\n",
    "print(f'{your_number} 除以 3 的结果是 {your_number / 3}.')"
   ]
  },
  {
   "cell_type": "markdown",
   "metadata": {},
   "source": [
    "Exercise 11.1\n",
    "以下代码生成了一个 1 到 100 之间的随机整数 target。你需要编写一个数字猜谜游戏的代码：询问用户的初始猜测，并告诉他们猜的数字太大、太小，还是猜对了。如果没猜对，则继续询问他们再次猜测，直到找到正确的数字。\n",
    "提示：你需要使用 while 循环。\n"
   ]
  },
  {
   "cell_type": "code",
   "execution_count": 13,
   "metadata": {},
   "outputs": [
    {
     "name": "stdout",
     "output_type": "stream",
     "text": [
      "17\n",
      "17 正确.\n"
     ]
    }
   ],
   "source": [
    "import numpy as np\n",
    "\n",
    "rng = np.random.default_rng()\n",
    "target = rng.integers(1, 101)\n",
    "print(target)\n",
    "number = float(input('请输入一个数字并按回车：'))\n",
    "while True:\n",
    "    if number<target:\n",
    "        number=int(input('比该数小，重新输入：'))\n",
    "    elif number>target:\n",
    "        number=int(input('比该数大，重新输入：'))\n",
    "    else:  \n",
    "        print(f'{number} 正确.')\n",
    "        break"
   ]
  },
  {
   "cell_type": "markdown",
   "metadata": {},
   "source": [
    "11.2 文件读取\n",
    "Python 在处理数据方面表现出色——这是过去十年左右它受到广泛关注的原因之一。我们可以处理多种不同类型的数据，如文本、二进制文件、电子表格等。而且还有多种方式从文件中访问数据，并将结果保存到文件中。\n",
    "\n",
    "我们将首先讨论如何从 文本 文件中打开并读取数据。课程后面我们会学到更多关于处理其他文件类型的方法（如 CSV 文件、二进制文件等）。\n",
    "\n",
    "11.2.1 基础文件处理\n",
    "\n",
    "你可以使用 open() 函数以不同的模式打开一个文件。打开文件后，我们可以逐行读取文件内容。以下是如何以“读取”模式打开一个文件，并使用 .readline() 方法逐行读取内容："
   ]
  },
  {
   "cell_type": "code",
   "execution_count": 17,
   "metadata": {},
   "outputs": [
    {
     "name": "stdout",
     "output_type": "stream",
     "text": [
      "Hello, I am text for your Python Programming Course. This is my first line.\n",
      "\n",
      "I want to tell you: YOU ARE WONDERFUL! Now I am finishing my second line.\n",
      "\n"
     ]
    }
   ],
   "source": [
    "#注意路径\n",
    "\n",
    "with open('/Users/chenji/Desktop/编程/week4/mytextfile.txt', 'r') as myfile:\n",
    "    print(myfile.readline())   # 读取第一行\n",
    "    print(myfile.readline())   # 读取第二行"
   ]
  },
  {
   "cell_type": "markdown",
   "metadata": {},
   "source": [
    "2.2 使用 with 语句\n",
    "\n",
    "使用 with 语句时，我们不需要显式地关闭文件。当退出 with 语句时，文件会自动关闭，这使得代码更加整洁。下面是如何使用 with 来处理文件的例子："
   ]
  },
  {
   "cell_type": "code",
   "execution_count": 18,
   "metadata": {},
   "outputs": [
    {
     "name": "stdout",
     "output_type": "stream",
     "text": [
      "Hello, I am text for your Python Programming Course. This is my first line.\n",
      "I want to tell you: YOU ARE WONDERFUL! Now I am finishing my second line.\n",
      "It is rude not to say goodbye, so I am finishing my third line by saying BYE!\n"
     ]
    }
   ],
   "source": [
    "with open('/Users/chenji/Desktop/编程/week4/mytextfile.txt', 'r') as myfile:\n",
    "    for line in myfile:\n",
    "        print(line.strip())  # 输出每行内容"
   ]
  },
  {
   "cell_type": "markdown",
   "metadata": {},
   "source": [
    "Exercise 11.2\n",
    "完成下面的代码，依次读取文件中的所有行，直到文件末尾，并将它们存储在列表all_lines中。您既可以使用.readlines()(搜索文档!)，也可以使用.readline()使用while循环逐行读取文本。"
   ]
  },
  {
   "cell_type": "code",
   "execution_count": 26,
   "metadata": {},
   "outputs": [
    {
     "name": "stdout",
     "output_type": "stream",
     "text": [
      "['Hello, I am text for your Python Programming Course. This is my first line.\\n', 'I want to tell you: YOU ARE WONDERFUL! Now I am finishing my second line.\\n', 'It is rude not to say goodbye, so I am finishing my third line by saying BYE!\\n']\n"
     ]
    }
   ],
   "source": [
    "#第一种方法:使用'readline'\n",
    "with open('/Users/chenji/Desktop/编程/week4/mytextfile.txt', 'r') as myfile:\n",
    "    # 初始化一个空列表来存储行\n",
    "    all_lines = []\n",
    "\n",
    "    # 如果line为空，则到达文件结束\n",
    "    while True:\n",
    "        line = myfile.readline()\n",
    "        # 当到达空行时中断循环(记住布尔类型转换!)\n",
    "        if not line:\n",
    "            break\n",
    "        # 如果仍然有非空行，则追加到列表\n",
    "        all_lines.append(line)\n",
    "print(all_lines)"
   ]
  },
  {
   "cell_type": "markdown",
   "metadata": {},
   "source": [
    "3 写入文件\n",
    "我们还可以将文本写入文件，这通常是存储计算结果的好方法，因为我们常常需要计算出答案并能够以后参考。\n",
    "\n",
    "在 Python 中，我们可以通过使用 open() 函数并传入参数 'w'（代表“写模式”）来创建一个新的文本文件并打开它。我们需要将输出写入文件中，而不是显示在屏幕上。以下是如何操作的示例——使用文件对象的 .write() 方法：\n"
   ]
  },
  {
   "cell_type": "code",
   "execution_count": null,
   "metadata": {},
   "outputs": [],
   "source": [
    "text1 = 'Here is the text to write into the file.'\n",
    "text2 = 'Here is the second line of text to write into the file.'\n",
    "\n",
    "#with open('mytextfile_new.txt', 'w') as mynewfile:\n",
    "    #mynewfile.write(text1 + '\\n')\n",
    "    #mynewfile.write(text2 + '\\n')"
   ]
  },
  {
   "cell_type": "markdown",
   "metadata": {},
   "source": [
    "练习 11.3\n",
    "编写代码逐行读取 mytextfile.txt 的内容，并在每一行前添加行号和 ': '。"
   ]
  },
  {
   "cell_type": "code",
   "execution_count": null,
   "metadata": {},
   "outputs": [],
   "source": [
    "# Read the file, store the lines in a list\n",
    "with open('/Users/chenji/Desktop/编程/week4/mytextfile.txt', 'r') as myfile:\n",
    "    all_lines = myfile.readlines()\n",
    "\n",
    "with open('textfile_linenumber.txt', 'w') as newfile:\n",
    "    count = 1\n",
    "    for line in all_lines:\n",
    "        newfile.write(f'{count}: {line}')\n",
    "        count += 1"
   ]
  },
  {
   "cell_type": "markdown",
   "metadata": {},
   "source": [
    "第十二章：命名空间和作用域\n",
    "命名空间和作用域是理解 Python 中非常重要的概念，尤其是在你已经学会编写自己的函数，并且开始使用更多模块时。\n",
    "\n",
    "1. 命名空间\n",
    "\n",
    "大致来说，命名空间 是名称的集合，以及它们所指向的对象。它是 Python 用来根据名称查找内存中对象的表。\n",
    "如果我们再次使用抽屉或盒子的类比，给盒子贴上一个新标签就是将这个名称添加到命名空间\n",
    "。\n",
    "在这个例子中，我们首先将名称 a 和 b 添加到命名空间——也就是说，我们在内存中的两个盒子上贴上了 a 和 b 的标签。然后，当我们让 Python 计算并打印 a + b 时，它会查看命名空间来找到名为 a 和 b 的盒子。同时，它也会查找名为 print 的盒子（这个盒子里装着能够让我们将内容显示到屏幕上的函数）。\n",
    "\n",
    "由于 d 不在命名空间中（没有名为 d 的盒子），Python 无法找到它，因此会返回 NameError 错误。"
   ]
  },
  {
   "cell_type": "code",
   "execution_count": 27,
   "metadata": {},
   "outputs": [
    {
     "name": "stdout",
     "output_type": "stream",
     "text": [
      "7\n"
     ]
    },
    {
     "ename": "NameError",
     "evalue": "name 'd' is not defined",
     "output_type": "error",
     "traceback": [
      "\u001b[0;31m---------------------------------------------------------------------------\u001b[0m",
      "\u001b[0;31mNameError\u001b[0m                                 Traceback (most recent call last)",
      "Cell \u001b[0;32mIn[27], line 4\u001b[0m\n\u001b[1;32m      2\u001b[0m b \u001b[38;5;241m=\u001b[39m \u001b[38;5;241m2\u001b[39m\n\u001b[1;32m      3\u001b[0m \u001b[38;5;28mprint\u001b[39m(a \u001b[38;5;241m+\u001b[39m b)\n\u001b[0;32m----> 4\u001b[0m \u001b[38;5;28mprint\u001b[39m(d)\n",
      "\u001b[0;31mNameError\u001b[0m: name 'd' is not defined"
     ]
    }
   ],
   "source": [
    "a = 5\n",
    "b = 2\n",
    "print(a + b)\n",
    "print(d)\n"
   ]
  },
  {
   "cell_type": "markdown",
   "metadata": {},
   "source": [
    "2. 作用域\n",
    "\n",
    "当你运行一个 Python 脚本时，通常会创建多个命名空间。作用域 是代码中的一个部分，你可以从中访问某个命名空间——也就是说，你可以在该作用域中通过直接输入名称来找到该命名空间中的对象。\n",
    "\n",
    "通过一个例子来解释作用域会更为清晰："
   ]
  },
  {
   "cell_type": "code",
   "execution_count": null,
   "metadata": {},
   "outputs": [
    {
     "name": "stdout",
     "output_type": "stream",
     "text": [
      "['Hello, I am text for your Python Programming Course. This is my first line.\\n', 'I want to tell you: YOU ARE WONDERFUL! Now I am finishing my second line.\\n', 'It is rude not to say goodbye, so I am finishing my third line by saying BYE!\\n']\n"
     ]
    }
   ],
   "source": [
    "#第一种方法:使用'readline'\n",
    "with open('/Users/chenji/Desktop/编程/week4/mytextfile.txt', 'r') as myfile:\n",
    "    # 初始化一个空列表来存储行\n",
    "    all_lines = []\n",
    "\n",
    "    # 如果line为空，则到达文件结束\n",
    "    while True:\n",
    "        line = myfile.readline()\n",
    "        # 当到达空行时中断循环(记住布尔类型转换!)\n",
    "        if not line:\n",
    "            break\n",
    "        # 如果仍然有非空行，则追加到列表\n",
    "        all_lines.append(line)\n",
    "print(all_lines)"
   ]
  },
  {
   "cell_type": "markdown",
   "metadata": {},
   "source": [
    "第十二章：命名空间和作用域\n",
    "命名空间和作用域是理解 Python 中非常重要的概念，尤其是在你已经学会编写自己的函数，并且开始使用更多模块时。\n",
    "\n",
    "12.1. 命名空间\n",
    "\n",
    "大致来说，命名空间 是名称的集合，以及它们所指向的对象。它是 Python 用来根据名称查找内存中对象的表。\n",
    "如果我们再次使用抽屉或盒子的类比，给盒子贴上一个新标签就是将这个名称添加到命名空间。\n",
    "在这个例子中，我们首先将名称 a 和 b 添加到命名空间——也就是说，我们在内存中的两个盒子上贴上了 a 和 b 的标签。然后，当我们让 Python 计算并打印 a + b 时，它会查看命名空间来找到名为 a 和 b 的盒子。同时，它也会查找名为 print 的盒子（这个盒子里装着能够让我们将内容显示到屏幕上的函数）。\n",
    "\n",
    "由于 d 不在命名空间中（没有名为 d 的盒子），Python 无法找到它，因此会返回 NameError 错误。\n",
    "\n"
   ]
  },
  {
   "cell_type": "code",
   "execution_count": null,
   "metadata": {},
   "outputs": [],
   "source": [
    "a = 5\n",
    "b = 2\n",
    "print(a + b)\n",
    "print(d)"
   ]
  },
  {
   "cell_type": "markdown",
   "metadata": {},
   "source": [
    "11.2. 作用域\n",
    "当你运行一个 Python 脚本时，通常会创建多个命名空间。作用域 是代码中的一个部分，你可以从中访问某个命名空间——也就是说，你可以在该作用域中通过直接输入名称来找到该命名空间中的对象。\n",
    "通过一个例子来解释作用域会更为清晰：\n",
    "\n",
    "在这个代码中，函数 func() 在被调用时，会创建一个命名空间。所有在函数内创建的变量（如 inside）都会添加到函数的命名空间中。我们可以在函数内使用这些变量，比如在第 7 行打印 inside。此时代码在局部作用域中运行。\n",
    "需要注意的是，即使 outside 变量不属于函数的命名空间，我们仍然可以在函数内部打印 outside。这是因为 outside 是在全局作用域中定义的。如果 Python 在局部作用域中找不到 outside，它会在全局作用域中寻找。\n",
    "\n"
   ]
  },
  {
   "cell_type": "code",
   "execution_count": 29,
   "metadata": {},
   "outputs": [
    {
     "name": "stdout",
     "output_type": "stream",
     "text": [
      "Inside the function...\n",
      "7\n",
      "2\n",
      "Now we are outside...\n",
      "7\n"
     ]
    }
   ],
   "source": [
    "outside = 7\n",
    "\n",
    "def func():\n",
    "    inside = 2\n",
    "    print('Inside the function...')\n",
    "    print(outside)\n",
    "    print(inside)\n",
    "\n",
    "func()\n",
    "\n",
    "print('Now we are outside...')\n",
    "print(outside)\n",
    "print(inside)"
   ]
  },
  {
   "cell_type": "code",
   "execution_count": 31,
   "metadata": {},
   "outputs": [
    {
     "name": "stdout",
     "output_type": "stream",
     "text": [
      "7\n",
      "1\n"
     ]
    }
   ],
   "source": [
    "outside = 7\n",
    "def func():\n",
    "    print(outside)\n",
    "\n",
    "def func2():\n",
    "    print(outside)\n",
    "    outside = 1\n",
    "   \n",
    "func()\n",
    "func2()\n",
    "#运行此代码时，func2() 将引发错误，因为在该函数中，Python 会首先在局部作用域中找到 outside，\n",
    "# 但它在找到前就试图打印出 outside 的值，而此时变量还未被赋值。"
   ]
  },
  {
   "cell_type": "markdown",
   "metadata": {},
   "source": [
    "练习12.1\n",
    "考虑以下代码。在标记为 # 1, # 2, # 3, # 4, # 5 的行中，哪些变量 a, b, c, d 是可用的？它们的值是什么？\n"
   ]
  },
  {
   "cell_type": "code",
   "execution_count": 36,
   "metadata": {},
   "outputs": [
    {
     "name": "stdout",
     "output_type": "stream",
     "text": [
      "10\n",
      "10 10\n"
     ]
    }
   ],
   "source": [
    "\n",
    "a = 10\n",
    "\n",
    "def outer_function():\n",
    "    b = 8.4\n",
    "    # 1\n",
    "\n",
    "    def inner_function():\n",
    "        c = -0.3\n",
    "        # 2 在这里，我们不能访问c，因为它只有可用在inner_function()的作用域中\n",
    "        return c\n",
    "    \n",
    "    d = inner_function()\n",
    "    # 3\n",
    "\n",
    "    return a\n",
    "\n",
    "# 4\n",
    "print(a)\n",
    "b = outer_function()\n",
    "# 5\n",
    "print(a, b)"
   ]
  }
 ],
 "metadata": {
  "kernelspec": {
   "display_name": "Python 3",
   "language": "python",
   "name": "python3"
  },
  "language_info": {
   "codemirror_mode": {
    "name": "ipython",
    "version": 3
   },
   "file_extension": ".py",
   "mimetype": "text/x-python",
   "name": "python",
   "nbconvert_exporter": "python",
   "pygments_lexer": "ipython3",
   "version": "3.11.5"
  }
 },
 "nbformat": 4,
 "nbformat_minor": 2
}
